{
  "nbformat": 4,
  "nbformat_minor": 0,
  "metadata": {
    "colab": {
      "provenance": [],
      "authorship_tag": "ABX9TyPI6BMZ6VycWu/zGTdBUnSU"
    },
    "kernelspec": {
      "name": "python3",
      "display_name": "Python 3"
    },
    "language_info": {
      "name": "python"
    }
  },
  "cells": [
    {
      "cell_type": "code",
      "execution_count": 22,
      "metadata": {
        "id": "GlQppM-Oq8gE"
      },
      "outputs": [],
      "source": [
        "import numpy as np\n",
        "\n",
        "def quantum_number_representation(occupation, orbitals):\n",
        "    \"\"\"\n",
        "    Generates the electron configuration with quantum numbers encoded for each orbital.\n",
        "\n",
        "    Args:\n",
        "        occupation (str): Binary string representing occupation state of orbitals.\n",
        "        orbitals (list): List of orbitals with their quantum numbers in the format (n, l, j, m_j).\n",
        "\n",
        "    Returns:\n",
        "        list: A list of tuples with the orbital quantum numbers and occupation state.\n",
        "    \"\"\"\n",
        "    if len(occupation) != len(orbitals):\n",
        "        raise ValueError(\"Occupation string length must match the number of orbitals.\")\n",
        "\n",
        "    electronic_structure = []\n",
        "    for state, orbital in zip(occupation, orbitals):\n",
        "        n, l, j, m_j = orbital\n",
        "        electronic_structure.append({\n",
        "            \"n\": n,\n",
        "            \"l\": l,\n",
        "            \"j\": j,\n",
        "            \"mj\": m_j,\n",
        "            \"occupied\": bool(int(state)),\n",
        "        })\n",
        "\n",
        "    return electronic_structure\n",
        "\n",
        "def generate_orbitals(max_n):\n",
        "    \"\"\"\n",
        "    Generates a list of orbitals with quantum numbers for the given maximum principal quantum number.\n",
        "\n",
        "    Args:\n",
        "        max_n (int): Maximum value of the principal quantum number n.\n",
        "\n",
        "    Returns:\n",
        "        list: A list of orbitals with their quantum numbers.\n",
        "    \"\"\"\n",
        "    orbitals = []\n",
        "    for n in range(1, max_n + 1):\n",
        "        for l in range(0, n):\n",
        "            # For each l, include all possible j and m_j values\n",
        "            j = l + 0.5\n",
        "            m_j_values = np.arange(-j, j + 1, 1)\n",
        "            for m_j in m_j_values:\n",
        "                orbitals.append((n, l, j, m_j))\n",
        "    return orbitals\n",
        "\n",
        "def generate_s_orbitals(max_n):\n",
        "    \"\"\"\n",
        "    Generates a list of orbitals with quantum numbers for the given maximum principal quantum number.\n",
        "\n",
        "    Args:\n",
        "        max_n (int): Maximum value of the principal quantum number n.\n",
        "\n",
        "    Returns:\n",
        "        list: A list of orbitals with their quantum numbers.\n",
        "    \"\"\"\n",
        "    orbitals = []\n",
        "    for n in range(1, max_n + 1):\n",
        "        for l in range(0, 1):\n",
        "            # For each l, include all possible j and m_j values\n",
        "            j = l + 0.5\n",
        "            m_j_values = np.arange(-j, j + 1, 1)\n",
        "            for m_j in m_j_values:\n",
        "                orbitals.append((n, l, j, m_j))\n",
        "    return orbitals\n",
        "\n",
        "\n",
        "def main():\n",
        "    # Example for He atom in Hartree-Fock (HF) state\n",
        "    # Binary representation of occupation states |110000>\n",
        "    occupation = \"110000\"\n",
        "\n",
        "    # Define maximum principal quantum number for virtual orbitals\n",
        "    max_n = 3\n",
        "\n",
        "    # Generate orbitals up to the specified maximum n\n",
        "    orbitals = generate_s_orbitals(max_n)\n",
        "\n",
        "    # Get the electronic structure\n",
        "    electronic_structure = quantum_number_representation(occupation, orbitals)\n",
        "    # print(electronic_structure)\n",
        "    # Print the electronic structure\n",
        "    print(\"Quantum Numbers for state:\")\n",
        "    for orbital in electronic_structure:\n",
        "        occupied_state = \"Occupied\" if orbital[\"occupied\"] else \"Unoccupied\"\n",
        "        # print(f\"n={orbital['n']}, l={orbital['l']}, j={orbital['j']}, m_j={orbital['mj']} - {occupied_state}\")\n",
        "        print(orbital)\n"
      ]
    },
    {
      "cell_type": "code",
      "source": [
        "if __name__ == \"__main__\":\n",
        "    main()"
      ],
      "metadata": {
        "colab": {
          "base_uri": "https://localhost:8080/"
        },
        "id": "pElCVzDNtlTc",
        "outputId": "cd2813f5-75ea-4f15-b919-a3f38e25bde6"
      },
      "execution_count": 23,
      "outputs": [
        {
          "output_type": "stream",
          "name": "stdout",
          "text": [
            "Quantum Numbers for state:\n",
            "{'n': 1, 'l': 0, 'j': 0.5, 'mj': -0.5, 'occupied': True}\n",
            "{'n': 1, 'l': 0, 'j': 0.5, 'mj': 0.5, 'occupied': True}\n",
            "{'n': 2, 'l': 0, 'j': 0.5, 'mj': -0.5, 'occupied': False}\n",
            "{'n': 2, 'l': 0, 'j': 0.5, 'mj': 0.5, 'occupied': False}\n",
            "{'n': 3, 'l': 0, 'j': 0.5, 'mj': -0.5, 'occupied': False}\n",
            "{'n': 3, 'l': 0, 'j': 0.5, 'mj': 0.5, 'occupied': False}\n"
          ]
        }
      ]
    },
    {
      "cell_type": "code",
      "source": [
        "from itertools import combinations\n",
        "\n",
        "def generate_excited_states(hf_state, verbos=True):\n",
        "    n_orbitals = len(hf_state)\n",
        "    occupied_indices = [i for i, bit in enumerate(hf_state) if bit == '1']\n",
        "    unoccupied_indices = [i for i, bit in enumerate(hf_state) if bit == '0']\n",
        "\n",
        "    excited_states = set()\n",
        "\n",
        "    # Single excitations\n",
        "    for occ in occupied_indices:\n",
        "        for unocc in unoccupied_indices:\n",
        "            state = list(hf_state)\n",
        "            state[occ], state[unocc] = '0', '1'\n",
        "            if verbos==True:\n",
        "                if parity_check(state)==True:\n",
        "                    excited_states.add(\"\".join(state))\n",
        "            else:\n",
        "                excited_states.add(\"\".join(state))\n",
        "\n",
        "    # Double excitations\n",
        "    for occ_pair in combinations(occupied_indices, 2):\n",
        "        for unocc_pair in combinations(unoccupied_indices, 2):\n",
        "            state = list(hf_state)\n",
        "            for occ in occ_pair:\n",
        "                state[occ] = '0'\n",
        "            for unocc in unocc_pair:\n",
        "                state[unocc] = '1'\n",
        "            if verbos==True:\n",
        "                if parity_check(state)==True:\n",
        "                    excited_states.add(\"\".join(state))\n",
        "            else:\n",
        "                excited_states.add(\"\".join(state))\n",
        "\n",
        "    # # Triple excitations\n",
        "    # for occ_triplet in combinations(occupied_indices, 3):\n",
        "    #     for unocc_triplet in combinations(unoccupied_indices, 3):\n",
        "    #         state = list(hf_state)\n",
        "    #         for occ in occ_triplet:\n",
        "    #             state[occ] = '0'\n",
        "    #         for unocc in unocc_triplet:\n",
        "    #             state[unocc] = '1'\n",
        "    #         if verbos==True:\n",
        "    #             if parity_check(state)==True:\n",
        "    #                 excited_states.add(\"\".join(state))\n",
        "    #         else:\n",
        "    #             excited_states.add(\"\".join(state))\n",
        "\n",
        "\n",
        "    # # Quadruple excitations\n",
        "    # for occ_quadruplet in combinations(occupied_indices, 4):\n",
        "    #     for unocc_quadruplet in combinations(unoccupied_indices, 4):\n",
        "    #         state = list(hf_state)\n",
        "    #         for occ in occ_quadruplet:\n",
        "    #             state[occ] = '0'\n",
        "    #         for unocc in unocc_quadruplet:\n",
        "    #             state[unocc] = '1'\n",
        "    #         if verbos==True:\n",
        "    #             if parity_check(state)==True:\n",
        "    #                 excited_states.add(\"\".join(state))\n",
        "    #         else:\n",
        "    #             excited_states.add(\"\".join(state))\n",
        "\n",
        "\n",
        "    return sorted(excited_states)\n"
      ],
      "metadata": {
        "id": "H9VqwGLouWUX"
      },
      "execution_count": 24,
      "outputs": []
    },
    {
      "cell_type": "code",
      "source": [
        "hf_state = \"110000\"\n",
        "excited_state  = generate_excited_states(hf_state, False)\n",
        "excited_state"
      ],
      "metadata": {
        "colab": {
          "base_uri": "https://localhost:8080/"
        },
        "id": "w8_5jDsjwGCU",
        "outputId": "182d89e7-917c-466e-8615-caf130290972"
      },
      "execution_count": 25,
      "outputs": [
        {
          "output_type": "execute_result",
          "data": {
            "text/plain": [
              "['000011',\n",
              " '000101',\n",
              " '000110',\n",
              " '001001',\n",
              " '001010',\n",
              " '001100',\n",
              " '010001',\n",
              " '010010',\n",
              " '010100',\n",
              " '011000',\n",
              " '100001',\n",
              " '100010',\n",
              " '100100',\n",
              " '101000']"
            ]
          },
          "metadata": {},
          "execution_count": 25
        }
      ]
    },
    {
      "cell_type": "code",
      "source": [
        "max_n = 3\n",
        "orbitals = generate_s_orbitals(max_n)\n",
        "for state in excited_state:\n",
        "    print(quantum_number_representation(state, orbitals))"
      ],
      "metadata": {
        "colab": {
          "base_uri": "https://localhost:8080/"
        },
        "id": "XCx7Jfe2wiu9",
        "outputId": "5bf3fbc3-433f-4841-9392-f369aba3f662"
      },
      "execution_count": 26,
      "outputs": [
        {
          "output_type": "stream",
          "name": "stdout",
          "text": [
            "[{'n': 1, 'l': 0, 'j': 0.5, 'mj': -0.5, 'occupied': False}, {'n': 1, 'l': 0, 'j': 0.5, 'mj': 0.5, 'occupied': False}, {'n': 2, 'l': 0, 'j': 0.5, 'mj': -0.5, 'occupied': False}, {'n': 2, 'l': 0, 'j': 0.5, 'mj': 0.5, 'occupied': False}, {'n': 3, 'l': 0, 'j': 0.5, 'mj': -0.5, 'occupied': True}, {'n': 3, 'l': 0, 'j': 0.5, 'mj': 0.5, 'occupied': True}]\n",
            "[{'n': 1, 'l': 0, 'j': 0.5, 'mj': -0.5, 'occupied': False}, {'n': 1, 'l': 0, 'j': 0.5, 'mj': 0.5, 'occupied': False}, {'n': 2, 'l': 0, 'j': 0.5, 'mj': -0.5, 'occupied': False}, {'n': 2, 'l': 0, 'j': 0.5, 'mj': 0.5, 'occupied': True}, {'n': 3, 'l': 0, 'j': 0.5, 'mj': -0.5, 'occupied': False}, {'n': 3, 'l': 0, 'j': 0.5, 'mj': 0.5, 'occupied': True}]\n",
            "[{'n': 1, 'l': 0, 'j': 0.5, 'mj': -0.5, 'occupied': False}, {'n': 1, 'l': 0, 'j': 0.5, 'mj': 0.5, 'occupied': False}, {'n': 2, 'l': 0, 'j': 0.5, 'mj': -0.5, 'occupied': False}, {'n': 2, 'l': 0, 'j': 0.5, 'mj': 0.5, 'occupied': True}, {'n': 3, 'l': 0, 'j': 0.5, 'mj': -0.5, 'occupied': True}, {'n': 3, 'l': 0, 'j': 0.5, 'mj': 0.5, 'occupied': False}]\n",
            "[{'n': 1, 'l': 0, 'j': 0.5, 'mj': -0.5, 'occupied': False}, {'n': 1, 'l': 0, 'j': 0.5, 'mj': 0.5, 'occupied': False}, {'n': 2, 'l': 0, 'j': 0.5, 'mj': -0.5, 'occupied': True}, {'n': 2, 'l': 0, 'j': 0.5, 'mj': 0.5, 'occupied': False}, {'n': 3, 'l': 0, 'j': 0.5, 'mj': -0.5, 'occupied': False}, {'n': 3, 'l': 0, 'j': 0.5, 'mj': 0.5, 'occupied': True}]\n",
            "[{'n': 1, 'l': 0, 'j': 0.5, 'mj': -0.5, 'occupied': False}, {'n': 1, 'l': 0, 'j': 0.5, 'mj': 0.5, 'occupied': False}, {'n': 2, 'l': 0, 'j': 0.5, 'mj': -0.5, 'occupied': True}, {'n': 2, 'l': 0, 'j': 0.5, 'mj': 0.5, 'occupied': False}, {'n': 3, 'l': 0, 'j': 0.5, 'mj': -0.5, 'occupied': True}, {'n': 3, 'l': 0, 'j': 0.5, 'mj': 0.5, 'occupied': False}]\n",
            "[{'n': 1, 'l': 0, 'j': 0.5, 'mj': -0.5, 'occupied': False}, {'n': 1, 'l': 0, 'j': 0.5, 'mj': 0.5, 'occupied': False}, {'n': 2, 'l': 0, 'j': 0.5, 'mj': -0.5, 'occupied': True}, {'n': 2, 'l': 0, 'j': 0.5, 'mj': 0.5, 'occupied': True}, {'n': 3, 'l': 0, 'j': 0.5, 'mj': -0.5, 'occupied': False}, {'n': 3, 'l': 0, 'j': 0.5, 'mj': 0.5, 'occupied': False}]\n",
            "[{'n': 1, 'l': 0, 'j': 0.5, 'mj': -0.5, 'occupied': False}, {'n': 1, 'l': 0, 'j': 0.5, 'mj': 0.5, 'occupied': True}, {'n': 2, 'l': 0, 'j': 0.5, 'mj': -0.5, 'occupied': False}, {'n': 2, 'l': 0, 'j': 0.5, 'mj': 0.5, 'occupied': False}, {'n': 3, 'l': 0, 'j': 0.5, 'mj': -0.5, 'occupied': False}, {'n': 3, 'l': 0, 'j': 0.5, 'mj': 0.5, 'occupied': True}]\n",
            "[{'n': 1, 'l': 0, 'j': 0.5, 'mj': -0.5, 'occupied': False}, {'n': 1, 'l': 0, 'j': 0.5, 'mj': 0.5, 'occupied': True}, {'n': 2, 'l': 0, 'j': 0.5, 'mj': -0.5, 'occupied': False}, {'n': 2, 'l': 0, 'j': 0.5, 'mj': 0.5, 'occupied': False}, {'n': 3, 'l': 0, 'j': 0.5, 'mj': -0.5, 'occupied': True}, {'n': 3, 'l': 0, 'j': 0.5, 'mj': 0.5, 'occupied': False}]\n",
            "[{'n': 1, 'l': 0, 'j': 0.5, 'mj': -0.5, 'occupied': False}, {'n': 1, 'l': 0, 'j': 0.5, 'mj': 0.5, 'occupied': True}, {'n': 2, 'l': 0, 'j': 0.5, 'mj': -0.5, 'occupied': False}, {'n': 2, 'l': 0, 'j': 0.5, 'mj': 0.5, 'occupied': True}, {'n': 3, 'l': 0, 'j': 0.5, 'mj': -0.5, 'occupied': False}, {'n': 3, 'l': 0, 'j': 0.5, 'mj': 0.5, 'occupied': False}]\n",
            "[{'n': 1, 'l': 0, 'j': 0.5, 'mj': -0.5, 'occupied': False}, {'n': 1, 'l': 0, 'j': 0.5, 'mj': 0.5, 'occupied': True}, {'n': 2, 'l': 0, 'j': 0.5, 'mj': -0.5, 'occupied': True}, {'n': 2, 'l': 0, 'j': 0.5, 'mj': 0.5, 'occupied': False}, {'n': 3, 'l': 0, 'j': 0.5, 'mj': -0.5, 'occupied': False}, {'n': 3, 'l': 0, 'j': 0.5, 'mj': 0.5, 'occupied': False}]\n",
            "[{'n': 1, 'l': 0, 'j': 0.5, 'mj': -0.5, 'occupied': True}, {'n': 1, 'l': 0, 'j': 0.5, 'mj': 0.5, 'occupied': False}, {'n': 2, 'l': 0, 'j': 0.5, 'mj': -0.5, 'occupied': False}, {'n': 2, 'l': 0, 'j': 0.5, 'mj': 0.5, 'occupied': False}, {'n': 3, 'l': 0, 'j': 0.5, 'mj': -0.5, 'occupied': False}, {'n': 3, 'l': 0, 'j': 0.5, 'mj': 0.5, 'occupied': True}]\n",
            "[{'n': 1, 'l': 0, 'j': 0.5, 'mj': -0.5, 'occupied': True}, {'n': 1, 'l': 0, 'j': 0.5, 'mj': 0.5, 'occupied': False}, {'n': 2, 'l': 0, 'j': 0.5, 'mj': -0.5, 'occupied': False}, {'n': 2, 'l': 0, 'j': 0.5, 'mj': 0.5, 'occupied': False}, {'n': 3, 'l': 0, 'j': 0.5, 'mj': -0.5, 'occupied': True}, {'n': 3, 'l': 0, 'j': 0.5, 'mj': 0.5, 'occupied': False}]\n",
            "[{'n': 1, 'l': 0, 'j': 0.5, 'mj': -0.5, 'occupied': True}, {'n': 1, 'l': 0, 'j': 0.5, 'mj': 0.5, 'occupied': False}, {'n': 2, 'l': 0, 'j': 0.5, 'mj': -0.5, 'occupied': False}, {'n': 2, 'l': 0, 'j': 0.5, 'mj': 0.5, 'occupied': True}, {'n': 3, 'l': 0, 'j': 0.5, 'mj': -0.5, 'occupied': False}, {'n': 3, 'l': 0, 'j': 0.5, 'mj': 0.5, 'occupied': False}]\n",
            "[{'n': 1, 'l': 0, 'j': 0.5, 'mj': -0.5, 'occupied': True}, {'n': 1, 'l': 0, 'j': 0.5, 'mj': 0.5, 'occupied': False}, {'n': 2, 'l': 0, 'j': 0.5, 'mj': -0.5, 'occupied': True}, {'n': 2, 'l': 0, 'j': 0.5, 'mj': 0.5, 'occupied': False}, {'n': 3, 'l': 0, 'j': 0.5, 'mj': -0.5, 'occupied': False}, {'n': 3, 'l': 0, 'j': 0.5, 'mj': 0.5, 'occupied': False}]\n"
          ]
        }
      ]
    }
  ]
}