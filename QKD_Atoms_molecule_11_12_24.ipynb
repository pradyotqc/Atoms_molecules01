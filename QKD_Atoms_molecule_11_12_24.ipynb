{
  "nbformat": 4,
  "nbformat_minor": 0,
  "metadata": {
    "colab": {
      "provenance": [],
      "authorship_tag": "ABX9TyPI3PJt8HmPg3HnCzWPtirL",
      "include_colab_link": true
    },
    "kernelspec": {
      "name": "python3",
      "display_name": "Python 3"
    },
    "language_info": {
      "name": "python"
    }
  },
  "cells": [
    {
      "cell_type": "markdown",
      "metadata": {
        "id": "view-in-github",
        "colab_type": "text"
      },
      "source": [
        "<a href=\"https://colab.research.google.com/github/pradyotqc/Atoms_molecules01/blob/main/QKD_Atoms_molecule_11_12_24.ipynb\" target=\"_parent\"><img src=\"https://colab.research.google.com/assets/colab-badge.svg\" alt=\"Open In Colab\"/></a>"
      ]
    },
    {
      "cell_type": "code",
      "execution_count": null,
      "metadata": {
        "id": "RXWpXZTR06qR"
      },
      "outputs": [],
      "source": [
        "! pip install -q qiskit\n",
        "! pip install -q qiskit-aer\n",
        "! pip install -q qiskit-algorithms\n",
        "! pip install -q qiskit-nature\n",
        "! pip install -q qiskit-nature-pyscf # install the pyscf library\n",
        "! pip install -q qiskit-ibm-runtime\n",
        "# print(qiskit.__version__)\n",
        "# print(qiskit_aer.__version__)\n",
        "# print(qiskit_algorithms.__version__)\n",
        "# print(qiskit_nature.__version__)\n",
        "# print(qiskit_nature_pyscf.__version__)\n",
        "# print(qiskit_ibm_runtime.__version__)\n"
      ]
    },
    {
      "cell_type": "code",
      "source": [
        "import qiskit_nature\n",
        "import qiskit\n",
        "import qiskit_aer\n",
        "import qiskit_algorithms\n",
        "import qiskit_ibm_runtime\n",
        "import qiskit_nature_pyscf\n",
        "from qiskit_algorithms.minimum_eigensolvers import NumPyMinimumEigensolver, VQE\n",
        "from qiskit_nature.second_q.transformers import FreezeCoreTransformer\n",
        "from qiskit_nature.second_q.formats.molecule_info import MoleculeInfo\n",
        "from qiskit_nature.second_q.mappers import ParityMapper\n",
        "from qiskit_nature.second_q.circuit.library import UCCSD, HartreeFock\n",
        "from qiskit_nature.second_q.drivers import PySCFDriver\n",
        "from qiskit.circuit.library import EfficientSU2\n",
        "import numpy as np\n",
        "import matplotlib.pyplot as plt\n",
        "from qiskit_nature.second_q.algorithms import GroundStateEigensolver\n",
        "from qiskit_nature.units import DistanceUnit\n",
        "from qiskit_nature.second_q.mappers import JordanWignerMapper\n",
        "from qiskit_aer import  AerSimulator\n",
        "# from qiskit_nature.second_q.algorithms import VQEUCCFactory\n",
        "from qiskit_algorithms.optimizers import SLSQP\n",
        "from qiskit_aer.primitives import Estimator\n",
        "from qiskit_nature.units import DistanceUnit\n",
        "from qiskit_nature.second_q.drivers import PySCFDriver\n",
        "from qiskit_nature.second_q.problems import ElectronicBasis\n",
        "from qiskit_nature.second_q.transformers import ActiveSpaceTransformer\n",
        "from qiskit_nature.second_q.mappers import ParityMapper"
      ],
      "metadata": {
        "id": "sKy9wL8C2qpG"
      },
      "execution_count": 121,
      "outputs": []
    },
    {
      "cell_type": "markdown",
      "source": [
        "# Analysis of H2 molecule :"
      ],
      "metadata": {
        "id": "6M86JB6Mv_2y"
      }
    },
    {
      "cell_type": "code",
      "source": [
        "# Define the He2 molecule\n",
        "molecule = MoleculeInfo(\n",
        "    symbols=[\"H\", \"H\"],\n",
        "    coords=([0.0, 0.0, 0.0], [0.0, 0.0, 0.7]),  # Approximate bond distance for He2\n",
        "    multiplicity=1,  # Singlet state\n",
        "    charge=0\n",
        ")\n",
        "\n",
        "# Set up the PySCF driver\n",
        "driver = PySCFDriver.from_molecule(\n",
        "    molecule=molecule,\n",
        "    basis=\"sto3g\"\n",
        ")\n",
        "\n",
        "# Run the electronic structure calculation\n",
        "electronic_structure_problem = driver.run()\n",
        "\n",
        "# Apply FreezeCoreTransformer to simplify the problem\n",
        "transformer = FreezeCoreTransformer()\n",
        "electronic_structure_problem = transformer.transform(electronic_structure_problem)\n",
        "\n",
        "# Extract the second quantized Hamiltonian\n",
        "electronic_energy = electronic_structure_problem.hamiltonian\n",
        "\n",
        "# Map to qubit Hamiltonian using Jordan-Wigner transformation\n",
        "mapper = JordanWignerMapper()\n",
        "qubit_op = mapper.map(electronic_structure_problem.second_q_ops()[0])\n",
        "print(qubit_op)\n",
        "print(\"Spatial orbitals:\", electronic_structure_problem.num_spatial_orbitals)\n",
        "print(\"Number of up spin: \", electronic_structure_problem.num_alpha)\n",
        "print(\"Number of down spin: \", electronic_structure_problem.num_beta)\n",
        "print(electronic_structure_problem.hamiltonian.constants)\n",
        "print(electronic_structure_problem.orbital_occupations_b)\n",
        "print(electronic_structure_problem.orbital_occupations)"
      ],
      "metadata": {
        "id": "hxey5jdx2B1G",
        "colab": {
          "base_uri": "https://localhost:8080/"
        },
        "outputId": "ba3bd53e-6aa2-42c0-a4f9-1f479fa01d13"
      },
      "execution_count": 122,
      "outputs": [
        {
          "output_type": "stream",
          "name": "stdout",
          "text": [
            "SparsePauliOp(['IIII', 'IIIZ', 'IIZI', 'IZII', 'ZIII', 'IIZZ', 'IZIZ', 'ZIIZ', 'YYYY', 'XXYY', 'YYXX', 'XXXX', 'IZZI', 'ZIZI', 'ZZII'],\n",
            "              coeffs=[-0.79804642+0.j,  0.17771287+0.j, -0.24274281+0.j,  0.17771287+0.j,\n",
            " -0.24274281+0.j,  0.12293305+0.j,  0.17059738+0.j,  0.16768319+0.j,\n",
            "  0.04475014+0.j,  0.04475014+0.j,  0.04475014+0.j,  0.04475014+0.j,\n",
            "  0.16768319+0.j,  0.17627641+0.j,  0.12293305+0.j])\n",
            "Spatial orbitals: 2\n",
            "Number of up spin:  1\n",
            "Number of down spin:  1\n",
            "{'nuclear_repulsion_energy': 0.7559674441714287, 'FreezeCoreTransformer': 0.0}\n",
            "[1. 0.]\n",
            "[1. 0.]\n"
          ]
        }
      ]
    },
    {
      "cell_type": "code",
      "source": [
        "from scipy.linalg import eigh\n",
        "hamiltonian = qubit_op.to_matrix()\n",
        "eigenvalues, eigenvectors = eigh(qubit_op.to_matrix())\n",
        "print(eigenvalues)"
      ],
      "metadata": {
        "id": "OVTSnACB0tyV",
        "colab": {
          "base_uri": "https://localhost:8080/"
        },
        "outputId": "a0e328be-44af-44d9-c8b5-c04b472981d7"
      },
      "execution_count": 123,
      "outputs": [
        {
          "output_type": "stream",
          "name": "stdout",
          "text": [
            "[-1.89215690e+00 -1.27785301e+00 -1.27785301e+00 -1.23442050e+00\n",
            " -1.23442050e+00 -1.23442050e+00 -1.15915119e+00 -1.15915119e+00\n",
            " -8.76419348e-01 -4.48299696e-01 -4.48299696e-01 -3.06881786e-01\n",
            " -3.06881786e-01 -1.72653341e-01 -3.05311332e-16  2.60119722e-01]\n"
          ]
        }
      ]
    },
    {
      "cell_type": "code",
      "source": [
        "from qiskit_nature.second_q.circuit.library import HartreeFock\n",
        "hf_state = HartreeFock(2, (1, 1), JordanWignerMapper())\n",
        "hf_state.draw()\n",
        "from qiskit.quantum_info import Statevector\n",
        "statevector = Statevector(hf_state)\n",
        "statevector"
      ],
      "metadata": {
        "id": "Pahw8Ulw-67e",
        "colab": {
          "base_uri": "https://localhost:8080/"
        },
        "outputId": "82d58f50-8b03-4ac4-dd6d-8dc5560deaf1"
      },
      "execution_count": 124,
      "outputs": [
        {
          "output_type": "stream",
          "name": "stdout",
          "text": [
            "Statevector([0.+0.j, 0.+0.j, 0.+0.j, 0.+0.j, 0.+0.j, 1.+0.j, 0.+0.j,\n",
            "             0.+0.j, 0.+0.j, 0.+0.j, 0.+0.j, 0.+0.j, 0.+0.j, 0.+0.j,\n",
            "             0.+0.j, 0.+0.j],\n",
            "            dims=(2, 2, 2, 2))\n"
          ]
        }
      ]
    },
    {
      "cell_type": "code",
      "source": [
        "k = 3\n",
        "from scipy.linalg import expm\n",
        "E_sub = np.zeros((k, k), dtype=complex)\n",
        "S_sub = np.zeros((k, k), dtype=complex)\n",
        "for i in range(k):\n",
        "    for j in range(k):\n",
        "        U = expm(-(i-j)*3.1415*1j*hamiltonian)\n",
        "\n",
        "        # Apply the unitary operator to the statevector using evolve()\n",
        "        evolved_statevector = statevector.evolve(U)\n",
        "\n",
        "        # Now you can access the data of the evolved statevector\n",
        "        S_sub[i, j] = statevector.expectation_value(U)\n",
        "\n",
        "        # Now apply hamiltonian to evolved state\n",
        "        evolved_statevector = evolved_statevector.evolve(hamiltonian)\n",
        "        E_sub[i, j] = statevector.inner(evolved_statevector)\n",
        "\n",
        "print(E_sub)\n",
        "print(S_sub)\n"
      ],
      "metadata": {
        "id": "t76m0dus0ob1",
        "colab": {
          "base_uri": "https://localhost:8080/"
        },
        "outputId": "0f8961d1-1187-41ef-d703-0deaba6b4fce"
      },
      "execution_count": 125,
      "outputs": [
        {
          "output_type": "stream",
          "name": "stdout",
          "text": [
            "[[-1.87331648+0.j         -1.76655377-0.62130973j -1.4584631 -1.17207885j]\n",
            " [-1.76655377+0.62130973j -1.87331648+0.j         -1.76655377-0.62130973j]\n",
            " [-1.4584631 +1.17207885j -1.76655377+0.62130973j -1.87331648+0.j        ]]\n",
            "[[1.        +0.j         0.94214712+0.32322087j 0.77544499+0.61063654j]\n",
            " [0.94214712-0.32322087j 1.        +0.j         0.94214712+0.32322087j]\n",
            " [0.77544499-0.61063654j 0.94214712-0.32322087j 1.        +0.j        ]]\n"
          ]
        }
      ]
    },
    {
      "cell_type": "code",
      "source": [
        "from scipy.linalg import eigh\n",
        "def regularize_matrix(matrix, epsilon=1e-10):\n",
        "    matrix += epsilon * np.eye(matrix.shape[0])\n",
        "    return matrix\n",
        "S_sub = regularize_matrix(S_sub)\n",
        "eigenvalues, eigenvectors = eigh(E_sub, S_sub)\n",
        "print(eigenvalues)\n",
        "print(eigenvectors)"
      ],
      "metadata": {
        "id": "ofHRTlXZ1Dqf",
        "colab": {
          "base_uri": "https://localhost:8080/"
        },
        "outputId": "3ca9a2d9-171f-449d-f3ea-3daf94d1f260"
      },
      "execution_count": 126,
      "outputs": [
        {
          "output_type": "stream",
          "name": "stdout",
          "text": [
            "[-1.89215690e+00 -1.72653340e-01  5.70727683e-06]\n",
            "[[-4.07400973e-01-4.59440978e-01j -3.87062929e+00+4.36511556e+00j\n",
            "  -4.35517070e+04-5.18735969e-01j]\n",
            " [-1.79869154e-01+6.34190852e-02j -1.55202494e+00-9.35388618e-01j\n",
            "   7.83743980e+04+7.99984949e+03j]\n",
            " [-2.91488249e-02+6.13360947e-01j  2.05163953e+00-5.46138172e+00j\n",
            "  -4.26536616e+04-8.79865538e+03j]]\n"
          ]
        }
      ]
    },
    {
      "cell_type": "markdown",
      "source": [
        "# Analysis of Li atom in 6 spin orbitals:"
      ],
      "metadata": {
        "id": "9ht9aIIQw6fT"
      }
    },
    {
      "cell_type": "code",
      "source": [
        "mdriver = PySCFDriver(\n",
        "    atom=\"Li 0.0 0.0 0.0\",  # Specify the atom and its coordinates\n",
        "    basis=\"sto3g\",          # Define the basis set\n",
        "    charge=0,                # Set the charge of the atom\n",
        "    spin=1,                 # Set the spin of the atom\n",
        "    unit=DistanceUnit.ANGSTROM, # Define the unit of the coordinates\n",
        ")\n",
        "\n",
        "# You can now use the driver to run a calculation\n",
        "electronic_structure_problem = mdriver.run()"
      ],
      "metadata": {
        "id": "O9osQyH_mYgX"
      },
      "execution_count": 156,
      "outputs": []
    },
    {
      "cell_type": "code",
      "source": [
        "print(\"Spatial orbitals:\", electronic_structure_problem.num_spatial_orbitals)\n",
        "print(\"Number of up spin: \", electronic_structure_problem.num_alpha)\n",
        "print(\"Number of down spin: \", electronic_structure_problem.num_beta)\n",
        "print(electronic_structure_problem.hamiltonian.constants)\n",
        "print(electronic_structure_problem.orbital_occupations_b)\n",
        "print(electronic_structure_problem.orbital_occupations)\n",
        "# print(electronic_structure_problem.second_q_ops()[0])\n",
        "from qiskit_algorithms import NumPyMinimumEigensolver\n",
        "from qiskit_nature.second_q.algorithms import GroundStateEigensolver\n",
        "from qiskit_nature.second_q.mappers import JordanWignerMapper\n",
        "\n",
        "solver = GroundStateEigensolver(\n",
        "    JordanWignerMapper(),\n",
        "    NumPyMinimumEigensolver(),\n",
        ")\n",
        "print(\"HF energy : \", electronic_structure_problem.reference_energy)\n",
        "result = solver.solve(electronic_structure_problem)\n",
        "print(result)"
      ],
      "metadata": {
        "colab": {
          "base_uri": "https://localhost:8080/"
        },
        "id": "FwFma9X-nCAo",
        "outputId": "5134ef37-ccdb-44a5-ce4b-aa75582f5fd1"
      },
      "execution_count": 157,
      "outputs": [
        {
          "output_type": "stream",
          "name": "stdout",
          "text": [
            "Spatial orbitals: 5\n",
            "Number of up spin:  2\n",
            "Number of down spin:  1\n",
            "{'nuclear_repulsion_energy': 0}\n",
            "[1. 0. 0. 0. 0.]\n",
            "[1. 1. 0. 0. 0.]\n",
            "HF energy :  -7.315525981281089\n",
            "=== GROUND STATE ENERGY ===\n",
            " \n",
            "* Electronic ground state energy (Hartree): -7.315836552851\n",
            "  - computed part:      -7.315836552851\n",
            "~ Nuclear repulsion energy (Hartree): 0.0\n",
            "> Total ground state energy (Hartree): -7.315836552851\n",
            " \n",
            "=== MEASURED OBSERVABLES ===\n",
            " \n",
            "  0:  # Particles: 3.000 S: 0.500 S^2: 0.750 M: 0.484\n",
            " \n",
            "=== DIPOLE MOMENTS ===\n",
            " \n",
            "~ Nuclear dipole moment (a.u.): [0.0  0.0  0.0]\n",
            " \n",
            "  0: \n",
            "  * Electronic dipole moment (a.u.): [0.0  0.0  0.0]\n",
            "    - computed part:      [0.0  0.0  0.0]\n",
            "  > Dipole moment (a.u.): [0.0  0.0  0.0]  Total: 0.0\n",
            "                 (debye): [0.0  0.0  0.0]  Total: 0.0\n",
            " \n"
          ]
        }
      ]
    },
    {
      "cell_type": "code",
      "source": [
        "# Apply ActiveSpaceTransformer to simplify the problem\n",
        "# transformer = ActiveSpaceTransformer(num_electrons=electronic_structure_problem.num_particles, num_spatial_orbitals=electronic_structure_problem.num_spatial_orbitals)\n",
        "# electronic_structure_problem = transformer.transform(electronic_structure_problem)\n",
        "\n",
        "transformer = FreezeCoreTransformer(remove_orbitals=[3, 4], freeze_core=False)\n",
        "electronic_structure_problem = transformer.transform(electronic_structure_problem)\n",
        "\n",
        "\n",
        "# print(electronic_structure_problem.molecule)\n",
        "print(\"\\nAfter freeze core of the orbitals: \")\n",
        "print(\"Spatial orbitals:\", electronic_structure_problem.num_spatial_orbitals)\n",
        "print(\"Number of up spin: \", electronic_structure_problem.num_alpha)\n",
        "print(\"Number of down spin: \", electronic_structure_problem.num_beta)\n",
        "print(electronic_structure_problem.hamiltonian.constants)\n",
        "print(electronic_structure_problem.orbital_occupations_b)\n",
        "print(electronic_structure_problem.orbital_occupations)\n",
        "# print(electronic_structure_problem.second_q_ops()[0])\n",
        "\n",
        "solver = GroundStateEigensolver(\n",
        "    JordanWignerMapper(),\n",
        "    NumPyMinimumEigensolver(),\n",
        ")\n",
        "\n",
        "result = solver.solve(electronic_structure_problem)\n",
        "print(result)\n",
        "\n",
        "print(electronic_structure_problem.reference_energy)"
      ],
      "metadata": {
        "colab": {
          "base_uri": "https://localhost:8080/"
        },
        "id": "VViGW2Mem9ne",
        "outputId": "0bd65667-bed1-4848-80d7-9325c3f31e5a"
      },
      "execution_count": 158,
      "outputs": [
        {
          "output_type": "stream",
          "name": "stdout",
          "text": [
            "\n",
            "After freeze core of the orbitals: \n",
            "Spatial orbitals: 3\n",
            "Number of up spin:  2\n",
            "Number of down spin:  1\n",
            "{'nuclear_repulsion_energy': 0, 'FreezeCoreTransformer': -4.440892098500626e-16}\n",
            "[1. 0. 0.]\n",
            "[1. 1. 0.]\n",
            "=== GROUND STATE ENERGY ===\n",
            " \n",
            "* Electronic ground state energy (Hartree): -7.315630777512\n",
            "  - computed part:      -7.315630777512\n",
            "  - FreezeCoreTransformer extracted energy part: 0.0\n",
            "~ Nuclear repulsion energy (Hartree): 0.0\n",
            "> Total ground state energy (Hartree): -7.315630777512\n",
            " \n",
            "=== MEASURED OBSERVABLES ===\n",
            " \n",
            "  0:  # Particles: 3.000 S: 0.500 S^2: 0.750 M: 0.423\n",
            " \n",
            "=== DIPOLE MOMENTS ===\n",
            " \n",
            "~ Nuclear dipole moment (a.u.): [0.0  0.0  0.0]\n",
            " \n",
            "  0: \n",
            "  * Electronic dipole moment (a.u.): [0.0  0.0  0.0]\n",
            "    - computed part:      [0.0  0.0  0.0]\n",
            "    - FreezeCoreTransformer extracted energy part: [0.0  0.0  0.0]\n",
            "  > Dipole moment (a.u.): [0.0  0.0  0.0]  Total: 0.0\n",
            "                 (debye): [0.0  0.0  0.0]  Total: 0.0\n",
            " \n",
            "-7.315525981281089\n"
          ]
        }
      ]
    },
    {
      "cell_type": "code",
      "source": [
        "mapper = JordanWignerMapper()\n",
        "qubit_hamiltonian = mapper.map(electronic_structure_problem.second_q_ops()[0])\n",
        "print(qubit_hamiltonian)"
      ],
      "metadata": {
        "colab": {
          "base_uri": "https://localhost:8080/"
        },
        "id": "JZdyF3s6oxkV",
        "outputId": "8ef3e1fa-e23b-4b06-d377-e6ee3bae001f"
      },
      "execution_count": 159,
      "outputs": [
        {
          "output_type": "stream",
          "name": "stdout",
          "text": [
            "SparsePauliOp(['IIIIII', 'IIIIIZ', 'IIIIYY', 'IIIIXX', 'IIIIZI', 'IIIZII', 'IIZIII', 'IYYIII', 'IXXIII', 'IZIIII', 'ZIIIII', 'IIIIZZ', 'IIIZIZ', 'IIZIIZ', 'IYYIIZ', 'IXXIIZ', 'IZIIIZ', 'ZIIIIZ', 'IIIZYY', 'IIIZXX', 'IIZIYY', 'IIZIXX', 'IYYIYY', 'IXXIYY', 'IYYIXX', 'IXXIXX', 'IZIIYY', 'IZIIXX', 'ZIIIYY', 'ZIIIXX', 'YZYYZY', 'XZXYZY', 'YZYXZX', 'XZXXZX', 'YYIYZY', 'XXIYZY', 'YYIXZX', 'XXIXZX', 'IIIZZI', 'IIZIZI', 'IYYIZI', 'IXXIZI', 'IZIIZI', 'ZIIIZI', 'YZYYYI', 'XZXYYI', 'YZYXXI', 'XZXXXI', 'YYIYYI', 'XXIYYI', 'YYIXXI', 'XXIXXI', 'IIZZII', 'IYYZII', 'IXXZII', 'IZIZII', 'ZIIZII', 'IZZIII', 'ZIZIII', 'ZYYIII', 'ZXXIII', 'ZZIIII'],\n",
            "              coeffs=[-4.62943548e+00+0.j,  1.39568762e+00+0.j,  4.20241761e-02+0.j,\n",
            "  4.20241761e-02+0.j,  8.42868153e-02+0.j,  3.72092950e-02+0.j,\n",
            "  1.39568762e+00+0.j,  4.20241761e-02+0.j,  4.20241761e-02+0.j,\n",
            "  8.42868153e-02+0.j,  3.72092950e-02+0.j,  9.23141300e-02+0.j,\n",
            "  9.66241112e-02+0.j,  4.14648612e-01+0.j,  4.61425636e-02+0.j,\n",
            "  4.61425636e-02+0.j,  1.00130387e-01+0.j,  9.90822045e-02+0.j,\n",
            "  5.05518032e-03+0.j,  5.05518032e-03+0.j,  4.61425636e-02+0.j,\n",
            "  4.61425636e-02+0.j,  7.81625679e-03+0.j,  7.81625679e-03+0.j,\n",
            "  7.81625679e-03+0.j,  7.81625679e-03+0.j,  2.56857304e-03+0.j,\n",
            "  2.56857304e-03+0.j,  1.63177613e-03+0.j,  1.63177613e-03+0.j,\n",
            "  2.45809331e-03+0.j,  2.45809331e-03+0.j,  2.45809331e-03+0.j,\n",
            "  2.45809331e-03+0.j,  3.42340419e-03+0.j,  3.42340419e-03+0.j,\n",
            "  3.42340419e-03+0.j,  3.42340419e-03+0.j,  5.62200369e-02+0.j,\n",
            "  1.00130387e-01+0.j,  2.56857304e-03+0.j,  2.56857304e-03+0.j,\n",
            "  7.06062126e-02+0.j,  7.14175453e-02+0.j,  3.42340419e-03+0.j,\n",
            "  3.42340419e-03+0.j,  3.42340419e-03+0.j,  3.42340419e-03+0.j,\n",
            "  1.51975084e-02+0.j,  1.51975084e-02+0.j,  1.51975084e-02+0.j,\n",
            "  1.51975084e-02+0.j,  9.90822045e-02+0.j,  1.63177613e-03+0.j,\n",
            "  1.63177613e-03+0.j,  7.14175453e-02+0.j,  7.82363778e-02+0.j,\n",
            "  9.23141300e-02+0.j,  9.66241112e-02+0.j,  5.05518032e-03+0.j,\n",
            "  5.05518032e-03+0.j,  5.62200369e-02+0.j])\n"
          ]
        }
      ]
    },
    {
      "cell_type": "code",
      "source": [
        "eigenvalues, eigenvectors = eigh(qubit_hamiltonian.to_matrix())\n",
        "print(eigenvalues)"
      ],
      "metadata": {
        "colab": {
          "base_uri": "https://localhost:8080/"
        },
        "id": "dM1j_tALo39p",
        "outputId": "a563b17e-f845-4bcc-d719-a5405de101be"
      },
      "execution_count": 160,
      "outputs": [
        {
          "output_type": "stream",
          "name": "stdout",
          "text": [
            "[-7.31563078e+00 -7.31563078e+00 -7.23044852e+00 -7.23044852e+00\n",
            " -7.23027482e+00 -7.18542145e+00 -7.18542145e+00 -7.18542145e+00\n",
            " -7.13562357e+00 -7.06443839e+00 -6.99564416e+00 -6.79747687e+00\n",
            " -6.79747687e+00 -6.68193559e+00 -6.68193559e+00 -6.06873491e+00\n",
            " -5.26370669e+00 -5.26370669e+00 -5.24387040e+00 -5.24387040e+00\n",
            " -5.24387040e+00 -5.24387040e+00 -5.22518234e+00 -5.22518234e+00\n",
            " -5.22518234e+00 -5.20492059e+00 -5.19827975e+00 -5.19827975e+00\n",
            " -5.12650503e+00 -5.12650503e+00 -5.12650503e+00 -5.10401468e+00\n",
            " -5.10401468e+00 -5.07981151e+00 -5.04614515e+00 -5.04614515e+00\n",
            " -4.97766785e+00 -4.97766785e+00 -4.97766785e+00 -4.93566588e+00\n",
            " -4.89731223e+00 -4.89731223e+00 -4.89731223e+00 -4.88256087e+00\n",
            " -4.88256087e+00 -4.88039693e+00 -4.40795283e+00 -4.40795283e+00\n",
            " -2.02202161e+00 -1.96583514e+00 -1.96583514e+00 -1.87268940e+00\n",
            " -1.87268940e+00 -1.61865572e+00 -1.59339383e+00 -1.59339383e+00\n",
            " -1.59339383e+00 -1.46906432e+00 -1.42023486e+00 -9.38971548e-01\n",
            " -9.38971548e-01 -8.77579141e-01 -8.77579141e-01  2.27595720e-15]\n"
          ]
        }
      ]
    },
    {
      "cell_type": "code",
      "source": [
        "print(electronic_structure_problem.hamiltonian.constants)"
      ],
      "metadata": {
        "colab": {
          "base_uri": "https://localhost:8080/"
        },
        "id": "hrkFJOtfspRJ",
        "outputId": "5ca19ddd-9acb-4738-f949-c86b64ffeba3"
      },
      "execution_count": 161,
      "outputs": [
        {
          "output_type": "stream",
          "name": "stdout",
          "text": [
            "{'nuclear_repulsion_energy': 0, 'FreezeCoreTransformer': -4.440892098500626e-16}\n"
          ]
        }
      ]
    },
    {
      "cell_type": "code",
      "source": [
        "from qiskit_nature.second_q.circuit.library import HartreeFock\n",
        "from qiskit.quantum_info import Statevector\n",
        "from qiskit import QuantumRegister, ClassicalRegister, QuantumCircuit\n",
        "qc2 = QuantumCircuit(6)\n",
        "qc2.x(0)\n",
        "# qc2.x(1)\n",
        "# qc2.x(2)\n",
        "qc2.x(3)\n",
        "qc2.x(4)\n",
        "# qc2.x(5)\n",
        "statevector = Statevector(qc2)\n",
        "\n",
        "from numpy import pi\n",
        "k = 3\n",
        "from scipy.linalg import expm\n",
        "E_sub = np.zeros((k, k), dtype=complex)\n",
        "S_sub = np.zeros((k, k), dtype=complex)\n",
        "for i in range(k):\n",
        "    for j in range(k):\n",
        "        U = expm(-(i-j)*pi*1j*qubit_hamiltonian)\n",
        "\n",
        "        # Apply the unitary operator to the statevector using evolve()\n",
        "        evolved_statevector = statevector.evolve(U)\n",
        "\n",
        "        # Now you can access the data of the evolved statevector\n",
        "        S_sub[i, j] = statevector.expectation_value(U)\n",
        "\n",
        "        # Now apply hamiltonian to evolved state\n",
        "        evolved_statevector = evolved_statevector.evolve(qubit_hamiltonian)\n",
        "        E_sub[i, j] = statevector.inner(evolved_statevector)\n",
        "\n",
        "print(E_sub)\n",
        "print(S_sub)\n"
      ],
      "metadata": {
        "colab": {
          "base_uri": "https://localhost:8080/"
        },
        "id": "fJmg1vaapDuX",
        "outputId": "e118246e-d5cf-4f0e-c78b-382404095b29"
      },
      "execution_count": 162,
      "outputs": [
        {
          "output_type": "stream",
          "name": "stdout",
          "text": [
            "[[-7.31552598+0.j          4.00434101-6.12218839j  2.93167457+6.70217023j]\n",
            " [ 4.00434101+6.12218839j -7.31552598+0.j          4.00434101-6.12218839j]\n",
            " [ 2.93167457-6.70217023j  4.00434101+6.12218839j -7.31552598+0.j        ]]\n",
            "[[ 1.        +0.j         -0.54737767+0.83686733j -0.40072924-0.91614672j]\n",
            " [-0.54737767-0.83686733j  1.        +0.j         -0.54737767+0.83686733j]\n",
            " [-0.40072924+0.91614672j -0.54737767-0.83686733j  1.        +0.j        ]]\n"
          ]
        }
      ]
    },
    {
      "cell_type": "code",
      "source": [
        "S_sub = regularize_matrix(S_sub)\n",
        "eigenvalues, eigenvectors = eigh(E_sub, S_sub)\n",
        "print(eigenvalues)\n",
        "print(eigenvectors)"
      ],
      "metadata": {
        "colab": {
          "base_uri": "https://localhost:8080/"
        },
        "id": "lpZu5NceplFC",
        "outputId": "7dfde8b7-8a52-415b-9a1c-097cb70c4c5a"
      },
      "execution_count": 163,
      "outputs": [
        {
          "output_type": "stream",
          "name": "stdout",
          "text": [
            "[-7.31562425 -5.0468539  -1.87961718]\n",
            "[[-7.14078790e-01  +0.35623652j -1.47437770e+01-104.61420099j\n",
            "  -1.17273008e+02+164.71233375j]\n",
            " [-2.34347959e-01  -0.3583059j   1.33732141e+02 +21.053627j\n",
            "  -3.42288355e+02+137.65943591j]\n",
            " [ 6.12564287e-01  -0.51144694j -4.61730787e+01 +95.0239802j\n",
            "  -1.98658958e+02 -37.65274934j]]\n"
          ]
        }
      ]
    },
    {
      "cell_type": "markdown",
      "source": [
        "# Analysis of LiH molecule at fermi level:"
      ],
      "metadata": {
        "id": "gegDtvQEwXnU"
      }
    },
    {
      "cell_type": "code",
      "source": [
        "from qiskit_nature.second_q.transformers import ActiveSpaceTransformer\n",
        "from qiskit_nature.second_q.mappers import ParityMapper\n",
        "\n",
        "# Define the Li molecule\n",
        "molecule = MoleculeInfo(\n",
        "    symbols=[\"Li\", \"H\"],\n",
        "    coords=([0.0, 0.0, 0.0], [0.0, 0.0, 1.59]),  # Approximate bond distance for He2\n",
        "    multiplicity=1,  # Singlet state\n",
        "    charge=0\n",
        ")\n",
        "\n",
        "# Set up the PySCF driver\n",
        "driver = PySCFDriver.from_molecule(\n",
        "    molecule=molecule,\n",
        "    basis=\"sto3g\"\n",
        ")\n",
        "\n",
        "# Run the electronic structure calculation\n",
        "electronic_structure_problem = driver.run()\n",
        "print(electronic_structure_problem.hamiltonian.fock)\n",
        "# Apply ActiveSpaceTransformer to simplify the problem\n",
        "transformer = ActiveSpaceTransformer(num_electrons=2, num_spatial_orbitals=2)\n",
        "electronic_structure_problem = transformer.transform(electronic_structure_problem)\n",
        "\n",
        "# print(electronic_structure_problem.molecule)\n",
        "print(\"\\nAfter freeze core of the orbitals: \")\n",
        "print(\"Spatial orbitals:\", electronic_structure_problem.num_spatial_orbitals)\n",
        "print(\"Number of up spin: \", electronic_structure_problem.num_alpha)\n",
        "print(\"Number of down spin: \", electronic_structure_problem.num_beta)\n",
        "print(electronic_structure_problem.hamiltonian.constants)\n",
        "print(electronic_structure_problem.orbital_occupations_b)\n",
        "print(electronic_structure_problem.orbital_occupations)\n",
        "# print(electronic_structure_problem.second_q_ops()[0])"
      ],
      "metadata": {
        "colab": {
          "base_uri": "https://localhost:8080/"
        },
        "id": "zeGmj6vAPvoq",
        "outputId": "d8b75031-785f-4006-f717-58ad6d30dd9e"
      },
      "execution_count": 164,
      "outputs": [
        {
          "output_type": "stream",
          "name": "stdout",
          "text": [
            "<bound method ElectronicEnergy.fock of <qiskit_nature.second_q.hamiltonians.electronic_energy.ElectronicEnergy object at 0x7ff928eec310>>\n",
            "\n",
            "After freeze core of the orbitals: \n",
            "Spatial orbitals: 2\n",
            "Number of up spin:  1\n",
            "Number of down spin:  1\n",
            "{'nuclear_repulsion_energy': 0.998447567773585, 'ActiveSpaceTransformer': -7.800375958281278}\n",
            "[1. 0.]\n",
            "[1. 0.]\n"
          ]
        }
      ]
    },
    {
      "cell_type": "code",
      "source": [
        "from qiskit_algorithms import NumPyMinimumEigensolver\n",
        "from qiskit_nature.second_q.algorithms import GroundStateEigensolver\n",
        "from qiskit_nature.second_q.mappers import JordanWignerMapper\n",
        "\n",
        "solver = GroundStateEigensolver(\n",
        "    JordanWignerMapper(),\n",
        "    NumPyMinimumEigensolver(),\n",
        ")\n",
        "\n",
        "result = solver.solve(electronic_structure_problem)\n",
        "print(result)"
      ],
      "metadata": {
        "colab": {
          "base_uri": "https://localhost:8080/"
        },
        "id": "Nlar-DB71qBg",
        "outputId": "c5ff48fb-6571-4ddd-c0c5-f8a7782484bb"
      },
      "execution_count": 165,
      "outputs": [
        {
          "output_type": "stream",
          "name": "stdout",
          "text": [
            "=== GROUND STATE ENERGY ===\n",
            " \n",
            "* Electronic ground state energy (Hartree): -8.860881705408\n",
            "  - computed part:      -1.060505747127\n",
            "  - ActiveSpaceTransformer extracted energy part: -7.800375958281\n",
            "~ Nuclear repulsion energy (Hartree): 0.998447567774\n",
            "> Total ground state energy (Hartree): -7.862434137635\n",
            " \n",
            "=== MEASURED OBSERVABLES ===\n",
            " \n",
            "  0:  # Particles: 2.000 S: 0.000 S^2: 0.000 M: 0.000\n",
            " \n",
            "=== DIPOLE MOMENTS ===\n",
            " \n",
            "~ Nuclear dipole moment (a.u.): [0.0  0.0  3.00466454]\n",
            " \n",
            "  0: \n",
            "  * Electronic dipole moment (a.u.): [0.0  0.0  4.90040656909]\n",
            "    - computed part:      [0.0  0.0  4.904442977872]\n",
            "    - ActiveSpaceTransformer extracted energy part: [0.0  0.0  -0.004036408782]\n",
            "  > Dipole moment (a.u.): [0.0  0.0  -1.89574202909]  Total: 1.89574202909\n",
            "                 (debye): [0.0  0.0  -4.818495157492]  Total: 4.818495157492\n",
            " \n"
          ]
        }
      ]
    },
    {
      "cell_type": "code",
      "source": [
        "# Map to qubit Hamiltonian using Jordan-Wigner transformation\n",
        "mapper = JordanWignerMapper()\n",
        "qubit_hamiltonian = mapper.map(electronic_structure_problem.second_q_ops()[0])\n",
        "print(qubit_hamiltonian)\n"
      ],
      "metadata": {
        "colab": {
          "base_uri": "https://localhost:8080/"
        },
        "id": "IxxT4F9CP4aK",
        "outputId": "6c260b88-fcb2-4453-b5e5-f8ce4fe68b5e"
      },
      "execution_count": 166,
      "outputs": [
        {
          "output_type": "stream",
          "name": "stdout",
          "text": [
            "SparsePauliOp(['IIII', 'IIIZ', 'IIYY', 'IIXX', 'IIZI', 'IZII', 'YYII', 'XXII', 'ZIII', 'IIZZ', 'IZIZ', 'YYIZ', 'XXIZ', 'ZIIZ', 'IZYY', 'IZXX', 'YYYY', 'XXYY', 'YYXX', 'XXXX', 'ZIYY', 'ZIXX', 'IZZI', 'YYZI', 'XXZI', 'ZIZI', 'ZZII'],\n",
            "              coeffs=[-0.70673758+0.j,  0.15635424+0.j,  0.01394071+0.j,  0.01394071+0.j,\n",
            " -0.01494181+0.j,  0.15635424+0.j,  0.01394071+0.j,  0.01394071+0.j,\n",
            " -0.01494181+0.j,  0.05273314+0.j,  0.12200122+0.j,  0.01210264+0.j,\n",
            "  0.01210264+0.j,  0.05597423+0.j,  0.01210264+0.j,  0.01210264+0.j,\n",
            "  0.00324109+0.j,  0.00324109+0.j,  0.00324109+0.j,  0.00324109+0.j,\n",
            " -0.00183806+0.j, -0.00183806+0.j,  0.05597423+0.j, -0.00183806+0.j,\n",
            " -0.00183806+0.j,  0.08449677+0.j,  0.05273314+0.j])\n"
          ]
        }
      ]
    },
    {
      "cell_type": "code",
      "source": [
        "eigenvalues, eigenvectors = eigh(qubit_hamiltonian.to_matrix())\n",
        "print(eigenvalues)"
      ],
      "metadata": {
        "colab": {
          "base_uri": "https://localhost:8080/"
        },
        "id": "Qy6hkp7VQqbI",
        "outputId": "927507d4-edc2-4541-efc7-2c85dec7a528"
      },
      "execution_count": 167,
      "outputs": [
        {
          "output_type": "stream",
          "name": "stdout",
          "text": [
            "[-1.06050575e+00 -9.82143476e-01 -9.82143476e-01 -9.19717759e-01\n",
            " -9.19717759e-01 -9.19717759e-01 -9.05489554e-01 -7.79664222e-01\n",
            " -7.79664222e-01 -7.14156541e-01 -7.14156541e-01 -5.65649705e-01\n",
            " -3.63102372e-01 -3.50986090e-01 -3.50986090e-01  2.08166817e-17]\n"
          ]
        }
      ]
    },
    {
      "cell_type": "code",
      "source": [
        "from qiskit_nature.second_q.circuit.library import HartreeFock\n",
        "from qiskit.quantum_info import Statevector\n",
        "from qiskit import QuantumRegister, ClassicalRegister, QuantumCircuit\n",
        "qc2 = QuantumCircuit(4)\n",
        "qc2.x(0)\n",
        "qc2.x(2)\n",
        "statevector = Statevector(qc2)\n",
        "statevector"
      ],
      "metadata": {
        "colab": {
          "base_uri": "https://localhost:8080/"
        },
        "id": "mATqHbj7RZeH",
        "outputId": "2cdb6ac6-d29a-40d6-be5a-0615c0c10aae"
      },
      "execution_count": 168,
      "outputs": [
        {
          "output_type": "stream",
          "name": "stdout",
          "text": [
            "Statevector([0.+0.j, 0.+0.j, 0.+0.j, 0.+0.j, 0.+0.j, 1.+0.j, 0.+0.j,\n",
            "             0.+0.j, 0.+0.j, 0.+0.j, 0.+0.j, 0.+0.j, 0.+0.j, 0.+0.j,\n",
            "             0.+0.j, 0.+0.j],\n",
            "            dims=(2, 2, 2, 2))\n"
          ]
        }
      ]
    },
    {
      "cell_type": "code",
      "source": [
        "from numpy import pi\n",
        "k = 3\n",
        "from scipy.linalg import expm\n",
        "E_sub = np.zeros((k, k), dtype=complex)\n",
        "S_sub = np.zeros((k, k), dtype=complex)\n",
        "for i in range(k):\n",
        "    for j in range(k):\n",
        "        U = expm(-(i-j)*pi*1j*qubit_hamiltonian)\n",
        "\n",
        "        # Apply the unitary operator to the statevector using evolve()\n",
        "        evolved_statevector = statevector.evolve(U)\n",
        "\n",
        "        # Now you can access the data of the evolved statevector\n",
        "        S_sub[i, j] = statevector.expectation_value(U)\n",
        "\n",
        "        # Now apply hamiltonian to evolved state\n",
        "        evolved_statevector = evolved_statevector.evolve(qubit_hamiltonian)\n",
        "        E_sub[i, j] = statevector.inner(evolved_statevector)\n",
        "\n",
        "print(E_sub)\n",
        "print(S_sub)\n"
      ],
      "metadata": {
        "colab": {
          "base_uri": "https://localhost:8080/"
        },
        "id": "xoF50YUyRdDs",
        "outputId": "e220c825-4a6c-44ce-c27d-dec4621765ae"
      },
      "execution_count": 169,
      "outputs": [
        {
          "output_type": "stream",
          "name": "stdout",
          "text": [
            "[[-1.06024643+0.j          1.04097424-0.20012412j -0.98433914+0.39335348j]\n",
            " [ 1.04097424+0.20012412j -1.06024643+0.j          1.04097424-0.20012412j]\n",
            " [-0.98433914-0.39335348j  1.04097424+0.20012412j -1.06024643+0.j        ]]\n",
            "[[ 1.        +0.j         -0.98151123+0.18849767j  0.92805219-0.37106745j]\n",
            " [-0.98151123-0.18849767j  1.        +0.j         -0.98151123+0.18849767j]\n",
            " [ 0.92805219+0.37106745j -0.98151123-0.18849767j  1.        +0.j        ]]\n"
          ]
        }
      ]
    },
    {
      "cell_type": "code",
      "source": [
        "from scipy.linalg import eigh\n",
        "def regularize_matrix(matrix, epsilon=1e-10):\n",
        "    matrix += epsilon * np.eye(matrix.shape[0])\n",
        "    return matrix\n",
        "S_sub = regularize_matrix(S_sub)\n",
        "eigenvalues, eigenvectors = eigh(E_sub, S_sub)\n",
        "print(eigenvalues)\n",
        "print(eigenvectors)"
      ],
      "metadata": {
        "colab": {
          "base_uri": "https://localhost:8080/"
        },
        "id": "-uw7i0yyRlKX",
        "outputId": "13e12b6e-ea8b-4d69-85c2-1fdd033034c8"
      },
      "execution_count": 170,
      "outputs": [
        {
          "output_type": "stream",
          "name": "stdout",
          "text": [
            "[-1.06050575 -0.90548633 -0.36310229]\n",
            "[[  0.2679809   +1.13524477j -91.95935345 -64.06287935j\n",
            "    7.47189117 +18.89009325j]\n",
            " [  1.50853686  +0.29025361j -98.08616534 +30.01141454j\n",
            "   16.43987015 +35.83904256j]\n",
            " [  0.67011109  -0.95474896j -40.36851259+104.55122376j\n",
            "    9.44353788 +17.98567133j]]\n"
          ]
        }
      ]
    },
    {
      "cell_type": "code",
      "source": [
        "\n",
        "\n",
        "# print(electronic_structure_problem.molecule)\n",
        "print(\"\\nAfter freeze core of the orbitals: \")\n",
        "print(\"Spatial orbitals:\", electronic_structure_problem.num_spatial_orbitals)\n",
        "print(\"Number of up spin: \", electronic_structure_problem.num_alpha)\n",
        "print(\"Number of down spin: \", electronic_structure_problem.num_beta)\n",
        "print(electronic_structure_problem.hamiltonian.constants['ActiveSpaceTransformer']+electronic_structure_problem.hamiltonian.constants['nuclear_repulsion_energy'])\n",
        "print(electronic_structure_problem.orbital_occupations_b)\n",
        "print(electronic_structure_problem.orbital_occupations)\n",
        "# print(electronic_structure_problem.second_q_ops()[0])"
      ],
      "metadata": {
        "colab": {
          "base_uri": "https://localhost:8080/"
        },
        "id": "S2pbGIMhI3AH",
        "outputId": "7f482386-0fbe-4256-ddd3-e8ee91e5c06a"
      },
      "execution_count": 171,
      "outputs": [
        {
          "output_type": "stream",
          "name": "stdout",
          "text": [
            "\n",
            "After freeze core of the orbitals: \n",
            "Spatial orbitals: 2\n",
            "Number of up spin:  1\n",
            "Number of down spin:  1\n",
            "-6.801928390507693\n",
            "[1. 0.]\n",
            "[1. 0.]\n"
          ]
        }
      ]
    },
    {
      "cell_type": "code",
      "source": [
        "def electronic_structure_driver(distance, atom1=\"Li\", atom2=\"H\", basis=\"sto3g\"):\n",
        "    \"\"\"Calculate Hartree-Fock energy for a given bond distance.\"\"\"\n",
        "    molecule = MoleculeInfo(\n",
        "        symbols=[\"Li\", \"H\"],\n",
        "        coords=([0.0, 0.0, 0.0], [0.0, 0.0, distance]),  # Approximate bond distance for He2\n",
        "        multiplicity=1,  # Singlet state\n",
        "        charge=0\n",
        "    )\n",
        "    # Set up the PySCF driver\n",
        "    driver = PySCFDriver.from_molecule(\n",
        "        molecule=molecule,\n",
        "        basis=\"sto3g\"\n",
        "    )\n",
        "\n",
        "    electronic_structure_problem = driver.run()\n",
        "\n",
        "    transformer = ActiveSpaceTransformer(num_electrons=2, num_spatial_orbitals=2)\n",
        "    electronic_structure_problem = transformer.transform(electronic_structure_problem)\n",
        "\n",
        "    return electronic_structure_problem\n",
        "\n",
        "\n",
        "\n",
        "def calculate_exact_energy(electronic_structure_problem):\n",
        "\n",
        "    solver = GroundStateEigensolver(\n",
        "        JordanWignerMapper(),\n",
        "        NumPyMinimumEigensolver(),\n",
        "    )\n",
        "\n",
        "    result = solver.solve(electronic_structure_problem)\n",
        "\n",
        "\n",
        "    return electronic_structure_problem.reference_energy, result.total_energies[0]\n",
        "\n",
        "electronic_structure_problem = electronic_structure_driver(1.59)\n",
        "calculate_exact_energy(electronic_structure_problem)"
      ],
      "metadata": {
        "colab": {
          "base_uri": "https://localhost:8080/"
        },
        "id": "peU_TdXSIvPx",
        "outputId": "ded3afe5-9dce-4180-8866-f83a349c348c"
      },
      "execution_count": 172,
      "outputs": [
        {
          "output_type": "execute_result",
          "data": {
            "text/plain": [
              "(-7.862174819763764, -7.862434137634512)"
            ]
          },
          "metadata": {},
          "execution_count": 172
        }
      ]
    },
    {
      "cell_type": "code",
      "source": [
        "def calculate_KQD_energy(electronic_structure_problem, k=3, dt=0.5):\n",
        "    from scipy.linalg import expm\n",
        "    E_sub = np.zeros((k, k), dtype=complex)\n",
        "    S_sub = np.zeros((k, k), dtype=complex)\n",
        "    qubit_hamiltonian = mapper.map(electronic_structure_problem.second_q_ops()[0])\n",
        "    for i in range(k):\n",
        "        for j in range(k):\n",
        "            U = expm(-(i-j)*dt*1j*qubit_hamiltonian)\n",
        "\n",
        "            # Apply the unitary operator to the statevector using evolve()\n",
        "            evolved_statevector = statevector.evolve(U)\n",
        "\n",
        "            # Now you can access the data of the evolved statevector\n",
        "            S_sub[i, j] = statevector.expectation_value(U)\n",
        "\n",
        "            # Now apply hamiltonian to evolved state\n",
        "            evolved_statevector = evolved_statevector.evolve(qubit_hamiltonian)\n",
        "            E_sub[i, j] = statevector.inner(evolved_statevector)\n",
        "    S_sub = regularize_matrix(S_sub)\n",
        "    eigenvalues, eigenvectors = eigh(E_sub, S_sub)\n",
        "    return eigenvalues[0]+electronic_structure_problem.hamiltonian.constants['ActiveSpaceTransformer']+electronic_structure_problem.hamiltonian.constants['nuclear_repulsion_energy']"
      ],
      "metadata": {
        "id": "7RHV_HvrWLQq"
      },
      "execution_count": 173,
      "outputs": []
    },
    {
      "cell_type": "code",
      "source": [
        "def plot_energies(atom1=\"Li\", atom2=\"H\", distances=np.linspace(1.0, 2.0, 20), basis=\"sto3g\"):\n",
        "    \"\"\"Plot HF and FCI energies as a function of bond distance.\"\"\"\n",
        "    hf_energies = []\n",
        "    fci_energies = []\n",
        "    kqd_energies = []\n",
        "\n",
        "    for d in distances:\n",
        "        electronic_structure_problem = electronic_structure_driver(d)\n",
        "\n",
        "        hf_energy, fci_energy = calculate_exact_energy(electronic_structure_problem)\n",
        "        kqd_energy = calculate_KQD_energy(electronic_structure_problem)\n",
        "        hf_energies.append(hf_energy)\n",
        "        fci_energies.append(fci_energy)\n",
        "        kqd_energies.append(kqd_energy)\n",
        "\n",
        "\n",
        "    plt.figure(figsize=(12, 10))\n",
        "    plt.plot(distances, hf_energies, label=\"HF Energy\", marker=\"o\", linestyle=\"--\", linewidth=1.0, color=\"blue\")\n",
        "    plt.plot(distances, fci_energies, label=\"FCI Energy\", marker=\"x\", linestyle=\"-\", linewidth = 1.0, color=\"red\")\n",
        "    plt.plot(distances, kqd_energies, label=\"KQD Energy\", marker=\"^\", linestyle=\"-\", linewidth = 1.0, color=\"green\")\n",
        "    plt.xlabel(\"Bond Distance (Å)\")\n",
        "    plt.ylabel(\"Energy (Hartree)\")\n",
        "    plt.title(f\"Energy vs Bond Distance for {atom1}{atom2} Molecule\")\n",
        "    plt.legend()\n",
        "    plt.grid()\n",
        "    plt.show()\n",
        "    return hf_energies, fci_energies, kqd_energies\n",
        "\n",
        "\n",
        "hf_energy, fci_energy, kqd_energy =  plot_energies()"
      ],
      "metadata": {
        "colab": {
          "base_uri": "https://localhost:8080/",
          "height": 873
        },
        "id": "RjdgagVjJ662",
        "outputId": "7a6bc6dd-d4b0-435f-9678-d276a3490199"
      },
      "execution_count": 174,
      "outputs": [
        {
          "output_type": "display_data",
          "data": {
            "text/plain": [
              "<Figure size 1200x1000 with 1 Axes>"
            ],
            "image/png": "[encoded data removed]"
          },
          "metadata": {}
        }
      ]
    },
    {
      "cell_type": "code",
      "source": [
        "def plot_energy_difference(hf_energy, fci_energy, kqd_energy, distances=np.linspace(1.0, 2.0, 20)):\n",
        "    # Compute the differences\n",
        "    fci_kqd_diff = abs(np.array(fci_energy) - np.array(kqd_energy))\n",
        "    hf_fci_diff = abs(np.array(hf_energy) - np.array(fci_energy))\n",
        "\n",
        "    # Create subplots\n",
        "    fig, axs = plt.subplots(1, 2, figsize=(16, 6), sharex=True)\n",
        "\n",
        "    # First subplot: FCI - KQD energy differences\n",
        "    axs[0].plot(distances, fci_kqd_diff, label=\"FCI - KQD Energy Difference\", marker=\"s\", linestyle=\"-\", color=\"purple\", linewidth=1)\n",
        "    axs[0].set_ylabel(\"Energy Difference (Hartree)\")\n",
        "    axs[0].set_title(\"FCI - KQD Energy Difference vs Bond Distance\")\n",
        "    axs[0].legend()\n",
        "    axs[0].grid()\n",
        "\n",
        "    # Second subplot: HF - FCI energy differences\n",
        "    axs[1].plot(distances, hf_fci_diff, label=\"HF - FCI Energy Difference\", marker=\"o\", linestyle=\"--\", color=\"orange\", linewidth=1)\n",
        "    axs[1].set_xlabel(\"Bond Distance (Å)\")\n",
        "    axs[1].set_ylabel(\"Energy Difference (Hartree)\")\n",
        "    axs[1].set_title(\"HF - FCI Energy Difference vs Bond Distance\")\n",
        "    axs[1].legend()\n",
        "    axs[1].grid()\n",
        "\n",
        "    # Adjust layout and show\n",
        "    plt.tight_layout()\n",
        "    plt.show()\n",
        "\n",
        "\n",
        "# Call the function\n",
        "plot_energy_difference(hf_energy, fci_energy, kqd_energy)\n"
      ],
      "metadata": {
        "id": "u-we32B4zHl9",
        "colab": {
          "base_uri": "https://localhost:8080/",
          "height": 542
        },
        "outputId": "bad9d239-047d-4b9a-a98c-d42162ea4c37"
      },
      "execution_count": 175,
      "outputs": [
        {
          "output_type": "display_data",
          "data": {
            "text/plain": [
              "<Figure size 1600x600 with 2 Axes>"
            ],
            "image/png": "[encoded data removed]"
          },
          "metadata": {}
        }
      ]
    }
  ]
}