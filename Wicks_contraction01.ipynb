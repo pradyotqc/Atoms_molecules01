{
  "nbformat": 4,
  "nbformat_minor": 0,
  "metadata": {
    "colab": {
      "private_outputs": true,
      "provenance": [],
      "authorship_tag": "ABX9TyPSpNl4xw5klHhZ8Qm6ddv3"
    },
    "kernelspec": {
      "name": "python3",
      "display_name": "Python 3"
    },
    "language_info": {
      "name": "python"
    }
  },
  "cells": [
    {
      "cell_type": "code",
      "source": [
        "from sympy import symbols\n",
        "from sympy.physics.secondquant import F, Fd, contraction\n",
        "from sympy import *\n",
        "from sympy.physics.secondquant import *"
      ],
      "metadata": {
        "id": "0MGkB9ZA0fbh"
      },
      "execution_count": null,
      "outputs": []
    },
    {
      "cell_type": "code",
      "source": [
        "p, q = symbols('p,q', cls=Dummy)\n",
        "a, b, c, d = symbols('a, b, c, d', above_fermi=True, cls=Dummy)\n",
        "i, j, k, l = symbols('i, j, k, l', below_fermi=True, cls=Dummy)"
      ],
      "metadata": {
        "id": "9aGIqSSs2004"
      },
      "execution_count": null,
      "outputs": []
    },
    {
      "cell_type": "code",
      "source": [
        "contraction(F(a),Fd(b))"
      ],
      "metadata": {
        "id": "r0PjBnUL1Z48"
      },
      "execution_count": null,
      "outputs": []
    },
    {
      "cell_type": "code",
      "source": [
        "contraction(Fd(a), F(b))"
      ],
      "metadata": {
        "id": "A-uUXare1cs1"
      },
      "execution_count": null,
      "outputs": []
    },
    {
      "cell_type": "code",
      "source": [
        "simplify(contraction(F(p), Fd(q)))"
      ],
      "metadata": {
        "id": "NPvRxZTy2RCZ"
      },
      "execution_count": null,
      "outputs": []
    },
    {
      "cell_type": "code",
      "source": [
        "term1 = Fd(p)*F(q)\n",
        "term2 = Fd(p)*F(q)*Fd(a)*F(i)\n",
        "term3 = Fd(p)*F(q)*Fd(c)*Fd(d)*F(l)*F(k)\n",
        "term4 = Fd(i)*F(a)*Fd(p)*F(q)*Fd(a)*F(i)\n",
        "term5 = Fd(i)*F(a)*Fd(p)*F(q)*Fd(c)*Fd(d)*F(l)*F(k)\n",
        "term6 = Fd(k)*Fd(l)*F(d)*F(c)*Fd(p)*F(q)*Fd(c)*Fd(d)*F(l)*F(k)"
      ],
      "metadata": {
        "id": "9f6RU8e_P5_c"
      },
      "execution_count": null,
      "outputs": []
    },
    {
      "cell_type": "code",
      "source": [
        "print(\"After full contaction: \\n\")\n",
        "\n",
        "print(\"\\nTerm-1:-----------\")\n",
        "display(term1,evaluate_deltas(wicks(term1, keep_only_fully_contracted=True)))\n",
        "\n",
        "print(\"\\nTerm-2:-----------\")\n",
        "display(term2, evaluate_deltas(wicks(term2, keep_only_fully_contracted=True)))\n",
        "\n",
        "print(\"\\nTerm-3:-----------\")\n",
        "display(term3,evaluate_deltas(wicks(term3, keep_only_fully_contracted=True)))\n",
        "\n",
        "print(\"\\nTerm-4:-----------\")\n",
        "display(term4, evaluate_deltas(wicks(term4, keep_only_fully_contracted=True)))\n",
        "\n",
        "print(\"\\nTerm-5:-----------\")\n",
        "display(term5, evaluate_deltas(wicks(term5, keep_only_fully_contracted=True)))\n",
        "\n",
        "print(\"\\nTerm-6:-----------\")\n",
        "display(term6, evaluate_deltas(wicks(term6, keep_only_fully_contracted=True)))"
      ],
      "metadata": {
        "id": "mo0pEwx83Dxm"
      },
      "execution_count": null,
      "outputs": []
    },
    {
      "cell_type": "code",
      "source": [
        "# @title Contraction full and partial\n",
        "print(\"After partial contaction: \\n\")\n",
        "\n",
        "print(\"\\nTerm-1:-----------\")\n",
        "display(term1)\n",
        "display(evaluate_deltas(term1*(wicks(term1, keep_only_fully_contracted=True))))\n",
        "\n",
        "print(\"\\nTerm-2:-----------\")\n",
        "display(term2)\n",
        "display(evaluate_deltas(term2*(wicks(term2, keep_only_fully_contracted=True))))\n",
        "\n",
        "print(\"\\nTerm-3:-----------\")\n",
        "display(term3)\n",
        "display(evaluate_deltas(term3*(wicks(term3, keep_only_fully_contracted=True))))\n",
        "\n",
        "print(\"\\nTerm-4:-----------\")\n",
        "display(term4)\n",
        "display(evaluate_deltas(simplify(term4*(wicks(term4, keep_only_fully_contracted=True)))))\n",
        "print()\n",
        "display(evaluate_deltas(substitute_dummies(evaluate_deltas(term4*(wicks(term4, keep_only_fully_contracted=True))))))\n",
        "\n",
        "\n",
        "print(\"\\nTerm-5:-----------\")\n",
        "display(term5)\n",
        "display(evaluate_deltas(simplify(term5*(wicks(term5, keep_only_fully_contracted=True)))))\n",
        "print()\n",
        "display(evaluate_deltas(substitute_dummies(evaluate_deltas(term5*(wicks(term5, keep_only_fully_contracted=True))))))\n",
        "\n",
        "print(\"\\nTerm-6:-----------\")\n",
        "display(term6)\n",
        "display(evaluate_deltas(term6*evaluate_deltas(wicks(term6, keep_only_fully_contracted=True))))\n",
        "print()\n",
        "display(evaluate_deltas(substitute_dummies(evaluate_deltas(term6*(wicks(term6, keep_only_fully_contracted=True))))))"
      ],
      "metadata": {
        "id": "Y9wRdiZURwJN"
      },
      "execution_count": null,
      "outputs": []
    },
    {
      "cell_type": "code",
      "source": [
        "term7 = Dagger(term2)\n",
        "term7"
      ],
      "metadata": {
        "id": "L3_eWiS3bzYO"
      },
      "execution_count": null,
      "outputs": []
    },
    {
      "cell_type": "code",
      "source": [
        "NO(Fd(p) * F(q))"
      ],
      "metadata": {
        "id": "8u92S1wp7PJ0"
      },
      "execution_count": null,
      "outputs": []
    },
    {
      "cell_type": "code",
      "source": [
        "p,q = symbols('p,q', cls=Dummy)\n",
        "NO(Fd(p) * F(q)).doit()"
      ],
      "metadata": {
        "id": "X-5kN_urJ_VF"
      },
      "execution_count": null,
      "outputs": []
    },
    {
      "cell_type": "code",
      "source": [
        "NO(F(p) * Fd(q))"
      ],
      "metadata": {
        "id": "I8YnD2BD7bEb"
      },
      "execution_count": null,
      "outputs": []
    },
    {
      "cell_type": "code",
      "source": [
        "n = symbols('n', cls=Dummy)\n",
        "F(0).apply_operator(FKet((3,)))"
      ],
      "metadata": {
        "id": "-52L2ZMfsdWR"
      },
      "execution_count": null,
      "outputs": []
    },
    {
      "cell_type": "code",
      "source": [
        "FKet([1, 2])"
      ],
      "metadata": {
        "id": "C88aHjeIvoEV"
      },
      "execution_count": null,
      "outputs": []
    },
    {
      "cell_type": "code",
      "source": [
        "FBra([1, 2])"
      ],
      "metadata": {
        "id": "3eE1M8sNv-dG"
      },
      "execution_count": null,
      "outputs": []
    },
    {
      "cell_type": "code",
      "source": [
        "InnerProduct(FBra([1, 2]), FKet([1, 2]))"
      ],
      "metadata": {
        "id": "382Uv6c4wAm-"
      },
      "execution_count": null,
      "outputs": []
    },
    {
      "cell_type": "code",
      "source": [
        "x = F(1).apply_operator(FKet([1, 2]))\n",
        "x"
      ],
      "metadata": {
        "id": "ydqkRs6JvsY0"
      },
      "execution_count": null,
      "outputs": []
    },
    {
      "cell_type": "code",
      "source": [
        "InnerProduct(FBra([1, 2]), x)"
      ],
      "metadata": {
        "id": "ZK5gV1pDwxFa"
      },
      "execution_count": null,
      "outputs": []
    },
    {
      "cell_type": "code",
      "source": [
        "p, q = symbols('p,q', cls=Dummy)\n",
        "a = symbols('a', above_fermi=True, cls=Dummy)\n",
        "i = symbols('i', below_fermi=True, cls=Dummy)\n",
        "\n",
        "c, d = symbols('c, d', above_fermi=True, cls=Dummy)\n",
        "k, l = symbols('k, l', below_fermi=True, cls=Dummy)\n",
        "\n",
        "f = AntiSymmetricTensor('A',(p,),(q,))\n",
        "C = AntiSymmetricTensor('C',(i,),(a,))\n",
        "D = AntiSymmetricTensor('D', (k, l), (c, d))\n",
        "Op=f*(Fd(p)*F(q))\n",
        "Op0 = (Fd(p)*F(q))\n",
        "Op"
      ],
      "metadata": {
        "id": "0AsHZJTpGmSh"
      },
      "execution_count": null,
      "outputs": []
    },
    {
      "cell_type": "code",
      "source": [
        "psi0 = 1\n",
        "psi1 = 1*Fd(a)*F(i)\n",
        "psi2 = 1*Fd(k)*Fd(l)*F(d)*F(c)\n",
        "psi = [psi0, psi1, psi2]\n",
        "psid = [Dagger(i) for i in psi]\n",
        "# evaluate_deltas(wicks(x, keep_only_fully_contracted=True))"
      ],
      "metadata": {
        "id": "FXGM1RmRHvUT"
      },
      "execution_count": null,
      "outputs": []
    },
    {
      "cell_type": "code",
      "source": [
        "for i in psi:\n",
        "    display(i)\n"
      ],
      "metadata": {
        "id": "44-dUO3yalN8"
      },
      "execution_count": null,
      "outputs": []
    },
    {
      "cell_type": "code",
      "source": [
        "for i in range(len(psi)):\n",
        "    for j in range(len(psid)):\n",
        "        print(\"Term_{}{}:\".format(i+1,j+1))\n",
        "        display(psid[j]*Op*psi[i])\n",
        "        print()\n"
      ],
      "metadata": {
        "id": "xNadRQ8CbaJ7"
      },
      "execution_count": null,
      "outputs": []
    },
    {
      "cell_type": "code",
      "source": [
        "for i in range(len(psi)):\n",
        "    for j in range(len(psid)):\n",
        "        print(\"Term({}{}):\".format(i+1,j+1))\n",
        "        x = psid[i]*Op*psi[j]\n",
        "        # print(\"$\",latex(x), \"$\")\n",
        "        display(x)\n",
        "        print(\"After wicks contraction:\")\n",
        "        y = wicks(x)\n",
        "        # print(\"$\",latex(y),\"$\")\n",
        "        display(y)\n",
        "        print()\n"
      ],
      "metadata": {
        "id": "Cb8GKyxLdF21"
      },
      "execution_count": null,
      "outputs": []
    },
    {
      "cell_type": "code",
      "source": [
        "psid[1]*Op*psi[1]"
      ],
      "metadata": {
        "id": "jraFv9zqsm6y"
      },
      "execution_count": null,
      "outputs": []
    },
    {
      "cell_type": "code",
      "source": [
        "term4"
      ],
      "metadata": {
        "id": "so0y4i7esrUy"
      },
      "execution_count": null,
      "outputs": []
    },
    {
      "cell_type": "code",
      "source": [
        "wicks(psid[1]*Op*psi[1], keep_only_fully_contracted=True)"
      ],
      "metadata": {
        "id": "KqlMAowOqBCK"
      },
      "execution_count": null,
      "outputs": []
    },
    {
      "cell_type": "code",
      "source": [
        "wicks(psid[1]*Op0*psi[1], keep_only_fully_contracted=True)* psid[1]*Op*psi[1]"
      ],
      "metadata": {
        "id": "Qgtfu0I2r6mq"
      },
      "execution_count": null,
      "outputs": []
    },
    {
      "cell_type": "code",
      "source": [
        "evaluate_deltas(substitute_dummies(wicks(psid[1]*Op0*psi[1], keep_only_fully_contracted=True)* psid[1]*Op*psi[1]))"
      ],
      "metadata": {
        "id": "Ept0GlpNuPwq"
      },
      "execution_count": null,
      "outputs": []
    },
    {
      "cell_type": "code",
      "source": [
        "j = 0\n",
        "i = 1\n",
        "y = evaluate_deltas(substitute_dummies(wicks(psid[j]*Op0*psi[i], keep_only_fully_contracted=True)* psid[j]*Op*psi[i]))\n",
        "y"
      ],
      "metadata": {
        "id": "jC3L9CrjGrm0"
      },
      "execution_count": null,
      "outputs": []
    },
    {
      "cell_type": "code",
      "source": [
        "for i in range(len(psi)):\n",
        "    for j in range(len(psid)):\n",
        "        print(\"Term({}{}):\".format(i+1,j+1))\n",
        "        x = psid[i]*Op*psi[j]\n",
        "        display(x)\n",
        "        # print(\"$\",latex(x), \"$\")\n",
        "        print(\"After partial wicks contraction:\")\n",
        "        y = evaluate_deltas(substitute_dummies(wicks(psid[i]*Op0*psi[j], keep_only_fully_contracted=True)* psid[i]*Op*psi[j]))\n",
        "        display(y)\n",
        "        # print(\"$\",latex(y), \"$\")\n",
        "        print()"
      ],
      "metadata": {
        "id": "o15S65SGLMsR"
      },
      "execution_count": null,
      "outputs": []
    },
    {
      "cell_type": "code",
      "source": [
        "y = evaluate_deltas(substitute_dummies(wicks(psid[j]*Op0*psi[i], keep_only_fully_contracted=True)* psid[j]*Op*psi[i]))\n",
        "display(y.subs({i:1, a:5}))\n",
        "for i in y.args:\n",
        "    print(i)"
      ],
      "metadata": {
        "id": "hRBQwH9b7-iS"
      },
      "execution_count": null,
      "outputs": []
    },
    {
      "cell_type": "code",
      "source": [
        "y = evaluate_deltas(substitute_dummies(wicks(psid[j]*Op0*psi[i], keep_only_fully_contracted=True)* psid[j]*Op*psi[i]))\n",
        "display(y.subs({i:1, a:5}))\n",
        "for i in y.args:\n",
        "    print(i)"
      ],
      "metadata": {
        "id": "Iqjxrg1fCJk5"
      },
      "execution_count": null,
      "outputs": []
    },
    {
      "cell_type": "code",
      "source": [
        "from sympy.physics.secondquant import Fd, F\n",
        "import sympy as sp\n",
        "# Define symbols\n",
        "p, q, a, i = sp.symbols('p q a i')\n",
        "\n",
        "# Create the expression\n",
        "expr = Fd(p) * F(q) * Fd(a) * F(i)\n",
        "\n",
        "# Print the original expression\n",
        "print(\"Original Expression:\")\n",
        "sp.pprint(expr)\n",
        "\n",
        "# Use the result for further calculations\n",
        "# Example: Multiply by another operator or constant\n",
        "B = sp.Symbol('B')\n",
        "new_expr = expr * B\n",
        "\n",
        "# Print the new expression\n",
        "print(\"New Expression:\")\n",
        "sp.pprint(new_expr)\n",
        "\n",
        "# Substitute specific values if needed\n",
        "result = new_expr.subs({p: 1, q: 2, a: 3, i: 4, B: 5})\n",
        "\n",
        "# Print the final result\n",
        "print(\"Final Result after substitution:\")\n",
        "sp.pprint(result)\n",
        "\n",
        "# Evaluate numerically if needed\n",
        "numeric_result = result.evalf()\n",
        "print(\"Final Numeric Result:\")\n",
        "print(numeric_result)\n",
        "\n"
      ],
      "metadata": {
        "id": "5x5sf50QCLkQ"
      },
      "execution_count": null,
      "outputs": []
    },
    {
      "cell_type": "code",
      "source": [
        "import sympy as sp\n",
        "from sympy.physics.secondquant import Fd, F\n",
        "\n",
        "# Define symbols\n",
        "i, q, a, p = sp.symbols('i q a p')\n",
        "\n",
        "# Create the expression\n",
        "expr = F(i) * F(q) * Fd(a) * Fd(p)\n",
        "\n",
        "# Print the original expression\n",
        "print(\"Original Expression:\")\n",
        "sp.pprint(expr)\n",
        "\n",
        "# Define new values to iterate over\n",
        "i_values = [1, 2, 3]\n",
        "q_values = [4, 5, 6]\n",
        "a_values = [7, 8, 9]\n",
        "p_values = [10, 11, 12]\n",
        "\n",
        "# Iterate over new values and update the expression\n",
        "for i_val, q_val, a_val, p_val in zip(i_values, q_values, a_values, p_values):\n",
        "    new_expr = expr.subs({i: i_val, q: q_val, a: a_val, p: p_val})\n",
        "    print(f\"\\nUpdated Expression for i={i_val}, q={q_val}, a={a_val}, p={p_val}:\")\n",
        "    sp.pprint(new_expr)\n",
        "\n",
        "# Do further calculations if needed\n",
        "# Example: Evaluate numerically\n",
        "    numeric_result = new_expr.evalf()\n",
        "    print(f\"Numeric Result for i={i_val}, q={q_val}, a={a_val}, p={p_val}:\")\n",
        "    print(numeric_result)\n"
      ],
      "metadata": {
        "id": "tZ1XX3UBEVl3",
        "collapsed": true
      },
      "execution_count": null,
      "outputs": []
    }
  ]
}