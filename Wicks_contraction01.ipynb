{
  "nbformat": 4,
  "nbformat_minor": 0,
  "metadata": {
    "colab": {
      "provenance": [],
      "authorship_tag": "ABX9TyPSpNl4xw5klHhZ8Qm6ddv3"
    },
    "kernelspec": {
      "name": "python3",
      "display_name": "Python 3"
    },
    "language_info": {
      "name": "python"
    }
  },
  "cells": [
    {
      "cell_type": "code",
      "source": [
        "from sympy import symbols\n",
        "from sympy.physics.secondquant import F, Fd, contraction\n",
        "from sympy import *\n",
        "from sympy.physics.secondquant import *"
      ],
      "metadata": {
        "id": "0MGkB9ZA0fbh"
      },
      "execution_count": 36,
      "outputs": []
    },
    {
      "cell_type": "code",
      "source": [
        "p, q = symbols('p,q', cls=Dummy)\n",
        "a, b, c, d = symbols('a, b, c, d', above_fermi=True, cls=Dummy)\n",
        "i, j, k, l = symbols('i, j, k, l', below_fermi=True, cls=Dummy)"
      ],
      "metadata": {
        "id": "9aGIqSSs2004"
      },
      "execution_count": 37,
      "outputs": []
    },
    {
      "cell_type": "code",
      "source": [
        "contraction(F(a),Fd(b))"
      ],
      "metadata": {
        "id": "r0PjBnUL1Z48",
        "colab": {
          "base_uri": "https://localhost:8080/",
          "height": 39
        },
        "outputId": "aa3fd887-dbc8-47ff-f0a8-a660999bbb22"
      },
      "execution_count": 38,
      "outputs": [
        {
          "output_type": "execute_result",
          "data": {
            "text/plain": [
              "KroneckerDelta(_a, _b)"
            ],
            "text/latex": "$\\displaystyle \\delta_{a b}$"
          },
          "metadata": {},
          "execution_count": 38
        }
      ]
    },
    {
      "cell_type": "code",
      "source": [
        "contraction(Fd(a), F(b))"
      ],
      "metadata": {
        "id": "A-uUXare1cs1",
        "colab": {
          "base_uri": "https://localhost:8080/",
          "height": 37
        },
        "outputId": "0e7b81d0-a9e0-42f0-97b3-baf9b581f7c1"
      },
      "execution_count": 39,
      "outputs": [
        {
          "output_type": "execute_result",
          "data": {
            "text/plain": [
              "0"
            ],
            "text/latex": "$\\displaystyle 0$"
          },
          "metadata": {},
          "execution_count": 39
        }
      ]
    },
    {
      "cell_type": "code",
      "source": [
        "simplify(contraction(F(p), Fd(q)))"
      ],
      "metadata": {
        "id": "NPvRxZTy2RCZ",
        "colab": {
          "base_uri": "https://localhost:8080/",
          "height": 39
        },
        "outputId": "85744cce-0ccb-454b-f151-bcc6abbd1276"
      },
      "execution_count": 40,
      "outputs": [
        {
          "output_type": "execute_result",
          "data": {
            "text/plain": [
              "KroneckerDelta(_a, _q)*KroneckerDelta(_p, _q)"
            ],
            "text/latex": "$\\displaystyle \\delta_{a q} \\delta_{p q}$"
          },
          "metadata": {},
          "execution_count": 40
        }
      ]
    },
    {
      "cell_type": "code",
      "source": [
        "term1 = Fd(p)*F(q)\n",
        "term2 = Fd(p)*F(q)*Fd(a)*F(i)\n",
        "term3 = Fd(p)*F(q)*Fd(c)*Fd(d)*F(l)*F(k)\n",
        "term4 = Fd(i)*F(a)*Fd(p)*F(q)*Fd(a)*F(i)\n",
        "term5 = Fd(i)*F(a)*Fd(p)*F(q)*Fd(c)*Fd(d)*F(l)*F(k)\n",
        "term6 = Fd(k)*Fd(l)*F(d)*F(c)*Fd(p)*F(q)*Fd(c)*Fd(d)*F(l)*F(k)"
      ],
      "metadata": {
        "id": "9f6RU8e_P5_c"
      },
      "execution_count": 41,
      "outputs": []
    },
    {
      "cell_type": "code",
      "source": [
        "print(\"After full contaction: \\n\")\n",
        "\n",
        "print(\"\\nTerm-1:-----------\")\n",
        "display(term1,evaluate_deltas(wicks(term1, keep_only_fully_contracted=True)))\n",
        "\n",
        "print(\"\\nTerm-2:-----------\")\n",
        "display(term2, evaluate_deltas(wicks(term2, keep_only_fully_contracted=True)))\n",
        "\n",
        "print(\"\\nTerm-3:-----------\")\n",
        "display(term3,evaluate_deltas(wicks(term3, keep_only_fully_contracted=True)))\n",
        "\n",
        "print(\"\\nTerm-4:-----------\")\n",
        "display(term4, evaluate_deltas(wicks(term4, keep_only_fully_contracted=True)))\n",
        "\n",
        "print(\"\\nTerm-5:-----------\")\n",
        "display(term5, evaluate_deltas(wicks(term5, keep_only_fully_contracted=True)))\n",
        "\n",
        "print(\"\\nTerm-6:-----------\")\n",
        "display(term6, evaluate_deltas(wicks(term6, keep_only_fully_contracted=True)))"
      ],
      "metadata": {
        "id": "mo0pEwx83Dxm",
        "colab": {
          "base_uri": "https://localhost:8080/",
          "height": 535
        },
        "outputId": "a9dfa609-9d55-488a-ce84-f7bc99a7e4c8"
      },
      "execution_count": 42,
      "outputs": [
        {
          "output_type": "stream",
          "name": "stdout",
          "text": [
            "After full contaction: \n",
            "\n",
            "\n",
            "Term-1:-----------\n"
          ]
        },
        {
          "output_type": "display_data",
          "data": {
            "text/plain": [
              "CreateFermion(_p)*AnnihilateFermion(_q)"
            ],
            "text/latex": "$\\displaystyle {a^\\dagger_{p}} a_{q}$"
          },
          "metadata": {}
        },
        {
          "output_type": "display_data",
          "data": {
            "text/plain": [
              "KroneckerDelta(_i, _p)"
            ],
            "text/latex": "$\\displaystyle \\delta_{i p}$"
          },
          "metadata": {}
        },
        {
          "output_type": "stream",
          "name": "stdout",
          "text": [
            "\n",
            "Term-2:-----------\n"
          ]
        },
        {
          "output_type": "display_data",
          "data": {
            "text/plain": [
              "CreateFermion(_p)*AnnihilateFermion(_q)*CreateFermion(_a)*AnnihilateFermion(_i)"
            ],
            "text/latex": "$\\displaystyle {a^\\dagger_{p}} a_{q} {a^\\dagger_{a}} a_{i}$"
          },
          "metadata": {}
        },
        {
          "output_type": "display_data",
          "data": {
            "text/plain": [
              "KroneckerDelta(_a, _q)*KroneckerDelta(_i, _p)"
            ],
            "text/latex": "$\\displaystyle \\delta_{a q} \\delta_{i p}$"
          },
          "metadata": {}
        },
        {
          "output_type": "stream",
          "name": "stdout",
          "text": [
            "\n",
            "Term-3:-----------\n"
          ]
        },
        {
          "output_type": "display_data",
          "data": {
            "text/plain": [
              "CreateFermion(_p)*AnnihilateFermion(_q)*CreateFermion(_c)*CreateFermion(_d)*AnnihilateFermion(_l)*AnnihilateFermion(_k)"
            ],
            "text/latex": "$\\displaystyle {a^\\dagger_{p}} a_{q} {a^\\dagger_{c}} {a^\\dagger_{d}} a_{l} a_{k}$"
          },
          "metadata": {}
        },
        {
          "output_type": "display_data",
          "data": {
            "text/plain": [
              "0"
            ],
            "text/latex": "$\\displaystyle 0$"
          },
          "metadata": {}
        },
        {
          "output_type": "stream",
          "name": "stdout",
          "text": [
            "\n",
            "Term-4:-----------\n"
          ]
        },
        {
          "output_type": "display_data",
          "data": {
            "text/plain": [
              "CreateFermion(_i)*AnnihilateFermion(_a)*CreateFermion(_p)*AnnihilateFermion(_q)*CreateFermion(_a)*AnnihilateFermion(_i)"
            ],
            "text/latex": "$\\displaystyle {a^\\dagger_{i}} a_{a} {a^\\dagger_{p}} a_{q} {a^\\dagger_{a}} a_{i}$"
          },
          "metadata": {}
        },
        {
          "output_type": "display_data",
          "data": {
            "text/plain": [
              "KroneckerDelta(_a, _p)*KroneckerDelta(_a, _q) - KroneckerDelta(_i, _p)*KroneckerDelta(_i, _q) + KroneckerDelta(_i, _p)"
            ],
            "text/latex": "$\\displaystyle \\delta_{a p} \\delta_{a q} - \\delta_{i p} \\delta_{i q} + \\delta_{i p}$"
          },
          "metadata": {}
        },
        {
          "output_type": "stream",
          "name": "stdout",
          "text": [
            "\n",
            "Term-5:-----------\n"
          ]
        },
        {
          "output_type": "display_data",
          "data": {
            "text/plain": [
              "CreateFermion(_i)*AnnihilateFermion(_a)*CreateFermion(_p)*AnnihilateFermion(_q)*CreateFermion(_c)*CreateFermion(_d)*AnnihilateFermion(_l)*AnnihilateFermion(_k)"
            ],
            "text/latex": "$\\displaystyle {a^\\dagger_{i}} a_{a} {a^\\dagger_{p}} a_{q} {a^\\dagger_{c}} {a^\\dagger_{d}} a_{l} a_{k}$"
          },
          "metadata": {}
        },
        {
          "output_type": "display_data",
          "data": {
            "text/plain": [
              "KroneckerDelta(_a, _c)*KroneckerDelta(_d, _q)*KroneckerDelta(_i, _k)*KroneckerDelta(_l, _p) - KroneckerDelta(_a, _c)*KroneckerDelta(_d, _q)*KroneckerDelta(_i, _l)*KroneckerDelta(_k, _p) - KroneckerDelta(_a, _d)*KroneckerDelta(_c, _q)*KroneckerDelta(_i, _k)*KroneckerDelta(_l, _p) + KroneckerDelta(_a, _d)*KroneckerDelta(_c, _q)*KroneckerDelta(_i, _l)*KroneckerDelta(_k, _p)"
            ],
            "text/latex": "$\\displaystyle \\delta_{a c} \\delta_{d q} \\delta_{i k} \\delta_{l p} - \\delta_{a c} \\delta_{d q} \\delta_{i l} \\delta_{k p} - \\delta_{a d} \\delta_{c q} \\delta_{i k} \\delta_{l p} + \\delta_{a d} \\delta_{c q} \\delta_{i l} \\delta_{k p}$"
          },
          "metadata": {}
        },
        {
          "output_type": "stream",
          "name": "stdout",
          "text": [
            "\n",
            "Term-6:-----------\n"
          ]
        },
        {
          "output_type": "display_data",
          "data": {
            "text/plain": [
              "CreateFermion(_k)*CreateFermion(_l)*AnnihilateFermion(_d)*AnnihilateFermion(_c)*CreateFermion(_p)*AnnihilateFermion(_q)*CreateFermion(_c)*CreateFermion(_d)*AnnihilateFermion(_l)*AnnihilateFermion(_k)"
            ],
            "text/latex": "$\\displaystyle {a^\\dagger_{k}} {a^\\dagger_{l}} a_{d} a_{c} {a^\\dagger_{p}} a_{q} {a^\\dagger_{c}} {a^\\dagger_{d}} a_{l} a_{k}$"
          },
          "metadata": {}
        },
        {
          "output_type": "display_data",
          "data": {
            "text/plain": [
              "KroneckerDelta(_c, _d)*KroneckerDelta(_i, _p)*KroneckerDelta(_k, _l) - KroneckerDelta(_c, _d)*KroneckerDelta(_i, _p) - KroneckerDelta(_c, _d)*KroneckerDelta(_k, _p)*KroneckerDelta(_k, _q) + KroneckerDelta(_c, _d)*KroneckerDelta(_l, _p)*KroneckerDelta(_l, _q) + KroneckerDelta(_c, _p)*KroneckerDelta(_c, _q)*KroneckerDelta(_k, _l) - KroneckerDelta(_c, _p)*KroneckerDelta(_c, _q) - KroneckerDelta(_d, _p)*KroneckerDelta(_d, _q)*KroneckerDelta(_k, _l) + KroneckerDelta(_d, _p)*KroneckerDelta(_d, _q) - KroneckerDelta(_i, _p)*KroneckerDelta(_k, _l) + KroneckerDelta(_i, _p) + KroneckerDelta(_k, _p)*KroneckerDelta(_k, _q) - KroneckerDelta(_l, _p)*KroneckerDelta(_l, _q)"
            ],
            "text/latex": "$\\displaystyle \\delta_{c d} \\delta_{i p} \\delta_{k l} - \\delta_{c d} \\delta_{i p} - \\delta_{c d} \\delta_{k p} \\delta_{k q} + \\delta_{c d} \\delta_{l p} \\delta_{l q} + \\delta_{c p} \\delta_{c q} \\delta_{k l} - \\delta_{c p} \\delta_{c q} - \\delta_{d p} \\delta_{d q} \\delta_{k l} + \\delta_{d p} \\delta_{d q} - \\delta_{i p} \\delta_{k l} + \\delta_{i p} + \\delta_{k p} \\delta_{k q} - \\delta_{l p} \\delta_{l q}$"
          },
          "metadata": {}
        }
      ]
    },
    {
      "cell_type": "code",
      "source": [
        "# @title Contraction full and partial\n",
        "print(\"After partial contaction: \\n\")\n",
        "\n",
        "print(\"\\nTerm-1:-----------\")\n",
        "display(term1)\n",
        "display(evaluate_deltas(term1*(wicks(term1, keep_only_fully_contracted=True))))\n",
        "\n",
        "print(\"\\nTerm-2:-----------\")\n",
        "display(term2)\n",
        "display(evaluate_deltas(term2*(wicks(term2, keep_only_fully_contracted=True))))\n",
        "\n",
        "print(\"\\nTerm-3:-----------\")\n",
        "display(term3)\n",
        "display(evaluate_deltas(term3*(wicks(term3, keep_only_fully_contracted=True))))\n",
        "\n",
        "print(\"\\nTerm-4:-----------\")\n",
        "display(term4)\n",
        "display(evaluate_deltas(simplify(term4*(wicks(term4, keep_only_fully_contracted=True)))))\n",
        "print()\n",
        "display(evaluate_deltas(substitute_dummies(evaluate_deltas(term4*(wicks(term4, keep_only_fully_contracted=True))))))\n",
        "\n",
        "\n",
        "print(\"\\nTerm-5:-----------\")\n",
        "display(term5)\n",
        "display(evaluate_deltas(simplify(term5*(wicks(term5, keep_only_fully_contracted=True)))))\n",
        "print()\n",
        "display(evaluate_deltas(substitute_dummies(evaluate_deltas(term5*(wicks(term5, keep_only_fully_contracted=True))))))\n",
        "\n",
        "print(\"\\nTerm-6:-----------\")\n",
        "display(term6)\n",
        "display(evaluate_deltas(term6*evaluate_deltas(wicks(term6, keep_only_fully_contracted=True))))\n",
        "print()\n",
        "display(evaluate_deltas(substitute_dummies(evaluate_deltas(term6*(wicks(term6, keep_only_fully_contracted=True))))))"
      ],
      "metadata": {
        "id": "Y9wRdiZURwJN",
        "colab": {
          "base_uri": "https://localhost:8080/",
          "height": 714
        },
        "outputId": "08eaa1bf-6b12-4301-c022-8214cfa69d64"
      },
      "execution_count": 43,
      "outputs": [
        {
          "output_type": "stream",
          "name": "stdout",
          "text": [
            "After partial contaction: \n",
            "\n",
            "\n",
            "Term-1:-----------\n"
          ]
        },
        {
          "output_type": "display_data",
          "data": {
            "text/plain": [
              "CreateFermion(_p)*AnnihilateFermion(_q)"
            ],
            "text/latex": "$\\displaystyle {a^\\dagger_{p}} a_{q}$"
          },
          "metadata": {}
        },
        {
          "output_type": "display_data",
          "data": {
            "text/plain": [
              "CreateFermion(_i)*AnnihilateFermion(_i)"
            ],
            "text/latex": "$\\displaystyle {a^\\dagger_{i}} a_{i}$"
          },
          "metadata": {}
        },
        {
          "output_type": "stream",
          "name": "stdout",
          "text": [
            "\n",
            "Term-2:-----------\n"
          ]
        },
        {
          "output_type": "display_data",
          "data": {
            "text/plain": [
              "CreateFermion(_p)*AnnihilateFermion(_q)*CreateFermion(_a)*AnnihilateFermion(_i)"
            ],
            "text/latex": "$\\displaystyle {a^\\dagger_{p}} a_{q} {a^\\dagger_{a}} a_{i}$"
          },
          "metadata": {}
        },
        {
          "output_type": "display_data",
          "data": {
            "text/plain": [
              "CreateFermion(_i)*AnnihilateFermion(_a)*CreateFermion(_a)*AnnihilateFermion(_i)"
            ],
            "text/latex": "$\\displaystyle {a^\\dagger_{i}} a_{a} {a^\\dagger_{a}} a_{i}$"
          },
          "metadata": {}
        },
        {
          "output_type": "stream",
          "name": "stdout",
          "text": [
            "\n",
            "Term-3:-----------\n"
          ]
        },
        {
          "output_type": "display_data",
          "data": {
            "text/plain": [
              "CreateFermion(_p)*AnnihilateFermion(_q)*CreateFermion(_c)*CreateFermion(_d)*AnnihilateFermion(_l)*AnnihilateFermion(_k)"
            ],
            "text/latex": "$\\displaystyle {a^\\dagger_{p}} a_{q} {a^\\dagger_{c}} {a^\\dagger_{d}} a_{l} a_{k}$"
          },
          "metadata": {}
        },
        {
          "output_type": "display_data",
          "data": {
            "text/plain": [
              "0"
            ],
            "text/latex": "$\\displaystyle 0$"
          },
          "metadata": {}
        },
        {
          "output_type": "stream",
          "name": "stdout",
          "text": [
            "\n",
            "Term-4:-----------\n"
          ]
        },
        {
          "output_type": "display_data",
          "data": {
            "text/plain": [
              "CreateFermion(_i)*AnnihilateFermion(_a)*CreateFermion(_p)*AnnihilateFermion(_q)*CreateFermion(_a)*AnnihilateFermion(_i)"
            ],
            "text/latex": "$\\displaystyle {a^\\dagger_{i}} a_{a} {a^\\dagger_{p}} a_{q} {a^\\dagger_{a}} a_{i}$"
          },
          "metadata": {}
        },
        {
          "output_type": "display_data",
          "data": {
            "text/plain": [
              "(KroneckerDelta(_a, _p)*KroneckerDelta(_a, _q) - KroneckerDelta(_i, _p)*KroneckerDelta(_i, _q) + KroneckerDelta(_i, _q)*KroneckerDelta(_p, _q))*CreateFermion(_i)*AnnihilateFermion(_a)*CreateFermion(_p)*AnnihilateFermion(_q)*CreateFermion(_a)*AnnihilateFermion(_i)"
            ],
            "text/latex": "$\\displaystyle \\left(\\delta_{a p} \\delta_{a q} - \\delta_{i p} \\delta_{i q} + \\delta_{i q} \\delta_{p q}\\right) {a^\\dagger_{i}} a_{a} {a^\\dagger_{p}} a_{q} {a^\\dagger_{a}} a_{i}$"
          },
          "metadata": {}
        },
        {
          "output_type": "stream",
          "name": "stdout",
          "text": [
            "\n"
          ]
        },
        {
          "output_type": "display_data",
          "data": {
            "text/plain": [
              "CreateFermion(_i)*AnnihilateFermion(_a)*CreateFermion(_a)*AnnihilateFermion(_a)*CreateFermion(_a)*AnnihilateFermion(_i) - CreateFermion(_i)*AnnihilateFermion(_a)*CreateFermion(_i)*AnnihilateFermion(_i)*CreateFermion(_a)*AnnihilateFermion(_i) + CreateFermion(_i)*AnnihilateFermion(_a)*CreateFermion(_i)*AnnihilateFermion(_i)*CreateFermion(_a)*AnnihilateFermion(_i)"
            ],
            "text/latex": "$\\displaystyle {a^\\dagger_{i}} a_{a} {a^\\dagger_{a}} a_{a} {a^\\dagger_{a}} a_{i} - {a^\\dagger_{i}} a_{a} {a^\\dagger_{i}} a_{i} {a^\\dagger_{a}} a_{i} + {a^\\dagger_{i}} a_{a} {a^\\dagger_{i}} a_{i} {a^\\dagger_{a}} a_{i}$"
          },
          "metadata": {}
        },
        {
          "output_type": "stream",
          "name": "stdout",
          "text": [
            "\n",
            "Term-5:-----------\n"
          ]
        },
        {
          "output_type": "display_data",
          "data": {
            "text/plain": [
              "CreateFermion(_i)*AnnihilateFermion(_a)*CreateFermion(_p)*AnnihilateFermion(_q)*CreateFermion(_c)*CreateFermion(_d)*AnnihilateFermion(_l)*AnnihilateFermion(_k)"
            ],
            "text/latex": "$\\displaystyle {a^\\dagger_{i}} a_{a} {a^\\dagger_{p}} a_{q} {a^\\dagger_{c}} {a^\\dagger_{d}} a_{l} a_{k}$"
          },
          "metadata": {}
        },
        {
          "output_type": "display_data",
          "data": {
            "text/plain": [
              "(KroneckerDelta(_a, _c)*KroneckerDelta(_d, _q)*KroneckerDelta(_i, _k)*KroneckerDelta(_l, _p) - KroneckerDelta(_a, _c)*KroneckerDelta(_d, _q)*KroneckerDelta(_i, _l)*KroneckerDelta(_k, _p) - KroneckerDelta(_a, _d)*KroneckerDelta(_c, _q)*KroneckerDelta(_i, _k)*KroneckerDelta(_l, _p) + KroneckerDelta(_a, _d)*KroneckerDelta(_c, _q)*KroneckerDelta(_i, _l)*KroneckerDelta(_k, _p))*CreateFermion(_i)*AnnihilateFermion(_a)*CreateFermion(_p)*AnnihilateFermion(_q)*CreateFermion(_c)*CreateFermion(_d)*AnnihilateFermion(_l)*AnnihilateFermion(_k)"
            ],
            "text/latex": "$\\displaystyle \\left(\\delta_{a c} \\delta_{d q} \\delta_{i k} \\delta_{l p} - \\delta_{a c} \\delta_{d q} \\delta_{i l} \\delta_{k p} - \\delta_{a d} \\delta_{c q} \\delta_{i k} \\delta_{l p} + \\delta_{a d} \\delta_{c q} \\delta_{i l} \\delta_{k p}\\right) {a^\\dagger_{i}} a_{a} {a^\\dagger_{p}} a_{q} {a^\\dagger_{c}} {a^\\dagger_{d}} a_{l} a_{k}$"
          },
          "metadata": {}
        },
        {
          "output_type": "stream",
          "name": "stdout",
          "text": [
            "\n"
          ]
        },
        {
          "output_type": "display_data",
          "data": {
            "text/plain": [
              "-CreateFermion(_i)*AnnihilateFermion(_a)*CreateFermion(_k)*AnnihilateFermion(_d)*CreateFermion(_a)*CreateFermion(_d)*AnnihilateFermion(_i)*AnnihilateFermion(_k) + CreateFermion(_i)*AnnihilateFermion(_a)*CreateFermion(_k)*AnnihilateFermion(_d)*CreateFermion(_a)*CreateFermion(_d)*AnnihilateFermion(_k)*AnnihilateFermion(_i) + CreateFermion(_i)*AnnihilateFermion(_a)*CreateFermion(_k)*AnnihilateFermion(_d)*CreateFermion(_d)*CreateFermion(_a)*AnnihilateFermion(_i)*AnnihilateFermion(_k) - CreateFermion(_i)*AnnihilateFermion(_a)*CreateFermion(_k)*AnnihilateFermion(_d)*CreateFermion(_d)*CreateFermion(_a)*AnnihilateFermion(_k)*AnnihilateFermion(_i)"
            ],
            "text/latex": "$\\displaystyle - {a^\\dagger_{i}} a_{a} {a^\\dagger_{k}} a_{d} {a^\\dagger_{a}} {a^\\dagger_{d}} a_{i} a_{k} + {a^\\dagger_{i}} a_{a} {a^\\dagger_{k}} a_{d} {a^\\dagger_{a}} {a^\\dagger_{d}} a_{k} a_{i} + {a^\\dagger_{i}} a_{a} {a^\\dagger_{k}} a_{d} {a^\\dagger_{d}} {a^\\dagger_{a}} a_{i} a_{k} - {a^\\dagger_{i}} a_{a} {a^\\dagger_{k}} a_{d} {a^\\dagger_{d}} {a^\\dagger_{a}} a_{k} a_{i}$"
          },
          "metadata": {}
        },
        {
          "output_type": "stream",
          "name": "stdout",
          "text": [
            "\n",
            "Term-6:-----------\n"
          ]
        },
        {
          "output_type": "display_data",
          "data": {
            "text/plain": [
              "CreateFermion(_k)*CreateFermion(_l)*AnnihilateFermion(_d)*AnnihilateFermion(_c)*CreateFermion(_p)*AnnihilateFermion(_q)*CreateFermion(_c)*CreateFermion(_d)*AnnihilateFermion(_l)*AnnihilateFermion(_k)"
            ],
            "text/latex": "$\\displaystyle {a^\\dagger_{k}} {a^\\dagger_{l}} a_{d} a_{c} {a^\\dagger_{p}} a_{q} {a^\\dagger_{c}} {a^\\dagger_{d}} a_{l} a_{k}$"
          },
          "metadata": {}
        },
        {
          "output_type": "display_data",
          "data": {
            "text/plain": [
              "(KroneckerDelta(_c, _d)*KroneckerDelta(_i, _p)*KroneckerDelta(_k, _l) - KroneckerDelta(_c, _d)*KroneckerDelta(_i, _p) - KroneckerDelta(_c, _d)*KroneckerDelta(_k, _p)*KroneckerDelta(_k, _q) + KroneckerDelta(_c, _d)*KroneckerDelta(_l, _p)*KroneckerDelta(_l, _q) + KroneckerDelta(_c, _p)*KroneckerDelta(_c, _q)*KroneckerDelta(_k, _l) - KroneckerDelta(_c, _p)*KroneckerDelta(_c, _q) - KroneckerDelta(_d, _p)*KroneckerDelta(_d, _q)*KroneckerDelta(_k, _l) + KroneckerDelta(_d, _p)*KroneckerDelta(_d, _q) - KroneckerDelta(_i, _p)*KroneckerDelta(_k, _l) + KroneckerDelta(_i, _p) + KroneckerDelta(_k, _p)*KroneckerDelta(_k, _q) - KroneckerDelta(_l, _p)*KroneckerDelta(_l, _q))*CreateFermion(_k)*CreateFermion(_l)*AnnihilateFermion(_d)*AnnihilateFermion(_c)*CreateFermion(_p)*AnnihilateFermion(_q)*CreateFermion(_c)*CreateFermion(_d)*AnnihilateFermion(_l)*AnnihilateFermion(_k)"
            ],
            "text/latex": "$\\displaystyle \\left(\\delta_{c d} \\delta_{i p} \\delta_{k l} - \\delta_{c d} \\delta_{i p} - \\delta_{c d} \\delta_{k p} \\delta_{k q} + \\delta_{c d} \\delta_{l p} \\delta_{l q} + \\delta_{c p} \\delta_{c q} \\delta_{k l} - \\delta_{c p} \\delta_{c q} - \\delta_{d p} \\delta_{d q} \\delta_{k l} + \\delta_{d p} \\delta_{d q} - \\delta_{i p} \\delta_{k l} + \\delta_{i p} + \\delta_{k p} \\delta_{k q} - \\delta_{l p} \\delta_{l q}\\right) {a^\\dagger_{k}} {a^\\dagger_{l}} a_{d} a_{c} {a^\\dagger_{p}} a_{q} {a^\\dagger_{c}} {a^\\dagger_{d}} a_{l} a_{k}$"
          },
          "metadata": {}
        },
        {
          "output_type": "stream",
          "name": "stdout",
          "text": [
            "\n"
          ]
        },
        {
          "output_type": "display_data",
          "data": {
            "text/plain": [
              "CreateFermion(_i)*CreateFermion(_k)*AnnihilateFermion(_c)*AnnihilateFermion(_d)*CreateFermion(_d)*AnnihilateFermion(_d)*CreateFermion(_d)*CreateFermion(_c)*AnnihilateFermion(_k)*AnnihilateFermion(_i) - CreateFermion(_i)*CreateFermion(_k)*AnnihilateFermion(_c)*AnnihilateFermion(_d)*CreateFermion(_k)*AnnihilateFermion(_k)*CreateFermion(_d)*CreateFermion(_c)*AnnihilateFermion(_k)*AnnihilateFermion(_i) - 2*CreateFermion(_i)*CreateFermion(_k)*AnnihilateFermion(_c)**2*CreateFermion(_c)*AnnihilateFermion(_c)*CreateFermion(_c)**2*AnnihilateFermion(_k)*AnnihilateFermion(_i) + CreateFermion(_i)*CreateFermion(_k)*AnnihilateFermion(_c)**2*CreateFermion(_k)*AnnihilateFermion(_k)*CreateFermion(_c)**2*AnnihilateFermion(_k)*AnnihilateFermion(_i) - CreateFermion(_i)*CreateFermion(_k)*AnnihilateFermion(_c)**2*CreateFermion(_l)*AnnihilateFermion(_l)*CreateFermion(_c)**2*AnnihilateFermion(_k)*AnnihilateFermion(_i) + CreateFermion(_i)*CreateFermion(_k)*AnnihilateFermion(_d)*AnnihilateFermion(_c)*CreateFermion(_d)*AnnihilateFermion(_d)*CreateFermion(_c)*CreateFermion(_d)*AnnihilateFermion(_k)*AnnihilateFermion(_i) - CreateFermion(_i)**2*AnnihilateFermion(_c)*AnnihilateFermion(_d)*CreateFermion(_d)*AnnihilateFermion(_d)*CreateFermion(_d)*CreateFermion(_c)*AnnihilateFermion(_i)**2 + 2*CreateFermion(_i)**2*AnnihilateFermion(_c)*AnnihilateFermion(_d)*CreateFermion(_i)*AnnihilateFermion(_i)*CreateFermion(_d)*CreateFermion(_c)*AnnihilateFermion(_i)**2 - CreateFermion(_i)**2*AnnihilateFermion(_c)*AnnihilateFermion(_d)*CreateFermion(_l)*AnnihilateFermion(_l)*CreateFermion(_d)*CreateFermion(_c)*AnnihilateFermion(_i)**2 + 2*CreateFermion(_i)**2*AnnihilateFermion(_c)**2*CreateFermion(_c)*AnnihilateFermion(_c)*CreateFermion(_c)**2*AnnihilateFermion(_i)**2 - 2*CreateFermion(_i)**2*AnnihilateFermion(_c)**2*CreateFermion(_i)*AnnihilateFermion(_i)*CreateFermion(_c)**2*AnnihilateFermion(_i)**2 + CreateFermion(_i)**2*AnnihilateFermion(_c)**2*CreateFermion(_l)*AnnihilateFermion(_l)*CreateFermion(_c)**2*AnnihilateFermion(_i)**2 - CreateFermion(_i)**2*AnnihilateFermion(_d)*AnnihilateFermion(_c)*CreateFermion(_d)*AnnihilateFermion(_d)*CreateFermion(_c)*CreateFermion(_d)*AnnihilateFermion(_i)**2 - CreateFermion(_k)*CreateFermion(_i)*AnnihilateFermion(_c)*AnnihilateFermion(_d)*CreateFermion(_k)*AnnihilateFermion(_k)*CreateFermion(_d)*CreateFermion(_c)*AnnihilateFermion(_i)*AnnihilateFermion(_k) + CreateFermion(_k)*CreateFermion(_i)*AnnihilateFermion(_c)*AnnihilateFermion(_d)*CreateFermion(_l)*AnnihilateFermion(_l)*CreateFermion(_d)*CreateFermion(_c)*AnnihilateFermion(_i)*AnnihilateFermion(_k) + CreateFermion(_k)*CreateFermion(_i)*AnnihilateFermion(_c)**2*CreateFermion(_k)*AnnihilateFermion(_k)*CreateFermion(_c)**2*AnnihilateFermion(_i)*AnnihilateFermion(_k)"
            ],
            "text/latex": "$\\displaystyle {a^\\dagger_{i}} {a^\\dagger_{k}} a_{c} a_{d} {a^\\dagger_{d}} a_{d} {a^\\dagger_{d}} {a^\\dagger_{c}} a_{k} a_{i} - {a^\\dagger_{i}} {a^\\dagger_{k}} a_{c} a_{d} {a^\\dagger_{k}} a_{k} {a^\\dagger_{d}} {a^\\dagger_{c}} a_{k} a_{i} - 2 {a^\\dagger_{i}} {a^\\dagger_{k}} a_{c}^{2} {a^\\dagger_{c}} a_{c} {a^\\dagger_{c}}^{2} a_{k} a_{i} + {a^\\dagger_{i}} {a^\\dagger_{k}} a_{c}^{2} {a^\\dagger_{k}} a_{k} {a^\\dagger_{c}}^{2} a_{k} a_{i} - {a^\\dagger_{i}} {a^\\dagger_{k}} a_{c}^{2} {a^\\dagger_{l}} a_{l} {a^\\dagger_{c}}^{2} a_{k} a_{i} + {a^\\dagger_{i}} {a^\\dagger_{k}} a_{d} a_{c} {a^\\dagger_{d}} a_{d} {a^\\dagger_{c}} {a^\\dagger_{d}} a_{k} a_{i} - {a^\\dagger_{i}}^{2} a_{c} a_{d} {a^\\dagger_{d}} a_{d} {a^\\dagger_{d}} {a^\\dagger_{c}} a_{i}^{2} + 2 {a^\\dagger_{i}}^{2} a_{c} a_{d} {a^\\dagger_{i}} a_{i} {a^\\dagger_{d}} {a^\\dagger_{c}} a_{i}^{2} - {a^\\dagger_{i}}^{2} a_{c} a_{d} {a^\\dagger_{l}} a_{l} {a^\\dagger_{d}} {a^\\dagger_{c}} a_{i}^{2} + 2 {a^\\dagger_{i}}^{2} a_{c}^{2} {a^\\dagger_{c}} a_{c} {a^\\dagger_{c}}^{2} a_{i}^{2} - 2 {a^\\dagger_{i}}^{2} a_{c}^{2} {a^\\dagger_{i}} a_{i} {a^\\dagger_{c}}^{2} a_{i}^{2} + {a^\\dagger_{i}}^{2} a_{c}^{2} {a^\\dagger_{l}} a_{l} {a^\\dagger_{c}}^{2} a_{i}^{2} - {a^\\dagger_{i}}^{2} a_{d} a_{c} {a^\\dagger_{d}} a_{d} {a^\\dagger_{c}} {a^\\dagger_{d}} a_{i}^{2} - {a^\\dagger_{k}} {a^\\dagger_{i}} a_{c} a_{d} {a^\\dagger_{k}} a_{k} {a^\\dagger_{d}} {a^\\dagger_{c}} a_{i} a_{k} + {a^\\dagger_{k}} {a^\\dagger_{i}} a_{c} a_{d} {a^\\dagger_{l}} a_{l} {a^\\dagger_{d}} {a^\\dagger_{c}} a_{i} a_{k} + {a^\\dagger_{k}} {a^\\dagger_{i}} a_{c}^{2} {a^\\dagger_{k}} a_{k} {a^\\dagger_{c}}^{2} a_{i} a_{k}$"
          },
          "metadata": {}
        }
      ]
    },
    {
      "cell_type": "code",
      "source": [
        "term7 = Dagger(term2)\n",
        "term7"
      ],
      "metadata": {
        "id": "L3_eWiS3bzYO",
        "colab": {
          "base_uri": "https://localhost:8080/",
          "height": 40
        },
        "outputId": "fcb6789f-ff6b-4e2d-b1db-662f72cd529e"
      },
      "execution_count": 44,
      "outputs": [
        {
          "output_type": "execute_result",
          "data": {
            "text/plain": [
              "CreateFermion(_i)*AnnihilateFermion(_a)*CreateFermion(_q)*AnnihilateFermion(_p)"
            ],
            "text/latex": "$\\displaystyle {a^\\dagger_{i}} a_{a} {a^\\dagger_{q}} a_{p}$"
          },
          "metadata": {},
          "execution_count": 44
        }
      ]
    },
    {
      "cell_type": "code",
      "source": [
        "NO(Fd(p) * F(q))"
      ],
      "metadata": {
        "id": "8u92S1wp7PJ0",
        "colab": {
          "base_uri": "https://localhost:8080/",
          "height": 39
        },
        "outputId": "d81b7451-9387-4af4-a2a1-bc0937dd079b"
      },
      "execution_count": 45,
      "outputs": [
        {
          "output_type": "execute_result",
          "data": {
            "text/plain": [
              "NO(CreateFermion(_p)*AnnihilateFermion(_q))"
            ],
            "text/latex": "$\\displaystyle \\left\\{{a^\\dagger_{p}} a_{q}\\right\\}$"
          },
          "metadata": {},
          "execution_count": 45
        }
      ]
    },
    {
      "cell_type": "code",
      "source": [
        "p,q = symbols('p,q', cls=Dummy)\n",
        "NO(Fd(p) * F(q)).doit()"
      ],
      "metadata": {
        "id": "X-5kN_urJ_VF",
        "colab": {
          "base_uri": "https://localhost:8080/",
          "height": 39
        },
        "outputId": "f414fed9-a394-4097-98a2-46d248e86f08"
      },
      "execution_count": 46,
      "outputs": [
        {
          "output_type": "execute_result",
          "data": {
            "text/plain": [
              "KroneckerDelta(_a, _p)*KroneckerDelta(_a, _q)*CreateFermion(_a)*AnnihilateFermion(_a) + KroneckerDelta(_a, _p)*KroneckerDelta(_i, _q)*CreateFermion(_a)*AnnihilateFermion(_i) - KroneckerDelta(_a, _q)*KroneckerDelta(_i, _p)*AnnihilateFermion(_a)*CreateFermion(_i) - KroneckerDelta(_i, _p)*KroneckerDelta(_i, _q)*AnnihilateFermion(_i)*CreateFermion(_i)"
            ],
            "text/latex": "$\\displaystyle \\delta_{a p} \\delta_{a q} {a^\\dagger_{a}} a_{a} + \\delta_{a p} \\delta_{i q} {a^\\dagger_{a}} a_{i} - \\delta_{a q} \\delta_{i p} a_{a} {a^\\dagger_{i}} - \\delta_{i p} \\delta_{i q} a_{i} {a^\\dagger_{i}}$"
          },
          "metadata": {},
          "execution_count": 46
        }
      ]
    },
    {
      "cell_type": "code",
      "source": [
        "NO(F(p) * Fd(q))"
      ],
      "metadata": {
        "id": "I8YnD2BD7bEb",
        "colab": {
          "base_uri": "https://localhost:8080/",
          "height": 39
        },
        "outputId": "83b44407-e806-4b6d-ffe6-748b9fa0e020"
      },
      "execution_count": 47,
      "outputs": [
        {
          "output_type": "execute_result",
          "data": {
            "text/plain": [
              "-NO(CreateFermion(_q)*AnnihilateFermion(_p))"
            ],
            "text/latex": "$\\displaystyle - \\left\\{{a^\\dagger_{q}} a_{p}\\right\\}$"
          },
          "metadata": {},
          "execution_count": 47
        }
      ]
    },
    {
      "cell_type": "code",
      "source": [
        "n = symbols('n', cls=Dummy)\n",
        "F(0).apply_operator(FKet((3,)))"
      ],
      "metadata": {
        "id": "-52L2ZMfsdWR",
        "colab": {
          "base_uri": "https://localhost:8080/",
          "height": 37
        },
        "outputId": "fb824ce3-d79b-492d-d3b7-fcaa97ff2f6d"
      },
      "execution_count": 48,
      "outputs": [
        {
          "output_type": "execute_result",
          "data": {
            "text/plain": [
              "0"
            ],
            "text/latex": "$\\displaystyle 0$"
          },
          "metadata": {},
          "execution_count": 48
        }
      ]
    },
    {
      "cell_type": "code",
      "source": [
        "FKet([1, 2])"
      ],
      "metadata": {
        "id": "C88aHjeIvoEV",
        "colab": {
          "base_uri": "https://localhost:8080/",
          "height": 37
        },
        "outputId": "61c8fdb4-68ef-4027-c4fa-053ee2d2d66a"
      },
      "execution_count": 49,
      "outputs": [
        {
          "output_type": "execute_result",
          "data": {
            "text/plain": [
              "FockStateKet((1, 2))"
            ],
            "text/latex": "$\\displaystyle \\left|\\left( 1, \\  2\\right)\\right\\rangle$"
          },
          "metadata": {},
          "execution_count": 49
        }
      ]
    },
    {
      "cell_type": "code",
      "source": [
        "FBra([1, 2])"
      ],
      "metadata": {
        "id": "3eE1M8sNv-dG",
        "colab": {
          "base_uri": "https://localhost:8080/",
          "height": 37
        },
        "outputId": "6e9e1308-680e-4a18-fd5d-844c3808a187"
      },
      "execution_count": 50,
      "outputs": [
        {
          "output_type": "execute_result",
          "data": {
            "text/plain": [
              "FockStateKet((1, 2))"
            ],
            "text/latex": "$\\displaystyle \\left\\langle\\left( 1, \\  2\\right)\\right|$"
          },
          "metadata": {},
          "execution_count": 50
        }
      ]
    },
    {
      "cell_type": "code",
      "source": [
        "InnerProduct(FBra([1, 2]), FKet([1, 2]))"
      ],
      "metadata": {
        "id": "382Uv6c4wAm-",
        "colab": {
          "base_uri": "https://localhost:8080/",
          "height": 37
        },
        "outputId": "c213cbe0-e853-403b-c05b-2e28df1f6b18"
      },
      "execution_count": 51,
      "outputs": [
        {
          "output_type": "execute_result",
          "data": {
            "text/plain": [
              "1"
            ],
            "text/latex": "$\\displaystyle 1$"
          },
          "metadata": {},
          "execution_count": 51
        }
      ]
    },
    {
      "cell_type": "code",
      "source": [
        "x = F(1).apply_operator(FKet([1, 2]))\n",
        "x"
      ],
      "metadata": {
        "id": "ydqkRs6JvsY0",
        "colab": {
          "base_uri": "https://localhost:8080/",
          "height": 37
        },
        "outputId": "61f8770f-544b-4332-d023-54e490fa2c35"
      },
      "execution_count": 52,
      "outputs": [
        {
          "output_type": "execute_result",
          "data": {
            "text/plain": [
              "FockStateKet((2,))"
            ],
            "text/latex": "$\\displaystyle \\left|\\left( 2,\\right)\\right\\rangle$"
          },
          "metadata": {},
          "execution_count": 52
        }
      ]
    },
    {
      "cell_type": "code",
      "source": [
        "InnerProduct(FBra([1, 2]), x)"
      ],
      "metadata": {
        "id": "ZK5gV1pDwxFa",
        "colab": {
          "base_uri": "https://localhost:8080/",
          "height": 37
        },
        "outputId": "2279662b-9c80-4814-870b-c2c0bb0b8a80"
      },
      "execution_count": 53,
      "outputs": [
        {
          "output_type": "execute_result",
          "data": {
            "text/plain": [
              "0"
            ],
            "text/latex": "$\\displaystyle 0$"
          },
          "metadata": {},
          "execution_count": 53
        }
      ]
    },
    {
      "cell_type": "code",
      "source": [
        "p, q = symbols('p,q', cls=Dummy)\n",
        "a = symbols('a', above_fermi=True, cls=Dummy)\n",
        "i = symbols('i', below_fermi=True, cls=Dummy)\n",
        "\n",
        "c, d = symbols('c, d', above_fermi=True, cls=Dummy)\n",
        "k, l = symbols('k, l', below_fermi=True, cls=Dummy)\n",
        "\n",
        "f = AntiSymmetricTensor('A',(p,),(q,))\n",
        "C = AntiSymmetricTensor('C',(i,),(a,))\n",
        "D = AntiSymmetricTensor('D', (k, l), (c, d))\n",
        "Op=f*(Fd(p)*F(q))\n",
        "Op0 = (Fd(p)*F(q))\n",
        "Op"
      ],
      "metadata": {
        "id": "0AsHZJTpGmSh",
        "colab": {
          "base_uri": "https://localhost:8080/",
          "height": 39
        },
        "outputId": "eb24a420-bbc7-4fee-fdb1-47e86e93a68b"
      },
      "execution_count": 54,
      "outputs": [
        {
          "output_type": "execute_result",
          "data": {
            "text/plain": [
              "AntiSymmetricTensor(A, (_p,), (_q,))*CreateFermion(_p)*AnnihilateFermion(_q)"
            ],
            "text/latex": "$\\displaystyle {A^{p}_{q}} {a^\\dagger_{p}} a_{q}$"
          },
          "metadata": {},
          "execution_count": 54
        }
      ]
    },
    {
      "cell_type": "code",
      "source": [
        "psi0 = 1\n",
        "psi1 = 1*Fd(a)*F(i)\n",
        "psi2 = 1*Fd(k)*Fd(l)*F(d)*F(c)\n",
        "psi = [psi0, psi1, psi2]\n",
        "psid = [Dagger(i) for i in psi]\n",
        "# evaluate_deltas(wicks(x, keep_only_fully_contracted=True))"
      ],
      "metadata": {
        "id": "FXGM1RmRHvUT"
      },
      "execution_count": 55,
      "outputs": []
    },
    {
      "cell_type": "code",
      "source": [
        "for i in psi:\n",
        "    display(i)\n"
      ],
      "metadata": {
        "id": "44-dUO3yalN8",
        "colab": {
          "base_uri": "https://localhost:8080/",
          "height": 79
        },
        "outputId": "07303740-0879-4f48-c6db-d5405affa84f"
      },
      "execution_count": 56,
      "outputs": [
        {
          "output_type": "display_data",
          "data": {
            "text/plain": [
              "1"
            ]
          },
          "metadata": {}
        },
        {
          "output_type": "display_data",
          "data": {
            "text/plain": [
              "CreateFermion(_a)*AnnihilateFermion(_i)"
            ],
            "text/latex": "$\\displaystyle {a^\\dagger_{a}} a_{i}$"
          },
          "metadata": {}
        },
        {
          "output_type": "display_data",
          "data": {
            "text/plain": [
              "CreateFermion(_k)*CreateFermion(_l)*AnnihilateFermion(_d)*AnnihilateFermion(_c)"
            ],
            "text/latex": "$\\displaystyle {a^\\dagger_{k}} {a^\\dagger_{l}} a_{d} a_{c}$"
          },
          "metadata": {}
        }
      ]
    },
    {
      "cell_type": "code",
      "source": [
        "for i in range(len(psi)):\n",
        "    for j in range(len(psid)):\n",
        "        print(\"Term_{}{}:\".format(i+1,j+1))\n",
        "        display(psid[j]*Op*psi[i])\n",
        "        print()\n"
      ],
      "metadata": {
        "id": "xNadRQ8CbaJ7",
        "colab": {
          "base_uri": "https://localhost:8080/",
          "height": 547
        },
        "outputId": "513456f8-2bc2-4a98-ca20-723cbef049b1"
      },
      "execution_count": 57,
      "outputs": [
        {
          "output_type": "stream",
          "name": "stdout",
          "text": [
            "Term_11:\n"
          ]
        },
        {
          "output_type": "display_data",
          "data": {
            "text/plain": [
              "AntiSymmetricTensor(A, (_p,), (_q,))*CreateFermion(_p)*AnnihilateFermion(_q)"
            ],
            "text/latex": "$\\displaystyle {A^{p}_{q}} {a^\\dagger_{p}} a_{q}$"
          },
          "metadata": {}
        },
        {
          "output_type": "stream",
          "name": "stdout",
          "text": [
            "\n",
            "Term_12:\n"
          ]
        },
        {
          "output_type": "display_data",
          "data": {
            "text/plain": [
              "AntiSymmetricTensor(A, (_p,), (_q,))*CreateFermion(_i)*AnnihilateFermion(_a)*CreateFermion(_p)*AnnihilateFermion(_q)"
            ],
            "text/latex": "$\\displaystyle {A^{p}_{q}} {a^\\dagger_{i}} a_{a} {a^\\dagger_{p}} a_{q}$"
          },
          "metadata": {}
        },
        {
          "output_type": "stream",
          "name": "stdout",
          "text": [
            "\n",
            "Term_13:\n"
          ]
        },
        {
          "output_type": "display_data",
          "data": {
            "text/plain": [
              "AntiSymmetricTensor(A, (_p,), (_q,))*CreateFermion(_c)*CreateFermion(_d)*AnnihilateFermion(_l)*AnnihilateFermion(_k)*CreateFermion(_p)*AnnihilateFermion(_q)"
            ],
            "text/latex": "$\\displaystyle {A^{p}_{q}} {a^\\dagger_{c}} {a^\\dagger_{d}} a_{l} a_{k} {a^\\dagger_{p}} a_{q}$"
          },
          "metadata": {}
        },
        {
          "output_type": "stream",
          "name": "stdout",
          "text": [
            "\n",
            "Term_21:\n"
          ]
        },
        {
          "output_type": "display_data",
          "data": {
            "text/plain": [
              "AntiSymmetricTensor(A, (_p,), (_q,))*CreateFermion(_p)*AnnihilateFermion(_q)*CreateFermion(_a)*AnnihilateFermion(_i)"
            ],
            "text/latex": "$\\displaystyle {A^{p}_{q}} {a^\\dagger_{p}} a_{q} {a^\\dagger_{a}} a_{i}$"
          },
          "metadata": {}
        },
        {
          "output_type": "stream",
          "name": "stdout",
          "text": [
            "\n",
            "Term_22:\n"
          ]
        },
        {
          "output_type": "display_data",
          "data": {
            "text/plain": [
              "AntiSymmetricTensor(A, (_p,), (_q,))*CreateFermion(_i)*AnnihilateFermion(_a)*CreateFermion(_p)*AnnihilateFermion(_q)*CreateFermion(_a)*AnnihilateFermion(_i)"
            ],
            "text/latex": "$\\displaystyle {A^{p}_{q}} {a^\\dagger_{i}} a_{a} {a^\\dagger_{p}} a_{q} {a^\\dagger_{a}} a_{i}$"
          },
          "metadata": {}
        },
        {
          "output_type": "stream",
          "name": "stdout",
          "text": [
            "\n",
            "Term_23:\n"
          ]
        },
        {
          "output_type": "display_data",
          "data": {
            "text/plain": [
              "AntiSymmetricTensor(A, (_p,), (_q,))*CreateFermion(_c)*CreateFermion(_d)*AnnihilateFermion(_l)*AnnihilateFermion(_k)*CreateFermion(_p)*AnnihilateFermion(_q)*CreateFermion(_a)*AnnihilateFermion(_i)"
            ],
            "text/latex": "$\\displaystyle {A^{p}_{q}} {a^\\dagger_{c}} {a^\\dagger_{d}} a_{l} a_{k} {a^\\dagger_{p}} a_{q} {a^\\dagger_{a}} a_{i}$"
          },
          "metadata": {}
        },
        {
          "output_type": "stream",
          "name": "stdout",
          "text": [
            "\n",
            "Term_31:\n"
          ]
        },
        {
          "output_type": "display_data",
          "data": {
            "text/plain": [
              "AntiSymmetricTensor(A, (_p,), (_q,))*CreateFermion(_p)*AnnihilateFermion(_q)*CreateFermion(_k)*CreateFermion(_l)*AnnihilateFermion(_d)*AnnihilateFermion(_c)"
            ],
            "text/latex": "$\\displaystyle {A^{p}_{q}} {a^\\dagger_{p}} a_{q} {a^\\dagger_{k}} {a^\\dagger_{l}} a_{d} a_{c}$"
          },
          "metadata": {}
        },
        {
          "output_type": "stream",
          "name": "stdout",
          "text": [
            "\n",
            "Term_32:\n"
          ]
        },
        {
          "output_type": "display_data",
          "data": {
            "text/plain": [
              "AntiSymmetricTensor(A, (_p,), (_q,))*CreateFermion(_i)*AnnihilateFermion(_a)*CreateFermion(_p)*AnnihilateFermion(_q)*CreateFermion(_k)*CreateFermion(_l)*AnnihilateFermion(_d)*AnnihilateFermion(_c)"
            ],
            "text/latex": "$\\displaystyle {A^{p}_{q}} {a^\\dagger_{i}} a_{a} {a^\\dagger_{p}} a_{q} {a^\\dagger_{k}} {a^\\dagger_{l}} a_{d} a_{c}$"
          },
          "metadata": {}
        },
        {
          "output_type": "stream",
          "name": "stdout",
          "text": [
            "\n",
            "Term_33:\n"
          ]
        },
        {
          "output_type": "display_data",
          "data": {
            "text/plain": [
              "AntiSymmetricTensor(A, (_p,), (_q,))*CreateFermion(_c)*CreateFermion(_d)*AnnihilateFermion(_l)*AnnihilateFermion(_k)*CreateFermion(_p)*AnnihilateFermion(_q)*CreateFermion(_k)*CreateFermion(_l)*AnnihilateFermion(_d)*AnnihilateFermion(_c)"
            ],
            "text/latex": "$\\displaystyle {A^{p}_{q}} {a^\\dagger_{c}} {a^\\dagger_{d}} a_{l} a_{k} {a^\\dagger_{p}} a_{q} {a^\\dagger_{k}} {a^\\dagger_{l}} a_{d} a_{c}$"
          },
          "metadata": {}
        },
        {
          "output_type": "stream",
          "name": "stdout",
          "text": [
            "\n"
          ]
        }
      ]
    },
    {
      "cell_type": "code",
      "source": [
        "for i in range(len(psi)):\n",
        "    for j in range(len(psid)):\n",
        "        print(\"Term({}{}):\".format(i+1,j+1))\n",
        "        x = psid[i]*Op*psi[j]\n",
        "        # print(\"$\",latex(x), \"$\")\n",
        "        display(x)\n",
        "        print(\"After wicks contraction:\")\n",
        "        y = wicks(x)\n",
        "        # print(\"$\",latex(y),\"$\")\n",
        "        display(y)\n",
        "        print()\n"
      ],
      "metadata": {
        "id": "Cb8GKyxLdF21",
        "colab": {
          "base_uri": "https://localhost:8080/",
          "height": 1000
        },
        "outputId": "4d26e823-5133-44c3-e654-0134f0324cbb"
      },
      "execution_count": 58,
      "outputs": [
        {
          "output_type": "stream",
          "name": "stdout",
          "text": [
            "Term(11):\n"
          ]
        },
        {
          "output_type": "display_data",
          "data": {
            "text/plain": [
              "AntiSymmetricTensor(A, (_p,), (_q,))*CreateFermion(_p)*AnnihilateFermion(_q)"
            ],
            "text/latex": "$\\displaystyle {A^{p}_{q}} {a^\\dagger_{p}} a_{q}$"
          },
          "metadata": {}
        },
        {
          "output_type": "stream",
          "name": "stdout",
          "text": [
            "After wicks contraction:\n"
          ]
        },
        {
          "output_type": "display_data",
          "data": {
            "text/plain": [
              "KroneckerDelta(_i, _q)*KroneckerDelta(_p, _q)*AntiSymmetricTensor(A, (_p,), (_q,)) + AntiSymmetricTensor(A, (_p,), (_q,))*NO(CreateFermion(_p)*AnnihilateFermion(_q))"
            ],
            "text/latex": "$\\displaystyle \\delta_{i q} \\delta_{p q} {A^{p}_{q}} + {A^{p}_{q}} \\left\\{{a^\\dagger_{p}} a_{q}\\right\\}$"
          },
          "metadata": {}
        },
        {
          "output_type": "stream",
          "name": "stdout",
          "text": [
            "\n",
            "Term(12):\n"
          ]
        },
        {
          "output_type": "display_data",
          "data": {
            "text/plain": [
              "AntiSymmetricTensor(A, (_p,), (_q,))*CreateFermion(_p)*AnnihilateFermion(_q)*CreateFermion(_a)*AnnihilateFermion(_i)"
            ],
            "text/latex": "$\\displaystyle {A^{p}_{q}} {a^\\dagger_{p}} a_{q} {a^\\dagger_{a}} a_{i}$"
          },
          "metadata": {}
        },
        {
          "output_type": "stream",
          "name": "stdout",
          "text": [
            "After wicks contraction:\n"
          ]
        },
        {
          "output_type": "display_data",
          "data": {
            "text/plain": [
              "KroneckerDelta(_a, _q)*KroneckerDelta(_i, _p)*AntiSymmetricTensor(A, (_p,), (_q,)) - KroneckerDelta(_a, _q)*AntiSymmetricTensor(A, (_p,), (_q,))*NO(AnnihilateFermion(_i)*CreateFermion(_p)) - KroneckerDelta(_i, _p)*AntiSymmetricTensor(A, (_p,), (_q,))*NO(CreateFermion(_a)*AnnihilateFermion(_q)) + KroneckerDelta(_i, _q)*KroneckerDelta(_p, _q)*AntiSymmetricTensor(A, (_p,), (_q,))*NO(CreateFermion(_a)*AnnihilateFermion(_i)) + AntiSymmetricTensor(A, (_p,), (_q,))*NO(CreateFermion(_a)*AnnihilateFermion(_i)*CreateFermion(_p)*AnnihilateFermion(_q))"
            ],
            "text/latex": "$\\displaystyle \\delta_{a q} \\delta_{i p} {A^{p}_{q}} - \\delta_{a q} {A^{p}_{q}} \\left\\{a_{i} {a^\\dagger_{p}}\\right\\} - \\delta_{i p} {A^{p}_{q}} \\left\\{{a^\\dagger_{a}} a_{q}\\right\\} + \\delta_{i q} \\delta_{p q} {A^{p}_{q}} \\left\\{{a^\\dagger_{a}} a_{i}\\right\\} + {A^{p}_{q}} \\left\\{{a^\\dagger_{a}} a_{i} {a^\\dagger_{p}} a_{q}\\right\\}$"
          },
          "metadata": {}
        },
        {
          "output_type": "stream",
          "name": "stdout",
          "text": [
            "\n",
            "Term(13):\n"
          ]
        },
        {
          "output_type": "display_data",
          "data": {
            "text/plain": [
              "AntiSymmetricTensor(A, (_p,), (_q,))*CreateFermion(_p)*AnnihilateFermion(_q)*CreateFermion(_k)*CreateFermion(_l)*AnnihilateFermion(_d)*AnnihilateFermion(_c)"
            ],
            "text/latex": "$\\displaystyle {A^{p}_{q}} {a^\\dagger_{p}} a_{q} {a^\\dagger_{k}} {a^\\dagger_{l}} a_{d} a_{c}$"
          },
          "metadata": {}
        },
        {
          "output_type": "stream",
          "name": "stdout",
          "text": [
            "After wicks contraction:\n"
          ]
        },
        {
          "output_type": "display_data",
          "data": {
            "text/plain": [
              "-KroneckerDelta(_i, _q)*KroneckerDelta(_p, _q)*AntiSymmetricTensor(A, (_p,), (_q,))*NO(AnnihilateFermion(_c)*AnnihilateFermion(_d)*CreateFermion(_k)*CreateFermion(_l)) - AntiSymmetricTensor(A, (_p,), (_q,))*NO(CreateFermion(_p)*AnnihilateFermion(_q)*AnnihilateFermion(_c)*AnnihilateFermion(_d)*CreateFermion(_k)*CreateFermion(_l))"
            ],
            "text/latex": "$\\displaystyle - \\delta_{i q} \\delta_{p q} {A^{p}_{q}} \\left\\{a_{c} a_{d} {a^\\dagger_{k}} {a^\\dagger_{l}}\\right\\} - {A^{p}_{q}} \\left\\{{a^\\dagger_{p}} a_{q} a_{c} a_{d} {a^\\dagger_{k}} {a^\\dagger_{l}}\\right\\}$"
          },
          "metadata": {}
        },
        {
          "output_type": "stream",
          "name": "stdout",
          "text": [
            "\n",
            "Term(21):\n"
          ]
        },
        {
          "output_type": "display_data",
          "data": {
            "text/plain": [
              "AntiSymmetricTensor(A, (_p,), (_q,))*CreateFermion(_i)*AnnihilateFermion(_a)*CreateFermion(_p)*AnnihilateFermion(_q)"
            ],
            "text/latex": "$\\displaystyle {A^{p}_{q}} {a^\\dagger_{i}} a_{a} {a^\\dagger_{p}} a_{q}$"
          },
          "metadata": {}
        },
        {
          "output_type": "stream",
          "name": "stdout",
          "text": [
            "After wicks contraction:\n"
          ]
        },
        {
          "output_type": "display_data",
          "data": {
            "text/plain": [
              "KroneckerDelta(_a, _p)*KroneckerDelta(_i, _q)*AntiSymmetricTensor(A, (_p,), (_q,)) - KroneckerDelta(_a, _p)*AntiSymmetricTensor(A, (_p,), (_q,))*NO(AnnihilateFermion(_q)*CreateFermion(_i)) - KroneckerDelta(_i, _q)*AntiSymmetricTensor(A, (_p,), (_q,))*NO(CreateFermion(_p)*AnnihilateFermion(_a)) - KroneckerDelta(_i, _q)*KroneckerDelta(_p, _q)*AntiSymmetricTensor(A, (_p,), (_q,))*NO(AnnihilateFermion(_a)*CreateFermion(_i)) - AntiSymmetricTensor(A, (_p,), (_q,))*NO(CreateFermion(_p)*AnnihilateFermion(_q)*AnnihilateFermion(_a)*CreateFermion(_i))"
            ],
            "text/latex": "$\\displaystyle \\delta_{a p} \\delta_{i q} {A^{p}_{q}} - \\delta_{a p} {A^{p}_{q}} \\left\\{a_{q} {a^\\dagger_{i}}\\right\\} - \\delta_{i q} {A^{p}_{q}} \\left\\{{a^\\dagger_{p}} a_{a}\\right\\} - \\delta_{i q} \\delta_{p q} {A^{p}_{q}} \\left\\{a_{a} {a^\\dagger_{i}}\\right\\} - {A^{p}_{q}} \\left\\{{a^\\dagger_{p}} a_{q} a_{a} {a^\\dagger_{i}}\\right\\}$"
          },
          "metadata": {}
        },
        {
          "output_type": "stream",
          "name": "stdout",
          "text": [
            "\n",
            "Term(22):\n"
          ]
        },
        {
          "output_type": "display_data",
          "data": {
            "text/plain": [
              "AntiSymmetricTensor(A, (_p,), (_q,))*CreateFermion(_i)*AnnihilateFermion(_a)*CreateFermion(_p)*AnnihilateFermion(_q)*CreateFermion(_a)*AnnihilateFermion(_i)"
            ],
            "text/latex": "$\\displaystyle {A^{p}_{q}} {a^\\dagger_{i}} a_{a} {a^\\dagger_{p}} a_{q} {a^\\dagger_{a}} a_{i}$"
          },
          "metadata": {}
        },
        {
          "output_type": "stream",
          "name": "stdout",
          "text": [
            "After wicks contraction:\n"
          ]
        },
        {
          "output_type": "display_data",
          "data": {
            "text/plain": [
              "KroneckerDelta(_a, _p)*KroneckerDelta(_a, _q)*AntiSymmetricTensor(A, (_p,), (_q,)) - KroneckerDelta(_a, _p)*KroneckerDelta(_a, _q)*AntiSymmetricTensor(A, (_p,), (_q,))*NO(AnnihilateFermion(_i)*CreateFermion(_i)) + KroneckerDelta(_a, _p)*KroneckerDelta(_i, _q)*AntiSymmetricTensor(A, (_p,), (_q,))*NO(CreateFermion(_a)*AnnihilateFermion(_i)) - KroneckerDelta(_a, _p)*AntiSymmetricTensor(A, (_p,), (_q,))*NO(CreateFermion(_a)*AnnihilateFermion(_q)) - KroneckerDelta(_a, _p)*AntiSymmetricTensor(A, (_p,), (_q,))*NO(CreateFermion(_a)*AnnihilateFermion(_i)*AnnihilateFermion(_q)*CreateFermion(_i)) - KroneckerDelta(_a, _q)*KroneckerDelta(_i, _p)*AntiSymmetricTensor(A, (_p,), (_q,))*NO(AnnihilateFermion(_a)*CreateFermion(_i)) - KroneckerDelta(_a, _q)*AntiSymmetricTensor(A, (_p,), (_q,))*NO(CreateFermion(_p)*AnnihilateFermion(_a)) + KroneckerDelta(_a, _q)*AntiSymmetricTensor(A, (_p,), (_q,))*NO(AnnihilateFermion(_i)*CreateFermion(_p)*AnnihilateFermion(_a)*CreateFermion(_i)) - KroneckerDelta(_i, _p)*KroneckerDelta(_i, _q)*AntiSymmetricTensor(A, (_p,), (_q,)) + KroneckerDelta(_i, _p)*KroneckerDelta(_i, _q)*AntiSymmetricTensor(A, (_p,), (_q,))*NO(CreateFermion(_a)*AnnihilateFermion(_a)) + KroneckerDelta(_i, _p)*AntiSymmetricTensor(A, (_p,), (_q,))*NO(AnnihilateFermion(_q)*CreateFermion(_i)) + KroneckerDelta(_i, _p)*AntiSymmetricTensor(A, (_p,), (_q,))*NO(CreateFermion(_a)*AnnihilateFermion(_q)*AnnihilateFermion(_a)*CreateFermion(_i)) + KroneckerDelta(_i, _q)*AntiSymmetricTensor(A, (_p,), (_q,))*NO(AnnihilateFermion(_i)*CreateFermion(_p)) - KroneckerDelta(_i, _q)*AntiSymmetricTensor(A, (_p,), (_q,))*NO(CreateFermion(_a)*AnnihilateFermion(_i)*CreateFermion(_p)*AnnihilateFermion(_a)) + KroneckerDelta(_i, _q)*KroneckerDelta(_p, _q)*AntiSymmetricTensor(A, (_p,), (_q,)) - KroneckerDelta(_i, _q)*KroneckerDelta(_p, _q)*AntiSymmetricTensor(A, (_p,), (_q,))*NO(CreateFermion(_a)*AnnihilateFermion(_a)) - KroneckerDelta(_i, _q)*KroneckerDelta(_p, _q)*AntiSymmetricTensor(A, (_p,), (_q,))*NO(AnnihilateFermion(_i)*CreateFermion(_i)) - KroneckerDelta(_i, _q)*KroneckerDelta(_p, _q)*AntiSymmetricTensor(A, (_p,), (_q,))*NO(CreateFermion(_a)*AnnihilateFermion(_i)*AnnihilateFermion(_a)*CreateFermion(_i)) + AntiSymmetricTensor(A, (_p,), (_q,))*NO(CreateFermion(_p)*AnnihilateFermion(_q)) - AntiSymmetricTensor(A, (_p,), (_q,))*NO(AnnihilateFermion(_i)*CreateFermion(_p)*AnnihilateFermion(_q)*CreateFermion(_i)) - AntiSymmetricTensor(A, (_p,), (_q,))*NO(CreateFermion(_a)*CreateFermion(_p)*AnnihilateFermion(_q)*AnnihilateFermion(_a)) - AntiSymmetricTensor(A, (_p,), (_q,))*NO(CreateFermion(_a)*AnnihilateFermion(_i)*CreateFermion(_p)*AnnihilateFermion(_q)*AnnihilateFermion(_a)*CreateFermion(_i))"
            ],
            "text/latex": "$\\displaystyle \\delta_{a p} \\delta_{a q} {A^{p}_{q}} - \\delta_{a p} \\delta_{a q} {A^{p}_{q}} \\left\\{a_{i} {a^\\dagger_{i}}\\right\\} + \\delta_{a p} \\delta_{i q} {A^{p}_{q}} \\left\\{{a^\\dagger_{a}} a_{i}\\right\\} - \\delta_{a p} {A^{p}_{q}} \\left\\{{a^\\dagger_{a}} a_{q}\\right\\} - \\delta_{a p} {A^{p}_{q}} \\left\\{{a^\\dagger_{a}} a_{i} a_{q} {a^\\dagger_{i}}\\right\\} - \\delta_{a q} \\delta_{i p} {A^{p}_{q}} \\left\\{a_{a} {a^\\dagger_{i}}\\right\\} - \\delta_{a q} {A^{p}_{q}} \\left\\{{a^\\dagger_{p}} a_{a}\\right\\} + \\delta_{a q} {A^{p}_{q}} \\left\\{a_{i} {a^\\dagger_{p}} a_{a} {a^\\dagger_{i}}\\right\\} - \\delta_{i p} \\delta_{i q} {A^{p}_{q}} + \\delta_{i p} \\delta_{i q} {A^{p}_{q}} \\left\\{{a^\\dagger_{a}} a_{a}\\right\\} + \\delta_{i p} {A^{p}_{q}} \\left\\{a_{q} {a^\\dagger_{i}}\\right\\} + \\delta_{i p} {A^{p}_{q}} \\left\\{{a^\\dagger_{a}} a_{q} a_{a} {a^\\dagger_{i}}\\right\\} + \\delta_{i q} {A^{p}_{q}} \\left\\{a_{i} {a^\\dagger_{p}}\\right\\} - \\delta_{i q} {A^{p}_{q}} \\left\\{{a^\\dagger_{a}} a_{i} {a^\\dagger_{p}} a_{a}\\right\\} + \\delta_{i q} \\delta_{p q} {A^{p}_{q}} - \\delta_{i q} \\delta_{p q} {A^{p}_{q}} \\left\\{{a^\\dagger_{a}} a_{a}\\right\\} - \\delta_{i q} \\delta_{p q} {A^{p}_{q}} \\left\\{a_{i} {a^\\dagger_{i}}\\right\\} - \\delta_{i q} \\delta_{p q} {A^{p}_{q}} \\left\\{{a^\\dagger_{a}} a_{i} a_{a} {a^\\dagger_{i}}\\right\\} + {A^{p}_{q}} \\left\\{{a^\\dagger_{p}} a_{q}\\right\\} - {A^{p}_{q}} \\left\\{a_{i} {a^\\dagger_{p}} a_{q} {a^\\dagger_{i}}\\right\\} - {A^{p}_{q}} \\left\\{{a^\\dagger_{a}} {a^\\dagger_{p}} a_{q} a_{a}\\right\\} - {A^{p}_{q}} \\left\\{{a^\\dagger_{a}} a_{i} {a^\\dagger_{p}} a_{q} a_{a} {a^\\dagger_{i}}\\right\\}$"
          },
          "metadata": {}
        },
        {
          "output_type": "stream",
          "name": "stdout",
          "text": [
            "\n",
            "Term(23):\n"
          ]
        },
        {
          "output_type": "display_data",
          "data": {
            "text/plain": [
              "AntiSymmetricTensor(A, (_p,), (_q,))*CreateFermion(_i)*AnnihilateFermion(_a)*CreateFermion(_p)*AnnihilateFermion(_q)*CreateFermion(_k)*CreateFermion(_l)*AnnihilateFermion(_d)*AnnihilateFermion(_c)"
            ],
            "text/latex": "$\\displaystyle {A^{p}_{q}} {a^\\dagger_{i}} a_{a} {a^\\dagger_{p}} a_{q} {a^\\dagger_{k}} {a^\\dagger_{l}} a_{d} a_{c}$"
          },
          "metadata": {}
        },
        {
          "output_type": "stream",
          "name": "stdout",
          "text": [
            "After wicks contraction:\n"
          ]
        },
        {
          "output_type": "display_data",
          "data": {
            "text/plain": [
              "-KroneckerDelta(_a, _p)*KroneckerDelta(_i, _q)*AntiSymmetricTensor(A, (_p,), (_q,))*NO(AnnihilateFermion(_c)*AnnihilateFermion(_d)*CreateFermion(_k)*CreateFermion(_l)) + KroneckerDelta(_a, _p)*AntiSymmetricTensor(A, (_p,), (_q,))*NO(AnnihilateFermion(_q)*AnnihilateFermion(_c)*AnnihilateFermion(_d)*CreateFermion(_i)*CreateFermion(_k)*CreateFermion(_l)) + KroneckerDelta(_i, _q)*AntiSymmetricTensor(A, (_p,), (_q,))*NO(CreateFermion(_p)*AnnihilateFermion(_a)*AnnihilateFermion(_c)*AnnihilateFermion(_d)*CreateFermion(_k)*CreateFermion(_l)) + KroneckerDelta(_i, _q)*KroneckerDelta(_p, _q)*AntiSymmetricTensor(A, (_p,), (_q,))*NO(AnnihilateFermion(_a)*AnnihilateFermion(_c)*AnnihilateFermion(_d)*CreateFermion(_i)*CreateFermion(_k)*CreateFermion(_l)) + AntiSymmetricTensor(A, (_p,), (_q,))*NO(CreateFermion(_p)*AnnihilateFermion(_q)*AnnihilateFermion(_a)*AnnihilateFermion(_c)*AnnihilateFermion(_d)*CreateFermion(_i)*CreateFermion(_k)*CreateFermion(_l))"
            ],
            "text/latex": "$\\displaystyle - \\delta_{a p} \\delta_{i q} {A^{p}_{q}} \\left\\{a_{c} a_{d} {a^\\dagger_{k}} {a^\\dagger_{l}}\\right\\} + \\delta_{a p} {A^{p}_{q}} \\left\\{a_{q} a_{c} a_{d} {a^\\dagger_{i}} {a^\\dagger_{k}} {a^\\dagger_{l}}\\right\\} + \\delta_{i q} {A^{p}_{q}} \\left\\{{a^\\dagger_{p}} a_{a} a_{c} a_{d} {a^\\dagger_{k}} {a^\\dagger_{l}}\\right\\} + \\delta_{i q} \\delta_{p q} {A^{p}_{q}} \\left\\{a_{a} a_{c} a_{d} {a^\\dagger_{i}} {a^\\dagger_{k}} {a^\\dagger_{l}}\\right\\} + {A^{p}_{q}} \\left\\{{a^\\dagger_{p}} a_{q} a_{a} a_{c} a_{d} {a^\\dagger_{i}} {a^\\dagger_{k}} {a^\\dagger_{l}}\\right\\}$"
          },
          "metadata": {}
        },
        {
          "output_type": "stream",
          "name": "stdout",
          "text": [
            "\n",
            "Term(31):\n"
          ]
        },
        {
          "output_type": "display_data",
          "data": {
            "text/plain": [
              "AntiSymmetricTensor(A, (_p,), (_q,))*CreateFermion(_c)*CreateFermion(_d)*AnnihilateFermion(_l)*AnnihilateFermion(_k)*CreateFermion(_p)*AnnihilateFermion(_q)"
            ],
            "text/latex": "$\\displaystyle {A^{p}_{q}} {a^\\dagger_{c}} {a^\\dagger_{d}} a_{l} a_{k} {a^\\dagger_{p}} a_{q}$"
          },
          "metadata": {}
        },
        {
          "output_type": "stream",
          "name": "stdout",
          "text": [
            "After wicks contraction:\n"
          ]
        },
        {
          "output_type": "display_data",
          "data": {
            "text/plain": [
              "-KroneckerDelta(_i, _q)*KroneckerDelta(_p, _q)*AntiSymmetricTensor(A, (_p,), (_q,))*NO(CreateFermion(_c)*CreateFermion(_d)*AnnihilateFermion(_k)*AnnihilateFermion(_l)) - AntiSymmetricTensor(A, (_p,), (_q,))*NO(CreateFermion(_c)*CreateFermion(_d)*AnnihilateFermion(_k)*AnnihilateFermion(_l)*CreateFermion(_p)*AnnihilateFermion(_q))"
            ],
            "text/latex": "$\\displaystyle - \\delta_{i q} \\delta_{p q} {A^{p}_{q}} \\left\\{{a^\\dagger_{c}} {a^\\dagger_{d}} a_{k} a_{l}\\right\\} - {A^{p}_{q}} \\left\\{{a^\\dagger_{c}} {a^\\dagger_{d}} a_{k} a_{l} {a^\\dagger_{p}} a_{q}\\right\\}$"
          },
          "metadata": {}
        },
        {
          "output_type": "stream",
          "name": "stdout",
          "text": [
            "\n",
            "Term(32):\n"
          ]
        },
        {
          "output_type": "display_data",
          "data": {
            "text/plain": [
              "AntiSymmetricTensor(A, (_p,), (_q,))*CreateFermion(_c)*CreateFermion(_d)*AnnihilateFermion(_l)*AnnihilateFermion(_k)*CreateFermion(_p)*AnnihilateFermion(_q)*CreateFermion(_a)*AnnihilateFermion(_i)"
            ],
            "text/latex": "$\\displaystyle {A^{p}_{q}} {a^\\dagger_{c}} {a^\\dagger_{d}} a_{l} a_{k} {a^\\dagger_{p}} a_{q} {a^\\dagger_{a}} a_{i}$"
          },
          "metadata": {}
        },
        {
          "output_type": "stream",
          "name": "stdout",
          "text": [
            "After wicks contraction:\n"
          ]
        },
        {
          "output_type": "display_data",
          "data": {
            "text/plain": [
              "-KroneckerDelta(_a, _q)*KroneckerDelta(_i, _p)*AntiSymmetricTensor(A, (_p,), (_q,))*NO(CreateFermion(_c)*CreateFermion(_d)*AnnihilateFermion(_k)*AnnihilateFermion(_l)) + KroneckerDelta(_a, _q)*AntiSymmetricTensor(A, (_p,), (_q,))*NO(CreateFermion(_c)*CreateFermion(_d)*AnnihilateFermion(_i)*AnnihilateFermion(_k)*AnnihilateFermion(_l)*CreateFermion(_p)) + KroneckerDelta(_i, _p)*AntiSymmetricTensor(A, (_p,), (_q,))*NO(CreateFermion(_a)*CreateFermion(_c)*CreateFermion(_d)*AnnihilateFermion(_k)*AnnihilateFermion(_l)*AnnihilateFermion(_q)) - KroneckerDelta(_i, _q)*KroneckerDelta(_p, _q)*AntiSymmetricTensor(A, (_p,), (_q,))*NO(CreateFermion(_a)*CreateFermion(_c)*CreateFermion(_d)*AnnihilateFermion(_i)*AnnihilateFermion(_k)*AnnihilateFermion(_l)) - AntiSymmetricTensor(A, (_p,), (_q,))*NO(CreateFermion(_a)*CreateFermion(_c)*CreateFermion(_d)*AnnihilateFermion(_i)*AnnihilateFermion(_k)*AnnihilateFermion(_l)*CreateFermion(_p)*AnnihilateFermion(_q))"
            ],
            "text/latex": "$\\displaystyle - \\delta_{a q} \\delta_{i p} {A^{p}_{q}} \\left\\{{a^\\dagger_{c}} {a^\\dagger_{d}} a_{k} a_{l}\\right\\} + \\delta_{a q} {A^{p}_{q}} \\left\\{{a^\\dagger_{c}} {a^\\dagger_{d}} a_{i} a_{k} a_{l} {a^\\dagger_{p}}\\right\\} + \\delta_{i p} {A^{p}_{q}} \\left\\{{a^\\dagger_{a}} {a^\\dagger_{c}} {a^\\dagger_{d}} a_{k} a_{l} a_{q}\\right\\} - \\delta_{i q} \\delta_{p q} {A^{p}_{q}} \\left\\{{a^\\dagger_{a}} {a^\\dagger_{c}} {a^\\dagger_{d}} a_{i} a_{k} a_{l}\\right\\} - {A^{p}_{q}} \\left\\{{a^\\dagger_{a}} {a^\\dagger_{c}} {a^\\dagger_{d}} a_{i} a_{k} a_{l} {a^\\dagger_{p}} a_{q}\\right\\}$"
          },
          "metadata": {}
        },
        {
          "output_type": "stream",
          "name": "stdout",
          "text": [
            "\n",
            "Term(33):\n"
          ]
        },
        {
          "output_type": "display_data",
          "data": {
            "text/plain": [
              "AntiSymmetricTensor(A, (_p,), (_q,))*CreateFermion(_c)*CreateFermion(_d)*AnnihilateFermion(_l)*AnnihilateFermion(_k)*CreateFermion(_p)*AnnihilateFermion(_q)*CreateFermion(_k)*CreateFermion(_l)*AnnihilateFermion(_d)*AnnihilateFermion(_c)"
            ],
            "text/latex": "$\\displaystyle {A^{p}_{q}} {a^\\dagger_{c}} {a^\\dagger_{d}} a_{l} a_{k} {a^\\dagger_{p}} a_{q} {a^\\dagger_{k}} {a^\\dagger_{l}} a_{d} a_{c}$"
          },
          "metadata": {}
        },
        {
          "output_type": "stream",
          "name": "stdout",
          "text": [
            "After wicks contraction:\n"
          ]
        },
        {
          "output_type": "display_data",
          "data": {
            "text/plain": [
              "KroneckerDelta(_i, _q)*KroneckerDelta(_p, _q)*AntiSymmetricTensor(A, (_p,), (_q,))*NO(CreateFermion(_c)*CreateFermion(_d)*AnnihilateFermion(_k)*AnnihilateFermion(_l)*AnnihilateFermion(_c)*AnnihilateFermion(_d)*CreateFermion(_k)*CreateFermion(_l)) + AntiSymmetricTensor(A, (_p,), (_q,))*NO(CreateFermion(_c)*CreateFermion(_d)*AnnihilateFermion(_k)*AnnihilateFermion(_l)*CreateFermion(_p)*AnnihilateFermion(_q)*AnnihilateFermion(_c)*AnnihilateFermion(_d)*CreateFermion(_k)*CreateFermion(_l))"
            ],
            "text/latex": "$\\displaystyle \\delta_{i q} \\delta_{p q} {A^{p}_{q}} \\left\\{{a^\\dagger_{c}} {a^\\dagger_{d}} a_{k} a_{l} a_{c} a_{d} {a^\\dagger_{k}} {a^\\dagger_{l}}\\right\\} + {A^{p}_{q}} \\left\\{{a^\\dagger_{c}} {a^\\dagger_{d}} a_{k} a_{l} {a^\\dagger_{p}} a_{q} a_{c} a_{d} {a^\\dagger_{k}} {a^\\dagger_{l}}\\right\\}$"
          },
          "metadata": {}
        },
        {
          "output_type": "stream",
          "name": "stdout",
          "text": [
            "\n"
          ]
        }
      ]
    },
    {
      "cell_type": "code",
      "source": [
        "psid[1]*Op*psi[1]"
      ],
      "metadata": {
        "id": "jraFv9zqsm6y",
        "colab": {
          "base_uri": "https://localhost:8080/",
          "height": 40
        },
        "outputId": "75f34086-e48c-4269-e68b-3cb47139ced0"
      },
      "execution_count": 59,
      "outputs": [
        {
          "output_type": "execute_result",
          "data": {
            "text/plain": [
              "AntiSymmetricTensor(A, (_p,), (_q,))*CreateFermion(_i)*AnnihilateFermion(_a)*CreateFermion(_p)*AnnihilateFermion(_q)*CreateFermion(_a)*AnnihilateFermion(_i)"
            ],
            "text/latex": "$\\displaystyle {A^{p}_{q}} {a^\\dagger_{i}} a_{a} {a^\\dagger_{p}} a_{q} {a^\\dagger_{a}} a_{i}$"
          },
          "metadata": {},
          "execution_count": 59
        }
      ]
    },
    {
      "cell_type": "code",
      "source": [
        "term4"
      ],
      "metadata": {
        "id": "so0y4i7esrUy",
        "colab": {
          "base_uri": "https://localhost:8080/",
          "height": 40
        },
        "outputId": "6eca8216-4047-4cb8-bb9f-d85c146b6238"
      },
      "execution_count": 60,
      "outputs": [
        {
          "output_type": "execute_result",
          "data": {
            "text/plain": [
              "CreateFermion(_i)*AnnihilateFermion(_a)*CreateFermion(_p)*AnnihilateFermion(_q)*CreateFermion(_a)*AnnihilateFermion(_i)"
            ],
            "text/latex": "$\\displaystyle {a^\\dagger_{i}} a_{a} {a^\\dagger_{p}} a_{q} {a^\\dagger_{a}} a_{i}$"
          },
          "metadata": {},
          "execution_count": 60
        }
      ]
    },
    {
      "cell_type": "code",
      "source": [
        "wicks(psid[1]*Op*psi[1], keep_only_fully_contracted=True)"
      ],
      "metadata": {
        "id": "KqlMAowOqBCK",
        "colab": {
          "base_uri": "https://localhost:8080/",
          "height": 39
        },
        "outputId": "b28ad2d7-46dd-44c1-81ce-ec3483f7586b"
      },
      "execution_count": 61,
      "outputs": [
        {
          "output_type": "execute_result",
          "data": {
            "text/plain": [
              "KroneckerDelta(_a, _p)*KroneckerDelta(_a, _q)*AntiSymmetricTensor(A, (_p,), (_q,)) - KroneckerDelta(_i, _p)*KroneckerDelta(_i, _q)*AntiSymmetricTensor(A, (_p,), (_q,)) + KroneckerDelta(_i, _q)*KroneckerDelta(_p, _q)*AntiSymmetricTensor(A, (_p,), (_q,))"
            ],
            "text/latex": "$\\displaystyle \\delta_{a p} \\delta_{a q} {A^{p}_{q}} - \\delta_{i p} \\delta_{i q} {A^{p}_{q}} + \\delta_{i q} \\delta_{p q} {A^{p}_{q}}$"
          },
          "metadata": {},
          "execution_count": 61
        }
      ]
    },
    {
      "cell_type": "code",
      "source": [
        "wicks(psid[1]*Op0*psi[1], keep_only_fully_contracted=True)* psid[1]*Op*psi[1]"
      ],
      "metadata": {
        "id": "Qgtfu0I2r6mq",
        "colab": {
          "base_uri": "https://localhost:8080/",
          "height": 40
        },
        "outputId": "234314c2-4b2b-4a48-e346-ab2a71467e45"
      },
      "execution_count": 62,
      "outputs": [
        {
          "output_type": "execute_result",
          "data": {
            "text/plain": [
              "(KroneckerDelta(_a, _p)*KroneckerDelta(_a, _q) - KroneckerDelta(_i, _p)*KroneckerDelta(_i, _q) + KroneckerDelta(_i, _q)*KroneckerDelta(_p, _q))*AntiSymmetricTensor(A, (_p,), (_q,))*CreateFermion(_i)*AnnihilateFermion(_a)*CreateFermion(_p)*AnnihilateFermion(_q)*CreateFermion(_a)*AnnihilateFermion(_i)"
            ],
            "text/latex": "$\\displaystyle \\left(\\delta_{a p} \\delta_{a q} - \\delta_{i p} \\delta_{i q} + \\delta_{i q} \\delta_{p q}\\right) {A^{p}_{q}} {a^\\dagger_{i}} a_{a} {a^\\dagger_{p}} a_{q} {a^\\dagger_{a}} a_{i}$"
          },
          "metadata": {},
          "execution_count": 62
        }
      ]
    },
    {
      "cell_type": "code",
      "source": [
        "evaluate_deltas(substitute_dummies(wicks(psid[1]*Op0*psi[1], keep_only_fully_contracted=True)* psid[1]*Op*psi[1]))"
      ],
      "metadata": {
        "id": "Ept0GlpNuPwq",
        "colab": {
          "base_uri": "https://localhost:8080/",
          "height": 39
        },
        "outputId": "fe12211d-d117-45f7-c2ce-12ed8d88a70a"
      },
      "execution_count": 63,
      "outputs": [
        {
          "output_type": "execute_result",
          "data": {
            "text/plain": [
              "AntiSymmetricTensor(A, (_a,), (_a,))*CreateFermion(_i)*AnnihilateFermion(_a)*CreateFermion(_a)*AnnihilateFermion(_a)*CreateFermion(_a)*AnnihilateFermion(_i) - AntiSymmetricTensor(A, (_i,), (_i,))*CreateFermion(_i)*AnnihilateFermion(_a)*CreateFermion(_i)*AnnihilateFermion(_i)*CreateFermion(_a)*AnnihilateFermion(_i) + AntiSymmetricTensor(A, (_i,), (_i,))*CreateFermion(_i)*AnnihilateFermion(_a)*CreateFermion(_i)*AnnihilateFermion(_i)*CreateFermion(_a)*AnnihilateFermion(_i)"
            ],
            "text/latex": "$\\displaystyle {A^{a}_{a}} {a^\\dagger_{i}} a_{a} {a^\\dagger_{a}} a_{a} {a^\\dagger_{a}} a_{i} - {A^{i}_{i}} {a^\\dagger_{i}} a_{a} {a^\\dagger_{i}} a_{i} {a^\\dagger_{a}} a_{i} + {A^{i}_{i}} {a^\\dagger_{i}} a_{a} {a^\\dagger_{i}} a_{i} {a^\\dagger_{a}} a_{i}$"
          },
          "metadata": {},
          "execution_count": 63
        }
      ]
    },
    {
      "cell_type": "code",
      "source": [
        "j = 0\n",
        "i = 1\n",
        "y = evaluate_deltas(substitute_dummies(wicks(psid[j]*Op0*psi[i], keep_only_fully_contracted=True)* psid[j]*Op*psi[i]))\n",
        "y"
      ],
      "metadata": {
        "id": "jC3L9CrjGrm0",
        "colab": {
          "base_uri": "https://localhost:8080/",
          "height": 39
        },
        "outputId": "02359efe-00d4-4ca1-db07-5d62753d8015"
      },
      "execution_count": 64,
      "outputs": [
        {
          "output_type": "execute_result",
          "data": {
            "text/plain": [
              "AntiSymmetricTensor(A, (_i,), (_a,))*CreateFermion(_i)*AnnihilateFermion(_a)*CreateFermion(_a)*AnnihilateFermion(_i)"
            ],
            "text/latex": "$\\displaystyle {A^{i}_{a}} {a^\\dagger_{i}} a_{a} {a^\\dagger_{a}} a_{i}$"
          },
          "metadata": {},
          "execution_count": 64
        }
      ]
    },
    {
      "cell_type": "code",
      "source": [
        "for i in range(len(psi)):\n",
        "    for j in range(len(psid)):\n",
        "        print(\"Term({}{}):\".format(i+1,j+1))\n",
        "        x = psid[i]*Op*psi[j]\n",
        "        display(x)\n",
        "        # print(\"$\",latex(x), \"$\")\n",
        "        print(\"After partial wicks contraction:\")\n",
        "        y = evaluate_deltas(substitute_dummies(wicks(psid[i]*Op0*psi[j], keep_only_fully_contracted=True)* psid[i]*Op*psi[j]))\n",
        "        display(y)\n",
        "        # print(\"$\",latex(y), \"$\")\n",
        "        print()"
      ],
      "metadata": {
        "id": "o15S65SGLMsR",
        "colab": {
          "base_uri": "https://localhost:8080/",
          "height": 901
        },
        "outputId": "5bfc4de1-5c85-4029-f481-925d550bc9e0"
      },
      "execution_count": 65,
      "outputs": [
        {
          "output_type": "stream",
          "name": "stdout",
          "text": [
            "Term(11):\n"
          ]
        },
        {
          "output_type": "display_data",
          "data": {
            "text/plain": [
              "AntiSymmetricTensor(A, (_p,), (_q,))*CreateFermion(_p)*AnnihilateFermion(_q)"
            ],
            "text/latex": "$\\displaystyle {A^{p}_{q}} {a^\\dagger_{p}} a_{q}$"
          },
          "metadata": {}
        },
        {
          "output_type": "stream",
          "name": "stdout",
          "text": [
            "After partial wicks contraction:\n"
          ]
        },
        {
          "output_type": "display_data",
          "data": {
            "text/plain": [
              "AntiSymmetricTensor(A, (_i,), (_i,))*CreateFermion(_i)*AnnihilateFermion(_i)"
            ],
            "text/latex": "$\\displaystyle {A^{i}_{i}} {a^\\dagger_{i}} a_{i}$"
          },
          "metadata": {}
        },
        {
          "output_type": "stream",
          "name": "stdout",
          "text": [
            "\n",
            "Term(12):\n"
          ]
        },
        {
          "output_type": "display_data",
          "data": {
            "text/plain": [
              "AntiSymmetricTensor(A, (_p,), (_q,))*CreateFermion(_p)*AnnihilateFermion(_q)*CreateFermion(_a)*AnnihilateFermion(_i)"
            ],
            "text/latex": "$\\displaystyle {A^{p}_{q}} {a^\\dagger_{p}} a_{q} {a^\\dagger_{a}} a_{i}$"
          },
          "metadata": {}
        },
        {
          "output_type": "stream",
          "name": "stdout",
          "text": [
            "After partial wicks contraction:\n"
          ]
        },
        {
          "output_type": "display_data",
          "data": {
            "text/plain": [
              "AntiSymmetricTensor(A, (_i,), (_a,))*CreateFermion(_i)*AnnihilateFermion(_a)*CreateFermion(_a)*AnnihilateFermion(_i)"
            ],
            "text/latex": "$\\displaystyle {A^{i}_{a}} {a^\\dagger_{i}} a_{a} {a^\\dagger_{a}} a_{i}$"
          },
          "metadata": {}
        },
        {
          "output_type": "stream",
          "name": "stdout",
          "text": [
            "\n",
            "Term(13):\n"
          ]
        },
        {
          "output_type": "display_data",
          "data": {
            "text/plain": [
              "AntiSymmetricTensor(A, (_p,), (_q,))*CreateFermion(_p)*AnnihilateFermion(_q)*CreateFermion(_k)*CreateFermion(_l)*AnnihilateFermion(_d)*AnnihilateFermion(_c)"
            ],
            "text/latex": "$\\displaystyle {A^{p}_{q}} {a^\\dagger_{p}} a_{q} {a^\\dagger_{k}} {a^\\dagger_{l}} a_{d} a_{c}$"
          },
          "metadata": {}
        },
        {
          "output_type": "stream",
          "name": "stdout",
          "text": [
            "After partial wicks contraction:\n"
          ]
        },
        {
          "output_type": "display_data",
          "data": {
            "text/plain": [
              "0"
            ],
            "text/latex": "$\\displaystyle 0$"
          },
          "metadata": {}
        },
        {
          "output_type": "stream",
          "name": "stdout",
          "text": [
            "\n",
            "Term(21):\n"
          ]
        },
        {
          "output_type": "display_data",
          "data": {
            "text/plain": [
              "AntiSymmetricTensor(A, (_p,), (_q,))*CreateFermion(_i)*AnnihilateFermion(_a)*CreateFermion(_p)*AnnihilateFermion(_q)"
            ],
            "text/latex": "$\\displaystyle {A^{p}_{q}} {a^\\dagger_{i}} a_{a} {a^\\dagger_{p}} a_{q}$"
          },
          "metadata": {}
        },
        {
          "output_type": "stream",
          "name": "stdout",
          "text": [
            "After partial wicks contraction:\n"
          ]
        },
        {
          "output_type": "display_data",
          "data": {
            "text/plain": [
              "AntiSymmetricTensor(A, (_a,), (_i,))*CreateFermion(_i)*AnnihilateFermion(_a)*CreateFermion(_a)*AnnihilateFermion(_i)"
            ],
            "text/latex": "$\\displaystyle {A^{a}_{i}} {a^\\dagger_{i}} a_{a} {a^\\dagger_{a}} a_{i}$"
          },
          "metadata": {}
        },
        {
          "output_type": "stream",
          "name": "stdout",
          "text": [
            "\n",
            "Term(22):\n"
          ]
        },
        {
          "output_type": "display_data",
          "data": {
            "text/plain": [
              "AntiSymmetricTensor(A, (_p,), (_q,))*CreateFermion(_i)*AnnihilateFermion(_a)*CreateFermion(_p)*AnnihilateFermion(_q)*CreateFermion(_a)*AnnihilateFermion(_i)"
            ],
            "text/latex": "$\\displaystyle {A^{p}_{q}} {a^\\dagger_{i}} a_{a} {a^\\dagger_{p}} a_{q} {a^\\dagger_{a}} a_{i}$"
          },
          "metadata": {}
        },
        {
          "output_type": "stream",
          "name": "stdout",
          "text": [
            "After partial wicks contraction:\n"
          ]
        },
        {
          "output_type": "display_data",
          "data": {
            "text/plain": [
              "AntiSymmetricTensor(A, (_a,), (_a,))*CreateFermion(_i)*AnnihilateFermion(_a)*CreateFermion(_a)*AnnihilateFermion(_a)*CreateFermion(_a)*AnnihilateFermion(_i) - AntiSymmetricTensor(A, (_i,), (_i,))*CreateFermion(_i)*AnnihilateFermion(_a)*CreateFermion(_i)*AnnihilateFermion(_i)*CreateFermion(_a)*AnnihilateFermion(_i) + AntiSymmetricTensor(A, (_i,), (_i,))*CreateFermion(_i)*AnnihilateFermion(_a)*CreateFermion(_i)*AnnihilateFermion(_i)*CreateFermion(_a)*AnnihilateFermion(_i)"
            ],
            "text/latex": "$\\displaystyle {A^{a}_{a}} {a^\\dagger_{i}} a_{a} {a^\\dagger_{a}} a_{a} {a^\\dagger_{a}} a_{i} - {A^{i}_{i}} {a^\\dagger_{i}} a_{a} {a^\\dagger_{i}} a_{i} {a^\\dagger_{a}} a_{i} + {A^{i}_{i}} {a^\\dagger_{i}} a_{a} {a^\\dagger_{i}} a_{i} {a^\\dagger_{a}} a_{i}$"
          },
          "metadata": {}
        },
        {
          "output_type": "stream",
          "name": "stdout",
          "text": [
            "\n",
            "Term(23):\n"
          ]
        },
        {
          "output_type": "display_data",
          "data": {
            "text/plain": [
              "AntiSymmetricTensor(A, (_p,), (_q,))*CreateFermion(_i)*AnnihilateFermion(_a)*CreateFermion(_p)*AnnihilateFermion(_q)*CreateFermion(_k)*CreateFermion(_l)*AnnihilateFermion(_d)*AnnihilateFermion(_c)"
            ],
            "text/latex": "$\\displaystyle {A^{p}_{q}} {a^\\dagger_{i}} a_{a} {a^\\dagger_{p}} a_{q} {a^\\dagger_{k}} {a^\\dagger_{l}} a_{d} a_{c}$"
          },
          "metadata": {}
        },
        {
          "output_type": "stream",
          "name": "stdout",
          "text": [
            "After partial wicks contraction:\n"
          ]
        },
        {
          "output_type": "display_data",
          "data": {
            "text/plain": [
              "0"
            ],
            "text/latex": "$\\displaystyle 0$"
          },
          "metadata": {}
        },
        {
          "output_type": "stream",
          "name": "stdout",
          "text": [
            "\n",
            "Term(31):\n"
          ]
        },
        {
          "output_type": "display_data",
          "data": {
            "text/plain": [
              "AntiSymmetricTensor(A, (_p,), (_q,))*CreateFermion(_c)*CreateFermion(_d)*AnnihilateFermion(_l)*AnnihilateFermion(_k)*CreateFermion(_p)*AnnihilateFermion(_q)"
            ],
            "text/latex": "$\\displaystyle {A^{p}_{q}} {a^\\dagger_{c}} {a^\\dagger_{d}} a_{l} a_{k} {a^\\dagger_{p}} a_{q}$"
          },
          "metadata": {}
        },
        {
          "output_type": "stream",
          "name": "stdout",
          "text": [
            "After partial wicks contraction:\n"
          ]
        },
        {
          "output_type": "display_data",
          "data": {
            "text/plain": [
              "0"
            ],
            "text/latex": "$\\displaystyle 0$"
          },
          "metadata": {}
        },
        {
          "output_type": "stream",
          "name": "stdout",
          "text": [
            "\n",
            "Term(32):\n"
          ]
        },
        {
          "output_type": "display_data",
          "data": {
            "text/plain": [
              "AntiSymmetricTensor(A, (_p,), (_q,))*CreateFermion(_c)*CreateFermion(_d)*AnnihilateFermion(_l)*AnnihilateFermion(_k)*CreateFermion(_p)*AnnihilateFermion(_q)*CreateFermion(_a)*AnnihilateFermion(_i)"
            ],
            "text/latex": "$\\displaystyle {A^{p}_{q}} {a^\\dagger_{c}} {a^\\dagger_{d}} a_{l} a_{k} {a^\\dagger_{p}} a_{q} {a^\\dagger_{a}} a_{i}$"
          },
          "metadata": {}
        },
        {
          "output_type": "stream",
          "name": "stdout",
          "text": [
            "After partial wicks contraction:\n"
          ]
        },
        {
          "output_type": "display_data",
          "data": {
            "text/plain": [
              "0"
            ],
            "text/latex": "$\\displaystyle 0$"
          },
          "metadata": {}
        },
        {
          "output_type": "stream",
          "name": "stdout",
          "text": [
            "\n",
            "Term(33):\n"
          ]
        },
        {
          "output_type": "display_data",
          "data": {
            "text/plain": [
              "AntiSymmetricTensor(A, (_p,), (_q,))*CreateFermion(_c)*CreateFermion(_d)*AnnihilateFermion(_l)*AnnihilateFermion(_k)*CreateFermion(_p)*AnnihilateFermion(_q)*CreateFermion(_k)*CreateFermion(_l)*AnnihilateFermion(_d)*AnnihilateFermion(_c)"
            ],
            "text/latex": "$\\displaystyle {A^{p}_{q}} {a^\\dagger_{c}} {a^\\dagger_{d}} a_{l} a_{k} {a^\\dagger_{p}} a_{q} {a^\\dagger_{k}} {a^\\dagger_{l}} a_{d} a_{c}$"
          },
          "metadata": {}
        },
        {
          "output_type": "stream",
          "name": "stdout",
          "text": [
            "After partial wicks contraction:\n"
          ]
        },
        {
          "output_type": "display_data",
          "data": {
            "text/plain": [
              "0"
            ],
            "text/latex": "$\\displaystyle 0$"
          },
          "metadata": {}
        },
        {
          "output_type": "stream",
          "name": "stdout",
          "text": [
            "\n"
          ]
        }
      ]
    },
    {
      "cell_type": "code",
      "source": [
        "y = evaluate_deltas(substitute_dummies(wicks(psid[j]*Op0*psi[i], keep_only_fully_contracted=True)* psid[j]*Op*psi[i]))\n",
        "display(y.subs({i:1, a:5}))\n",
        "for i in y.args:\n",
        "    print(i)"
      ],
      "metadata": {
        "id": "hRBQwH9b7-iS",
        "colab": {
          "base_uri": "https://localhost:8080/",
          "height": 37
        },
        "outputId": "7c94c539-a6a6-4b21-b849-8714b3aa014a"
      },
      "execution_count": 66,
      "outputs": [
        {
          "output_type": "display_data",
          "data": {
            "text/plain": [
              "0"
            ],
            "text/latex": "$\\displaystyle 0$"
          },
          "metadata": {}
        }
      ]
    },
    {
      "cell_type": "code",
      "source": [
        "y = evaluate_deltas(substitute_dummies(wicks(psid[j]*Op0*psi[i], keep_only_fully_contracted=True)* psid[j]*Op*psi[i]))\n",
        "display(y.subs({i:1, a:5}))\n",
        "for i in y.args:\n",
        "    print(i)"
      ],
      "metadata": {
        "id": "Iqjxrg1fCJk5",
        "colab": {
          "base_uri": "https://localhost:8080/",
          "height": 37
        },
        "outputId": "b46d0cd8-8cfd-422c-955c-3023f27ab94c"
      },
      "execution_count": 67,
      "outputs": [
        {
          "output_type": "display_data",
          "data": {
            "text/plain": [
              "0"
            ],
            "text/latex": "$\\displaystyle 0$"
          },
          "metadata": {}
        }
      ]
    },
    {
      "cell_type": "code",
      "source": [
        "from sympy.physics.secondquant import Fd, F\n",
        "import sympy as sp\n",
        "# Define symbols\n",
        "p, q, a, i = sp.symbols('p q a i')\n",
        "\n",
        "# Create the expression\n",
        "expr = Fd(p) * F(q) * Fd(a) * F(i)\n",
        "\n",
        "# Print the original expression\n",
        "print(\"Original Expression:\")\n",
        "sp.pprint(expr)\n",
        "\n",
        "# Use the result for further calculations\n",
        "# Example: Multiply by another operator or constant\n",
        "B = sp.Symbol('B')\n",
        "new_expr = expr * B\n",
        "\n",
        "# Print the new expression\n",
        "print(\"New Expression:\")\n",
        "sp.pprint(new_expr)\n",
        "\n",
        "# Substitute specific values if needed\n",
        "result = new_expr.subs({p: 1, q: 2, a: 3, i: 4, B: 5})\n",
        "\n",
        "# Print the final result\n",
        "print(\"Final Result after substitution:\")\n",
        "sp.pprint(result)\n",
        "\n",
        "# Evaluate numerically if needed\n",
        "numeric_result = result.evalf()\n",
        "print(\"Final Numeric Result:\")\n",
        "print(numeric_result)\n",
        "\n"
      ],
      "metadata": {
        "id": "5x5sf50QCLkQ",
        "colab": {
          "base_uri": "https://localhost:8080/"
        },
        "outputId": "124c5c38-d080-4792-c24b-34908366c9ab"
      },
      "execution_count": 68,
      "outputs": [
        {
          "output_type": "stream",
          "name": "stdout",
          "text": [
            "Original Expression:\n",
            "f+(p)⋅f(q)⋅f+(a)⋅f(i)\n",
            "New Expression:\n",
            "B⋅f+(p)⋅f(q)⋅f+(a)⋅f(i)\n",
            "Final Result after substitution:\n",
            "5⋅f+(1)⋅f(2)⋅f+(3)⋅f(4)\n",
            "Final Numeric Result:\n",
            "5.0*CreateFermion(1)*AnnihilateFermion(2)*CreateFermion(3)*AnnihilateFermion(4)\n"
          ]
        }
      ]
    },
    {
      "cell_type": "code",
      "source": [
        "import sympy as sp\n",
        "from sympy.physics.secondquant import Fd, F\n",
        "\n",
        "# Define symbols\n",
        "i, q, a, p = sp.symbols('i q a p')\n",
        "\n",
        "# Create the expression\n",
        "expr = F(i) * F(q) * Fd(a) * Fd(p)\n",
        "\n",
        "# Print the original expression\n",
        "print(\"Original Expression:\")\n",
        "sp.pprint(expr)\n",
        "\n",
        "# Define new values to iterate over\n",
        "i_values = [1, 2, 3]\n",
        "q_values = [4, 5, 6]\n",
        "a_values = [7, 8, 9]\n",
        "p_values = [10, 11, 12]\n",
        "\n",
        "# Iterate over new values and update the expression\n",
        "for i_val, q_val, a_val, p_val in zip(i_values, q_values, a_values, p_values):\n",
        "    new_expr = expr.subs({i: i_val, q: q_val, a: a_val, p: p_val})\n",
        "    print(f\"\\nUpdated Expression for i={i_val}, q={q_val}, a={a_val}, p={p_val}:\")\n",
        "    sp.pprint(new_expr)\n",
        "\n",
        "# Do further calculations if needed\n",
        "# Example: Evaluate numerically\n",
        "    numeric_result = new_expr.evalf()\n",
        "    print(f\"Numeric Result for i={i_val}, q={q_val}, a={a_val}, p={p_val}:\")\n",
        "    print(numeric_result)\n"
      ],
      "metadata": {
        "id": "tZ1XX3UBEVl3",
        "colab": {
          "base_uri": "https://localhost:8080/"
        },
        "outputId": "74deb424-42ef-403a-85e9-46416271096e"
      },
      "execution_count": 69,
      "outputs": [
        {
          "output_type": "stream",
          "name": "stdout",
          "text": [
            "Original Expression:\n",
            "f(i)⋅f(q)⋅f+(a)⋅f+(p)\n",
            "\n",
            "Updated Expression for i=1, q=4, a=7, p=10:\n",
            "f(1)⋅f(4)⋅f+(7)⋅f+(10)\n",
            "Numeric Result for i=1, q=4, a=7, p=10:\n",
            "AnnihilateFermion(1)*AnnihilateFermion(4)*CreateFermion(7)*CreateFermion(10)\n",
            "\n",
            "Updated Expression for i=2, q=5, a=8, p=11:\n",
            "f(2)⋅f(5)⋅f+(8)⋅f+(11)\n",
            "Numeric Result for i=2, q=5, a=8, p=11:\n",
            "AnnihilateFermion(2)*AnnihilateFermion(5)*CreateFermion(8)*CreateFermion(11)\n",
            "\n",
            "Updated Expression for i=3, q=6, a=9, p=12:\n",
            "f(3)⋅f(6)⋅f+(9)⋅f+(12)\n",
            "Numeric Result for i=3, q=6, a=9, p=12:\n",
            "AnnihilateFermion(3)*AnnihilateFermion(6)*CreateFermion(9)*CreateFermion(12)\n"
          ]
        }
      ]
    }
  ]
}