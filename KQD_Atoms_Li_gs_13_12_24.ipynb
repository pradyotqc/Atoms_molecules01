{
  "nbformat": 4,
  "nbformat_minor": 0,
  "metadata": {
    "colab": {
      "provenance": [],
      "authorship_tag": "ABX9TyNpIXbPCCPmPYgpjIYADJhZ"
    },
    "kernelspec": {
      "name": "python3",
      "display_name": "Python 3"
    },
    "language_info": {
      "name": "python"
    }
  },
  "cells": [
    {
      "cell_type": "code",
      "execution_count": null,
      "metadata": {
        "id": "RXWpXZTR06qR"
      },
      "outputs": [],
      "source": [
        "! pip install -q qiskit\n",
        "! pip install -q qiskit-aer\n",
        "! pip install -q qiskit-algorithms\n",
        "! pip install -q qiskit-nature\n",
        "! pip install -q qiskit-nature-pyscf # install the pyscf library\n",
        "! pip install -q qiskit-ibm-runtime\n",
        "# print(qiskit.__version__)\n",
        "# print(qiskit_aer.__version__)\n",
        "# print(qiskit_algorithms.__version__)\n",
        "# print(qiskit_nature.__version__)\n",
        "# print(qiskit_nature_pyscf.__version__)\n",
        "# print(qiskit_ibm_runtime.__version__)\n"
      ]
    },
    {
      "cell_type": "code",
      "source": [
        "import qiskit_nature\n",
        "import qiskit\n",
        "import qiskit_aer\n",
        "import qiskit_algorithms\n",
        "import qiskit_ibm_runtime\n",
        "import qiskit_nature_pyscf\n",
        "from qiskit_algorithms.minimum_eigensolvers import NumPyMinimumEigensolver, VQE\n",
        "from qiskit_nature.second_q.transformers import FreezeCoreTransformer\n",
        "from qiskit_nature.second_q.formats.molecule_info import MoleculeInfo\n",
        "from qiskit_nature.second_q.mappers import ParityMapper\n",
        "from qiskit_nature.second_q.circuit.library import UCCSD, HartreeFock\n",
        "from qiskit_nature.second_q.drivers import PySCFDriver\n",
        "from qiskit.circuit.library import EfficientSU2\n",
        "import numpy as np\n",
        "import matplotlib.pyplot as plt\n",
        "from qiskit_nature.second_q.algorithms import GroundStateEigensolver\n",
        "from qiskit_nature.units import DistanceUnit\n",
        "from qiskit_nature.second_q.mappers import JordanWignerMapper\n",
        "from qiskit_aer import  AerSimulator\n",
        "# from qiskit_nature.second_q.algorithms import VQEUCCFactory\n",
        "from qiskit_algorithms.optimizers import SLSQP\n",
        "from qiskit_aer.primitives import Estimator\n",
        "from qiskit_nature.units import DistanceUnit\n",
        "from qiskit_nature.second_q.drivers import PySCFDriver\n",
        "from qiskit_nature.second_q.problems import ElectronicBasis\n",
        "from qiskit_nature.second_q.transformers import ActiveSpaceTransformer\n",
        "from qiskit_nature.second_q.mappers import ParityMapper\n",
        "from scipy.linalg import eigh\n",
        "from qiskit_nature.second_q.circuit.library import HartreeFock\n",
        "from scipy.linalg import expm\n",
        "from qiskit.quantum_info import Statevector\n",
        "from numpy import pi"
      ],
      "metadata": {
        "id": "sKy9wL8C2qpG"
      },
      "execution_count": 122,
      "outputs": []
    },
    {
      "cell_type": "markdown",
      "source": [
        "# Analysis of Li atom in 10 spin orbitals:"
      ],
      "metadata": {
        "id": "9ht9aIIQw6fT"
      }
    },
    {
      "cell_type": "code",
      "source": [
        "mdriver = PySCFDriver(\n",
        "    atom=\"Li 0.0 0.0 0.0\",  # Specify the atom and its coordinates\n",
        "    basis=\"sto3g\",          # Define the basis set\n",
        "    charge=0,                # Set the charge of the atom\n",
        "    spin=1,                 # Set the spin of the atom\n",
        "    unit=DistanceUnit.ANGSTROM, # Define the unit of the coordinates\n",
        ")\n",
        "\n",
        "# You can now use the driver to run a calculation\n",
        "electronic_structure_problem = mdriver.run()"
      ],
      "metadata": {
        "id": "O9osQyH_mYgX"
      },
      "execution_count": 124,
      "outputs": []
    },
    {
      "cell_type": "code",
      "source": [
        "print(\"Spatial orbitals:\", electronic_structure_problem.num_spatial_orbitals)\n",
        "print(\"Number of up spin: \", electronic_structure_problem.num_alpha)\n",
        "print(\"Number of down spin: \", electronic_structure_problem.num_beta)\n",
        "print(\"\\n\")\n",
        "print(\"Down spin configuration : \", electronic_structure_problem.orbital_occupations_b)\n",
        "print(\"Down spin configuration : \",electronic_structure_problem.orbital_occupations)\n",
        "print(\"Number of particles: \", electronic_structure_problem.num_particles)\n",
        "# print(electronic_structure_problem.second_q_ops()[0])"
      ],
      "metadata": {
        "colab": {
          "base_uri": "https://localhost:8080/"
        },
        "id": "FwFma9X-nCAo",
        "outputId": "dd4c1e5e-59c5-4ef1-e7da-cbadd7c3c76e"
      },
      "execution_count": 125,
      "outputs": [
        {
          "output_type": "stream",
          "name": "stdout",
          "text": [
            "Spatial orbitals: 5\n",
            "Number of up spin:  2\n",
            "Number of down spin:  1\n",
            "\n",
            "\n",
            "Down spin configuration :  [1. 0. 0. 0. 0.]\n",
            "Down spin configuration :  [1. 1. 0. 0. 0.]\n",
            "Number of particles:  (2, 1)\n"
          ]
        }
      ]
    },
    {
      "cell_type": "code",
      "source": [
        "from qiskit_algorithms import NumPyMinimumEigensolver\n",
        "from qiskit_nature.second_q.algorithms import GroundStateEigensolver\n",
        "from qiskit_nature.second_q.mappers import JordanWignerMapper\n",
        "\n",
        "solver = GroundStateEigensolver(\n",
        "    JordanWignerMapper(),\n",
        "    NumPyMinimumEigensolver(),\n",
        ")\n",
        "\n",
        "result = solver.solve(electronic_structure_problem)\n",
        "print(result)\n",
        "print(\"HF energy : \", electronic_structure_problem.reference_energy)"
      ],
      "metadata": {
        "colab": {
          "base_uri": "https://localhost:8080/"
        },
        "id": "syYuE37AHB3t",
        "outputId": "42e57f40-9ba1-4458-e684-30358271de81"
      },
      "execution_count": 126,
      "outputs": [
        {
          "output_type": "stream",
          "name": "stdout",
          "text": [
            "=== GROUND STATE ENERGY ===\n",
            " \n",
            "* Electronic ground state energy (Hartree): -7.315836552851\n",
            "  - computed part:      -7.315836552851\n",
            "~ Nuclear repulsion energy (Hartree): 0.0\n",
            "> Total ground state energy (Hartree): -7.315836552851\n",
            " \n",
            "=== MEASURED OBSERVABLES ===\n",
            " \n",
            "  0:  # Particles: 3.000 S: 0.500 S^2: 0.750 M: 0.152\n",
            " \n",
            "=== DIPOLE MOMENTS ===\n",
            " \n",
            "~ Nuclear dipole moment (a.u.): [0.0  0.0  0.0]\n",
            " \n",
            "  0: \n",
            "  * Electronic dipole moment (a.u.): [0.0  0.0  0.0]\n",
            "    - computed part:      [0.0  0.0  0.0]\n",
            "  > Dipole moment (a.u.): [0.0  0.0  0.0]  Total: 0.0\n",
            "                 (debye): [0.0  0.0  0.0]  Total: 0.0\n",
            " \n",
            "HF energy :  -7.315525981281089\n"
          ]
        }
      ]
    },
    {
      "cell_type": "code",
      "source": [
        "mapper = JordanWignerMapper()\n",
        "qubit_hamiltonian = mapper.map(electronic_structure_problem.second_q_ops()[0])\n",
        "state = HartreeFock(electronic_structure_problem.num_spatial_orbitals, electronic_structure_problem.num_particles, mapper)\n",
        "print(state)"
      ],
      "metadata": {
        "colab": {
          "base_uri": "https://localhost:8080/"
        },
        "id": "JZdyF3s6oxkV",
        "outputId": "d50848d3-f937-46b4-f31e-80e6d0729914"
      },
      "execution_count": 127,
      "outputs": [
        {
          "output_type": "stream",
          "name": "stdout",
          "text": [
            "     ┌───┐\n",
            "q_0: ┤ X ├\n",
            "     ├───┤\n",
            "q_1: ┤ X ├\n",
            "     └───┘\n",
            "q_2: ─────\n",
            "          \n",
            "q_3: ─────\n",
            "          \n",
            "q_4: ─────\n",
            "     ┌───┐\n",
            "q_5: ┤ X ├\n",
            "     └───┘\n",
            "q_6: ─────\n",
            "          \n",
            "q_7: ─────\n",
            "          \n",
            "q_8: ─────\n",
            "          \n",
            "q_9: ─────\n",
            "          \n"
          ]
        }
      ]
    },
    {
      "cell_type": "code",
      "source": [
        "from qiskit_algorithms import NumPyEigensolver\n",
        "from qiskit_nature.second_q.algorithms import ExcitedStatesEigensolver\n",
        "numpy_solver = NumPyEigensolver(k=2, filter_criterion=electronic_structure_problem.get_default_filter_criterion())\n",
        "numpy_excited_states_solver = ExcitedStatesEigensolver(mapper, numpy_solver)\n",
        "numpy_results = numpy_excited_states_solver.solve(electronic_structure_problem)\n",
        "# print(numpy_results)"
      ],
      "metadata": {
        "id": "wVQTnotAK114"
      },
      "execution_count": 128,
      "outputs": []
    },
    {
      "cell_type": "code",
      "source": [
        "numpy_results.computed_energies"
      ],
      "metadata": {
        "colab": {
          "base_uri": "https://localhost:8080/"
        },
        "id": "8wcDd2SgLsr9",
        "outputId": "606ac2da-4c6d-4b6e-9235-2b5a1a6ce12b"
      },
      "execution_count": 129,
      "outputs": [
        {
          "output_type": "execute_result",
          "data": {
            "text/plain": [
              "array([], dtype=float64)"
            ]
          },
          "metadata": {},
          "execution_count": 129
        }
      ]
    },
    {
      "cell_type": "code",
      "source": [
        "statevector = Statevector(state)\n",
        "k = 3\n",
        "E_sub = np.zeros((k, k), dtype=complex)\n",
        "S_sub = np.zeros((k, k), dtype=complex)\n",
        "for i in range(k):\n",
        "    for j in range(k):\n",
        "        U = expm(-(i-j)*pi*1j*qubit_hamiltonian/0.08)\n",
        "\n",
        "        # Apply the unitary operator to the statevector using evolve()\n",
        "        evolved_statevector = statevector.evolve(U)\n",
        "\n",
        "        # Now you can access the data of the evolved statevector\n",
        "        S_sub[i, j] = statevector.expectation_value(U)\n",
        "\n",
        "        # Now apply hamiltonian to evolved state\n",
        "        evolved_statevector = evolved_statevector.evolve(qubit_hamiltonian)\n",
        "        E_sub[i, j] = statevector.inner(evolved_statevector)\n",
        "\n",
        "print(E_sub)\n",
        "print(S_sub)\n"
      ],
      "metadata": {
        "colab": {
          "base_uri": "https://localhost:8080/"
        },
        "id": "fJmg1vaapDuX",
        "outputId": "c9f604b3-2c67-422b-e830-a95b1de1993a"
      },
      "execution_count": 130,
      "outputs": [
        {
          "output_type": "stream",
          "name": "stdout",
          "text": [
            "[[-7.31552598+0.j          1.19033506-7.21691474j  6.92746612+2.35002278j]\n",
            " [ 1.19033506+7.21691474j -7.31552598+0.j          1.19033506-7.21691474j]\n",
            " [ 6.92746612-2.35002278j  1.19033506+7.21691474j -7.31552598+0.j        ]]\n",
            "[[ 1.        +0.j         -0.16269265+0.98644957j -0.94691923-0.32125274j]\n",
            " [-0.16269265-0.98644957j  1.        +0.j         -0.16269265+0.98644957j]\n",
            " [-0.94691923+0.32125274j -0.16269265-0.98644957j  1.        +0.j        ]]\n"
          ]
        }
      ]
    },
    {
      "cell_type": "code",
      "source": [
        "# S_sub = regularize_matrix(S_sub)\n",
        "eigenvalues, eigenvectors = eigh(E_sub, S_sub)\n",
        "print(eigenvalues)\n",
        "print(eigenvectors)\n",
        "# print(eigenvalues[0]- eigenvalues[1])"
      ],
      "metadata": {
        "colab": {
          "base_uri": "https://localhost:8080/"
        },
        "id": "lpZu5NceplFC",
        "outputId": "d72e1615-a9c8-4687-873b-f548be84e3dc"
      },
      "execution_count": 131,
      "outputs": [
        {
          "output_type": "stream",
          "name": "stdout",
          "text": [
            "[-7.31582811 -5.04744521 -3.15158127]\n",
            "[[-2.99838934e-01+1.41717490e-01j  2.78362925e+01+1.12324556e+01j\n",
            "  -1.15697778e+02-6.72269496e+00j]\n",
            " [ 6.51695637e-02+3.95044341e-01j  2.33861190e+01+3.14723661e+01j\n",
            "   5.12364760e+01-1.82587365e+01j]\n",
            " [ 3.29470315e-01+3.79017787e-02j  2.72299400e+00+2.98933529e+01j\n",
            "  -8.53717437e+01+7.83762456e+01j]]\n"
          ]
        }
      ]
    },
    {
      "cell_type": "code",
      "source": [
        "# from qiskit_algorithms import VQE\n",
        "# from qiskit_algorithms.optimizers import SLSQP, COBYLA, SPSA\n",
        "# from qiskit.primitives import Estimator\n",
        "# from qiskit_nature.second_q.algorithms import GroundStateEigensolver, QEOM, EvaluationRule\n",
        "# from qiskit_nature.second_q.circuit.library import HartreeFock, UCCSD\n",
        "\n",
        "# transformer = FreezeCoreTransformer(remove_orbitals=[3, 4], freeze_core=False)\n",
        "# electronic_structure_problem = transformer.transform(electronic_structure_problem)\n",
        "# ansatz = UCCSD(\n",
        "#     electronic_structure_problem.num_spatial_orbitals,\n",
        "#     electronic_structure_problem.num_particles,\n",
        "#     mapper,\n",
        "#     initial_state=HartreeFock(\n",
        "#         electronic_structure_problem.num_spatial_orbitals,\n",
        "#         electronic_structure_problem.num_particles,\n",
        "#         mapper,\n",
        "#     ),\n",
        "# )\n",
        "\n",
        "# estimator = Estimator()\n",
        "# # This first part sets the ground state solver\n",
        "# # see more about this part in the ground state calculation tutorial\n",
        "# solver = VQE(estimator, ansatz, SPSA())\n",
        "# solver.initial_point = [0.0] * ansatz.num_parameters\n",
        "# gse = GroundStateEigensolver(mapper, solver)\n",
        "\n",
        "# # The qEOM algorithm is simply instantiated with the chosen ground state solver and Estimator primitive\n",
        "# qeom_excited_states_solver = QEOM(gse, estimator, \"sd\", EvaluationRule.ALL)\n",
        "# qeom_results = qeom_excited_states_solver.solve(electronic_structure_problem)"
      ],
      "metadata": {
        "id": "cIHI6jDCOvQh"
      },
      "execution_count": 132,
      "outputs": []
    },
    {
      "cell_type": "code",
      "source": [
        "# qeom_results.computed_energies"
      ],
      "metadata": {
        "id": "xB1C14-y4dGO"
      },
      "execution_count": 133,
      "outputs": []
    },
    {
      "cell_type": "code",
      "source": [
        "exact_eva, exact_eve = eigh(qubit_hamiltonian.to_matrix())\n",
        "print(exact_eva)"
      ],
      "metadata": {
        "id": "8NOSold_X9xW",
        "colab": {
          "base_uri": "https://localhost:8080/"
        },
        "outputId": "a6b0288a-f642-4490-fdec-ab1f431063af"
      },
      "execution_count": 134,
      "outputs": [
        {
          "output_type": "stream",
          "name": "stdout",
          "text": [
            "[-7.31583655e+00 -7.31583655e+00 -7.25379126e+00 ... -4.90501018e-01\n",
            "  1.64868119e-14  3.77428002e-01]\n"
          ]
        }
      ]
    },
    {
      "cell_type": "code",
      "source": [
        "import matplotlib.pyplot as plt\n",
        "import numpy as np\n",
        "\n",
        "\n",
        "states = np.arange(len(exact_eva))  # Create state indices (0, 1, 2, ...)\n",
        "kstate = np.arange(len(eigenvalues))\n",
        "\n",
        "# Create a scatter plot\n",
        "plt.figure(figsize=(12, 10))\n",
        "plt.scatter(states, exact_eva, color=\"red\", label=\"Eigenvalues\", marker=\"o\", s=5)\n",
        "plt.scatter(kstate, eigenvalues, color=\"blue\", label=\"KQD\", marker=\"x\", s=9)\n",
        "# Add labels and title\n",
        "for val in eigenvalues:\n",
        "    plt.hlines(y=val, xmin=-10, xmax=1024, colors='blue', linestyles='--', linewidth=1.5)\n",
        "\n",
        "plt.xlabel(\"State Index\")\n",
        "plt.ylabel(\"Eigenvalue (Hartree)\")\n",
        "plt.title(\"Eigenvalues\")\n",
        "# plt.grid(True)\n",
        "plt.legend()\n",
        "\n",
        "# Show the plot\n",
        "plt.show()\n"
      ],
      "metadata": {
        "id": "XfjJyg4bYTzA",
        "colab": {
          "base_uri": "https://localhost:8080/",
          "height": 872
        },
        "outputId": "bfa1fec8-c894-44bd-dd8d-06a84d9054dd"
      },
      "execution_count": 135,
      "outputs": [
        {
          "output_type": "display_data",
          "data": {
            "text/plain": [
              "<Figure size 1200x1000 with 1 Axes>"
            ],
            "image/png": "[encoded data removed]"
          },
          "metadata": {}
        }
      ]
    },
    {
      "cell_type": "code",
      "source": [
        "# from qiskit_algorithms import VQE\n",
        "# from qiskit_algorithms.optimizers import SLSQP, COBYLA, SPSA\n",
        "# from qiskit.primitives import Estimator\n",
        "# from qiskit_nature.second_q.algorithms import GroundStateEigensolver, QEOM, EvaluationRule\n",
        "# from qiskit_nature.second_q.circuit.library import HartreeFock, UCCSD\n",
        "\n",
        "# transformer = FreezeCoreTransformer(remove_orbitals=[3, 4], freeze_core=False)\n",
        "# electronic_structure_problem = transformer.transform(electronic_structure_problem)\n",
        "# ansatz = UCCSD(\n",
        "#     electronic_structure_problem.num_spatial_orbitals,\n",
        "#     electronic_structure_problem.num_particles,\n",
        "#     mapper,\n",
        "#     initial_state=HartreeFock(\n",
        "#         electronic_structure_problem.num_spatial_orbitals,\n",
        "#         electronic_structure_problem.num_particles,\n",
        "#         mapper,\n",
        "#     ),\n",
        "# )\n",
        "\n",
        "# estimator = Estimator()\n",
        "# # This first part sets the ground state solver\n",
        "# # see more about this part in the ground state calculation tutorial\n",
        "# solver = VQE(estimator, ansatz, COBYLA())\n",
        "# solver.initial_point = [0.0] * ansatz.num_parameters\n",
        "# gse = GroundStateEigensolver(mapper, solver)\n",
        "\n",
        "# # The qEOM algorithm is simply instantiated with the chosen ground state solver and Estimator primitive\n",
        "# qeom_excited_states_solver = QEOM(gse, estimator, \"sd\", EvaluationRule.ALL)\n",
        "# qeom_results = qeom_excited_states_solver.solve(electronic_structure_problem)\n",
        "# cobyla_energy = qeom_results.computed_energies\n",
        "# cobyla_energy"
      ],
      "metadata": {
        "id": "4WsKBDQn_7jp"
      },
      "execution_count": 136,
      "outputs": []
    },
    {
      "cell_type": "code",
      "source": [
        "# from qiskit_algorithms import VQE\n",
        "# from qiskit_algorithms.optimizers import SLSQP, COBYLA, SPSA\n",
        "# from qiskit.primitives import Estimator\n",
        "# from qiskit_nature.second_q.algorithms import GroundStateEigensolver, QEOM, EvaluationRule\n",
        "# from qiskit_nature.second_q.circuit.library import HartreeFock, UCCSD\n",
        "\n",
        "# transformer = FreezeCoreTransformer(remove_orbitals=[3, 4], freeze_core=False)\n",
        "# electronic_structure_problem = transformer.transform(electronic_structure_problem)\n",
        "# ansatz = UCCSD(\n",
        "#     electronic_structure_problem.num_spatial_orbitals,\n",
        "#     electronic_structure_problem.num_particles,\n",
        "#     mapper,\n",
        "#     initial_state=HartreeFock(\n",
        "#         electronic_structure_problem.num_spatial_orbitals,\n",
        "#         electronic_structure_problem.num_particles,\n",
        "#         mapper,\n",
        "#     ),\n",
        "# )\n",
        "\n",
        "# estimator = Estimator()\n",
        "# # This first part sets the ground state solver\n",
        "# # see more about this part in the ground state calculation tutorial\n",
        "# solver = VQE(estimator, ansatz, SLSQP())\n",
        "# solver.initial_point = [0.0] * ansatz.num_parameters\n",
        "# gse = GroundStateEigensolver(mapper, solver)\n",
        "\n",
        "# # The qEOM algorithm is simply instantiated with the chosen ground state solver and Estimator primitive\n",
        "# qeom_excited_states_solver = QEOM(gse, estimator, \"sd\", EvaluationRule.ALL)\n",
        "# qeom_results = qeom_excited_states_solver.solve(electronic_structure_problem)\n",
        "# slsqp_energy = qeom_results.computed_energies\n",
        "# slsqp_energy"
      ],
      "metadata": {
        "id": "8uRcrRbZAE9M"
      },
      "execution_count": 137,
      "outputs": []
    },
    {
      "cell_type": "code",
      "source": [
        "eigenvalues"
      ],
      "metadata": {
        "id": "1bqAQ6aOAY0W",
        "colab": {
          "base_uri": "https://localhost:8080/"
        },
        "outputId": "0e9ba926-a1b1-4f89-f4d4-c932f5045036"
      },
      "execution_count": 138,
      "outputs": [
        {
          "output_type": "execute_result",
          "data": {
            "text/plain": [
              "array([-7.31582811, -5.04744521, -3.15158127])"
            ]
          },
          "metadata": {},
          "execution_count": 138
        }
      ]
    },
    {
      "cell_type": "code",
      "source": [
        "# plt.figure(figsize=(14, 10))\n",
        "# state = np.arange(len(slsqp_energy))\n",
        "# plt.plot(state, slsqp_energy, color=\"red\", label=\"slsqp_energy value\", marker=\"o\", linewidth=1.0, markersize=8)\n",
        "# plt.plot(state, cobyla_energy, color=\"blue\", label=\"cobyla_energy value\", marker=\"x\",  linewidth=1.0, markersize=8)\n",
        "# plt.plot(state, spsa_energy, color=\"green\", label=\"spsa_energy value\", marker=\"^\",  linewidth=1.0, markersize=8)\n",
        "# plt.plot(kstate, eigenvalues, color=\"black\", label=\"kqd_energy value\", marker=\"*\",  linewidth=1.0, markersize=8)\n",
        "# plt.xlabel(\"State Index\")\n",
        "# plt.ylabel(\"Eigenvalue (Hartree)\")\n",
        "# plt.title(\"Eigenvalues\")\n",
        "# plt.grid(True)\n",
        "# plt.legend()\n",
        "\n",
        "# # Show the plot\n",
        "# plt.show()"
      ],
      "metadata": {
        "id": "iXpHFyC5WYdZ"
      },
      "execution_count": 139,
      "outputs": []
    },
    {
      "cell_type": "code",
      "source": [
        "print(eigenvectors.shape)\n",
        "coeff_subspace = eigenvectors[0]"
      ],
      "metadata": {
        "colab": {
          "base_uri": "https://localhost:8080/"
        },
        "id": "_z_fu104-Vlk",
        "outputId": "2c99500c-7f88-46c4-8529-bc661c152c82"
      },
      "execution_count": 140,
      "outputs": [
        {
          "output_type": "stream",
          "name": "stdout",
          "text": [
            "(3, 3)\n"
          ]
        }
      ]
    },
    {
      "cell_type": "code",
      "source": [
        "from scipy.linalg import norm\n",
        "# Here 10 is the number of spin orbitals to used in our calculation\n",
        "\n",
        "psi_i = Statevector([0] *(2**10))\n",
        "# print(norm(eigenvectors[0]))\n",
        "for i in range(k):\n",
        "    evolved_statevector = statevector.evolve(U)\n",
        "    psi_i += eigenvectors[0][i] / norm(eigenvectors[0]) * evolved_statevector\n",
        "print(\"Unnormalised state:\", psi_i.data)\n",
        "print(\"Norm of state:\", abs(psi_i.inner(psi_i.conjugate())))\n",
        "print(\"Ground state energy calculate from state:\", psi_i.expectation_value(qubit_hamiltonian)/abs(psi_i.inner(psi_i.conjugate())))"
      ],
      "metadata": {
        "colab": {
          "base_uri": "https://localhost:8080/"
        },
        "id": "1BTLK4vD-ssT",
        "outputId": "362fd41c-9810-4da9-bd34-c59e87ba42de"
      },
      "execution_count": 141,
      "outputs": [
        {
          "output_type": "stream",
          "name": "stdout",
          "text": [
            "Unnormalised state: [0.+0.j 0.+0.j 0.+0.j ... 0.+0.j 0.+0.j 0.+0.j]\n",
            "Norm of state: 0.5438102182006126\n",
            "Ground state energy calculate from state: (-7.31552598128107+0j)\n"
          ]
        }
      ]
    },
    {
      "cell_type": "code",
      "source": [
        "psi_norm = abs(psi_i.inner(psi_i.conjugate()))\n",
        "gs = psi_i/(psi_norm)**0.5\n",
        "print(\"Normalised ground state:\",gs.data)\n",
        "print(\"Ground state energy:\",gs.expectation_value(qubit_hamiltonian))\n",
        "print(abs(gs.inner(gs.conjugate())))"
      ],
      "metadata": {
        "colab": {
          "base_uri": "https://localhost:8080/"
        },
        "id": "DW9wqSgDCDFX",
        "outputId": "95d71894-beb2-4325-bd85-1418f2b50d6e"
      },
      "execution_count": 142,
      "outputs": [
        {
          "output_type": "stream",
          "name": "stdout",
          "text": [
            "Normalised ground state: [0.+0.j 0.+0.j 0.+0.j ... 0.+0.j 0.+0.j 0.+0.j]\n",
            "Ground state energy: (-7.315525981281077+0j)\n",
            "0.9999999999999999\n"
          ]
        }
      ]
    },
    {
      "cell_type": "code",
      "source": [
        "gs_state = gs.to_dict()\n",
        "gs_state"
      ],
      "metadata": {
        "id": "CW3qTHtxHH3K",
        "colab": {
          "base_uri": "https://localhost:8080/"
        },
        "outputId": "540226c6-afe8-4937-ce08-35df376a6fb6"
      },
      "execution_count": 147,
      "outputs": [
        {
          "output_type": "execute_result",
          "data": {
            "text/plain": [
              "{'0000100011': (-0.9986110385129483+0.05268770027331635j)}"
            ]
          },
          "metadata": {},
          "execution_count": 147
        }
      ]
    },
    {
      "cell_type": "code",
      "source": [
        "eigenvalues"
      ],
      "metadata": {
        "colab": {
          "base_uri": "https://localhost:8080/"
        },
        "id": "ZN2ln7smP_TI",
        "outputId": "6f3dde9e-3549-4ef4-d166-145b3c3da6e7"
      },
      "execution_count": 146,
      "outputs": [
        {
          "output_type": "execute_result",
          "data": {
            "text/plain": [
              "array([-7.31582811, -5.04744521, -3.15158127])"
            ]
          },
          "metadata": {},
          "execution_count": 146
        }
      ]
    },
    {
      "cell_type": "code",
      "source": [
        "y = gs_state[\"0000100011\"]\n",
        "y"
      ],
      "metadata": {
        "colab": {
          "base_uri": "https://localhost:8080/"
        },
        "id": "VSadJsesIjTI",
        "outputId": "cb9e2fc2-abe2-4252-fdca-2362e4aaf650"
      },
      "execution_count": 144,
      "outputs": [
        {
          "output_type": "execute_result",
          "data": {
            "text/plain": [
              "(-0.9986110385129483+0.05268770027331635j)"
            ]
          },
          "metadata": {},
          "execution_count": 144
        }
      ]
    },
    {
      "cell_type": "code",
      "source": [
        "# import matplotlib.pyplot as plt\n",
        "# import numpy as np\n",
        "\n",
        "# def plot_complex_number(z):\n",
        "#     # Create a unit circle\n",
        "#     theta = np.linspace(0, 2 * np.pi, 500)\n",
        "#     x = np.cos(theta)\n",
        "#     y = np.sin(theta)\n",
        "\n",
        "#     # Plot the unit circle\n",
        "#     plt.figure(figsize=(6, 6))\n",
        "#     plt.plot(x, y, label='state', color='blue')\n",
        "\n",
        "#     # Plot the complex number\n",
        "#     plt.scatter(z.real, z.imag, color='red', label=f'z = {z}')\n",
        "#     plt.plot([0, z.real], [0, z.imag], color='red', linestyle='--', label='Vector to z')\n",
        "\n",
        "#     # Add labels and grid\n",
        "#     plt.axhline(0, color='black',linewidth=0.5)\n",
        "#     plt.axvline(0, color='black',linewidth=0.5)\n",
        "#     plt.grid(color = 'gray', linestyle = '--', linewidth = 0.5)\n",
        "#     # plt.legend()\n",
        "#     plt.title('Statevector|0000100011>')\n",
        "#     plt.xlabel('Real Part')\n",
        "#     plt.ylabel('Imaginary Part')\n",
        "#     plt.axis('equal')\n",
        "\n",
        "#     # Show the plot\n",
        "#     plt.show()\n",
        "\n",
        "# # Example complex number (on or within the unit circle)\n",
        "# plot_complex_number(y)\n"
      ],
      "metadata": {
        "id": "xF_FcBa5KBrI"
      },
      "execution_count": 145,
      "outputs": []
    }
  ]
}