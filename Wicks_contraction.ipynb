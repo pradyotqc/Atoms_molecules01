{
  "nbformat": 4,
  "nbformat_minor": 0,
  "metadata": {
    "colab": {
      "private_outputs": true,
      "provenance": [],
      "authorship_tag": "ABX9TyPnG/aj7QUrjt9DJ4sf19mZ",
      "include_colab_link": true
    },
    "kernelspec": {
      "name": "python3",
      "display_name": "Python 3"
    },
    "language_info": {
      "name": "python"
    }
  },
  "cells": [
    {
      "cell_type": "markdown",
      "metadata": {
        "id": "view-in-github",
        "colab_type": "text"
      },
      "source": [
        "<a href=\"https://colab.research.google.com/github/pradyotqc/Atoms_molecules01/blob/main/Wicks_contraction.ipynb\" target=\"_parent\"><img src=\"https://colab.research.google.com/assets/colab-badge.svg\" alt=\"Open In Colab\"/></a>"
      ]
    },
    {
      "cell_type": "code",
      "source": [
        "from sympy import symbols\n",
        "from sympy.physics.secondquant import F, Fd, contraction\n",
        "from sympy import *\n",
        "from sympy.physics.secondquant import *"
      ],
      "metadata": {
        "id": "0MGkB9ZA0fbh"
      },
      "execution_count": null,
      "outputs": []
    },
    {
      "cell_type": "code",
      "source": [
        "p, q = symbols('p,q', cls=Dummy)\n",
        "a, b, c, d = symbols('a, b, c, d', above_fermi=True, cls=Dummy)\n",
        "i, j, k, l = symbols('i, j, k, l', below_fermi=True, cls=Dummy)"
      ],
      "metadata": {
        "id": "9aGIqSSs2004"
      },
      "execution_count": null,
      "outputs": []
    },
    {
      "cell_type": "code",
      "source": [
        "contraction(F(a),Fd(b))"
      ],
      "metadata": {
        "id": "r0PjBnUL1Z48"
      },
      "execution_count": null,
      "outputs": []
    },
    {
      "cell_type": "code",
      "source": [
        "contraction(Fd(a), F(b))"
      ],
      "metadata": {
        "id": "A-uUXare1cs1"
      },
      "execution_count": null,
      "outputs": []
    },
    {
      "cell_type": "code",
      "source": [
        "simplify(contraction(F(p), Fd(q)))"
      ],
      "metadata": {
        "id": "NPvRxZTy2RCZ"
      },
      "execution_count": null,
      "outputs": []
    },
    {
      "cell_type": "code",
      "source": [
        "term1 = Fd(p)*F(q)\n",
        "term2 = Fd(p)*F(q)*Fd(a)*F(i)\n",
        "term3 = Fd(p)*F(q)*Fd(c)*F(d)*Fd(l)*F(k)\n",
        "term4 = Fd(i)*F(a)*Fd(p)*F(q)*Fd(a)*F(i)\n",
        "term5 = Fd(i)*F(a)*Fd(p)*F(q)*Fd(c)*Fd(d)*F(l)*F(k)\n",
        "term6 = Fd(k)*Fd(l)*F(d)*F(c)*Fd(p)*F(q)*Fd(c)*Fd(d)*F(l)*F(k)"
      ],
      "metadata": {
        "id": "9f6RU8e_P5_c"
      },
      "execution_count": null,
      "outputs": []
    },
    {
      "cell_type": "code",
      "source": [
        "print(\"After full contaction: \\n\")\n",
        "\n",
        "print(\"\\nTerm-1:-----------\")\n",
        "display(term1,evaluate_deltas(wicks(term1, keep_only_fully_contracted=True)))\n",
        "\n",
        "print(\"\\nTerm-2:-----------\")\n",
        "display(term2, evaluate_deltas(wicks(term2, keep_only_fully_contracted=True)))\n",
        "\n",
        "print(\"\\nTerm-3:-----------\")\n",
        "display(term3,evaluate_deltas(wicks(term3, keep_only_fully_contracted=True)))\n",
        "\n",
        "print(\"\\nTerm-4:-----------\")\n",
        "display(term4, evaluate_deltas(wicks(term4, keep_only_fully_contracted=True)))\n",
        "\n",
        "print(\"\\nTerm-5:-----------\")\n",
        "display(term5, evaluate_deltas(wicks(term5, keep_only_fully_contracted=True)))\n",
        "\n",
        "print(\"\\nTerm-6:-----------\")\n",
        "display(term6, evaluate_deltas(wicks(term6, keep_only_fully_contracted=True)))"
      ],
      "metadata": {
        "id": "mo0pEwx83Dxm"
      },
      "execution_count": null,
      "outputs": []
    },
    {
      "cell_type": "code",
      "source": [
        "# @title Contraction full and partial\n",
        "print(\"After partial contaction: \\n\")\n",
        "\n",
        "print(\"\\nTerm-1:-----------\")\n",
        "display(term1)\n",
        "display(evaluate_deltas(term1*(wicks(term1, keep_only_fully_contracted=True))))\n",
        "\n",
        "print(\"\\nTerm-2:-----------\")\n",
        "display(term2)\n",
        "display(evaluate_deltas(term2*(wicks(term2, keep_only_fully_contracted=True))))\n",
        "\n",
        "print(\"\\nTerm-3:-----------\")\n",
        "display(term3)\n",
        "display(evaluate_deltas(term3*(wicks(term3, keep_only_fully_contracted=True))))\n",
        "\n",
        "print(\"\\nTerm-4:-----------\")\n",
        "display(term4)\n",
        "display(evaluate_deltas(simplify(term4*(wicks(term4, keep_only_fully_contracted=True)))))\n",
        "print()\n",
        "display(evaluate_deltas(substitute_dummies(evaluate_deltas(term4*(wicks(term4, keep_only_fully_contracted=True))))))\n",
        "\n",
        "\n",
        "print(\"\\nTerm-5:-----------\")\n",
        "display(term5)\n",
        "display(evaluate_deltas(simplify(term5*(wicks(term5, keep_only_fully_contracted=True)))))\n",
        "print()\n",
        "display(evaluate_deltas(substitute_dummies(evaluate_deltas(term5*(wicks(term5, keep_only_fully_contracted=True))))))\n",
        "\n",
        "print(\"\\nTerm-6:-----------\")\n",
        "display(term6)\n",
        "display(evaluate_deltas(term6*evaluate_deltas(wicks(term6, keep_only_fully_contracted=True))))\n",
        "print()\n",
        "display(evaluate_deltas(substitute_dummies(evaluate_deltas(term6*(wicks(term6, keep_only_fully_contracted=True))))))"
      ],
      "metadata": {
        "id": "Y9wRdiZURwJN",
        "cellView": "form"
      },
      "execution_count": null,
      "outputs": []
    },
    {
      "cell_type": "code",
      "source": [
        "term7 = Dagger(term2)\n",
        "term7"
      ],
      "metadata": {
        "id": "L3_eWiS3bzYO"
      },
      "execution_count": null,
      "outputs": []
    },
    {
      "cell_type": "code",
      "source": [
        "NO(Fd(p) * F(q))"
      ],
      "metadata": {
        "id": "8u92S1wp7PJ0"
      },
      "execution_count": null,
      "outputs": []
    },
    {
      "cell_type": "code",
      "source": [
        "p,q = symbols('p,q', cls=Dummy)\n",
        "NO(Fd(p) * F(q)).doit()"
      ],
      "metadata": {
        "id": "X-5kN_urJ_VF"
      },
      "execution_count": null,
      "outputs": []
    },
    {
      "cell_type": "code",
      "source": [
        "NO(F(p) * Fd(q))"
      ],
      "metadata": {
        "id": "I8YnD2BD7bEb"
      },
      "execution_count": null,
      "outputs": []
    },
    {
      "cell_type": "code",
      "source": [
        "n = symbols('n', cls=Dummy)\n",
        "F(0).apply_operator(FKet((3,)))"
      ],
      "metadata": {
        "id": "-52L2ZMfsdWR"
      },
      "execution_count": null,
      "outputs": []
    }
  ]
}