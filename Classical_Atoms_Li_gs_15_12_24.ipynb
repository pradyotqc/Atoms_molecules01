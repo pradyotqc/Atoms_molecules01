{
  "nbformat": 4,
  "nbformat_minor": 0,
  "metadata": {
    "colab": {
      "provenance": [],
      "authorship_tag": "ABX9TyN5Rivg6G3w4KYTKsLFk/8L"
    },
    "kernelspec": {
      "name": "python3",
      "display_name": "Python 3"
    },
    "language_info": {
      "name": "python"
    }
  },
  "cells": [
    {
      "cell_type": "code",
      "execution_count": 5,
      "metadata": {
        "id": "RXWpXZTR06qR",
        "colab": {
          "base_uri": "https://localhost:8080/"
        },
        "outputId": "748be58f-9c29-473f-e689-fe952d5fac45"
      },
      "outputs": [
        {
          "output_type": "stream",
          "name": "stdout",
          "text": [
            "\u001b[?25l   \u001b[90m━━━━━━━━━━━━━━━━━━━━━━━━━━━━━━━━━━━━━━━━\u001b[0m \u001b[32m0.0/6.7 MB\u001b[0m \u001b[31m?\u001b[0m eta \u001b[36m-:--:--\u001b[0m\r\u001b[2K   \u001b[91m╸\u001b[0m\u001b[90m━━━━━━━━━━━━━━━━━━━━━━━━━━━━━━━━━━━━━━━\u001b[0m \u001b[32m0.1/6.7 MB\u001b[0m \u001b[31m3.4 MB/s\u001b[0m eta \u001b[36m0:00:02\u001b[0m\r\u001b[2K   \u001b[91m━━━━━\u001b[0m\u001b[91m╸\u001b[0m\u001b[90m━━━━━━━━━━━━━━━━━━━━━━━━━━━━━━━━━━\u001b[0m \u001b[32m0.9/6.7 MB\u001b[0m \u001b[31m13.4 MB/s\u001b[0m eta \u001b[36m0:00:01\u001b[0m\r\u001b[2K   \u001b[91m━━━━━━━━━━━━━━━━━━━━━━━━━━━━━━\u001b[0m\u001b[90m╺\u001b[0m\u001b[90m━━━━━━━━━\u001b[0m \u001b[32m5.1/6.7 MB\u001b[0m \u001b[31m48.6 MB/s\u001b[0m eta \u001b[36m0:00:01\u001b[0m\r\u001b[2K   \u001b[91m━━━━━━━━━━━━━━━━━━━━━━━━━━━━━━━━━━━━━━━\u001b[0m\u001b[91m╸\u001b[0m \u001b[32m6.7/6.7 MB\u001b[0m \u001b[31m57.9 MB/s\u001b[0m eta \u001b[36m0:00:01\u001b[0m\r\u001b[2K   \u001b[90m━━━━━━━━━━━━━━━━━━━━━━━━━━━━━━━━━━━━━━━━\u001b[0m \u001b[32m6.7/6.7 MB\u001b[0m \u001b[31m44.9 MB/s\u001b[0m eta \u001b[36m0:00:00\u001b[0m\n",
            "\u001b[?25h\u001b[?25l   \u001b[90m━━━━━━━━━━━━━━━━━━━━━━━━━━━━━━━━━━━━━━━━\u001b[0m \u001b[32m0.0/119.4 kB\u001b[0m \u001b[31m?\u001b[0m eta \u001b[36m-:--:--\u001b[0m\r\u001b[2K   \u001b[90m━━━━━━━━━━━━━━━━━━━━━━━━━━━━━━━━━━━━━━━━\u001b[0m \u001b[32m119.4/119.4 kB\u001b[0m \u001b[31m9.2 MB/s\u001b[0m eta \u001b[36m0:00:00\u001b[0m\n",
            "\u001b[?25h\u001b[?25l   \u001b[90m━━━━━━━━━━━━━━━━━━━━━━━━━━━━━━━━━━━━━━━━\u001b[0m \u001b[32m0.0/2.0 MB\u001b[0m \u001b[31m?\u001b[0m eta \u001b[36m-:--:--\u001b[0m\r\u001b[2K   \u001b[90m━━━━━━━━━━━━━━━━━━━━━━━━━━━━━━━━━━━━━━━━\u001b[0m \u001b[32m2.0/2.0 MB\u001b[0m \u001b[31m62.0 MB/s\u001b[0m eta \u001b[36m0:00:00\u001b[0m\n",
            "\u001b[2K   \u001b[90m━━━━━━━━━━━━━━━━━━━━━━━━━━━━━━━━━━━━━━━━\u001b[0m \u001b[32m49.5/49.5 kB\u001b[0m \u001b[31m3.5 MB/s\u001b[0m eta \u001b[36m0:00:00\u001b[0m\n",
            "\u001b[2K   \u001b[90m━━━━━━━━━━━━━━━━━━━━━━━━━━━━━━━━━━━━━━━━\u001b[0m \u001b[32m49.7/49.7 MB\u001b[0m \u001b[31m17.6 MB/s\u001b[0m eta \u001b[36m0:00:00\u001b[0m\n",
            "\u001b[2K   \u001b[90m━━━━━━━━━━━━━━━━━━━━━━━━━━━━━━━━━━━━━━━━\u001b[0m \u001b[32m108.5/108.5 kB\u001b[0m \u001b[31m7.1 MB/s\u001b[0m eta \u001b[36m0:00:00\u001b[0m\n",
            "\u001b[2K   \u001b[90m━━━━━━━━━━━━━━━━━━━━━━━━━━━━━━━━━━━━━━━━\u001b[0m \u001b[32m12.3/12.3 MB\u001b[0m \u001b[31m81.8 MB/s\u001b[0m eta \u001b[36m0:00:00\u001b[0m\n",
            "\u001b[2K   \u001b[90m━━━━━━━━━━━━━━━━━━━━━━━━━━━━━━━━━━━━━━━━\u001b[0m \u001b[32m310.5/310.5 kB\u001b[0m \u001b[31m4.8 MB/s\u001b[0m eta \u001b[36m0:00:00\u001b[0m\n",
            "\u001b[2K   \u001b[90m━━━━━━━━━━━━━━━━━━━━━━━━━━━━━━━━━━━━━━━━\u001b[0m \u001b[32m2.2/2.2 MB\u001b[0m \u001b[31m19.6 MB/s\u001b[0m eta \u001b[36m0:00:00\u001b[0m\n",
            "\u001b[2K   \u001b[90m━━━━━━━━━━━━━━━━━━━━━━━━━━━━━━━━━━━━━━━━\u001b[0m \u001b[32m48.7/48.7 MB\u001b[0m \u001b[31m18.0 MB/s\u001b[0m eta \u001b[36m0:00:00\u001b[0m\n",
            "\u001b[2K     \u001b[90m━━━━━━━━━━━━━━━━━━━━━━━━━━━━━━━━━━━━━━━━\u001b[0m \u001b[32m149.4/149.4 kB\u001b[0m \u001b[31m3.3 MB/s\u001b[0m eta \u001b[36m0:00:00\u001b[0m\n",
            "\u001b[2K   \u001b[90m━━━━━━━━━━━━━━━━━━━━━━━━━━━━━━━━━━━━━━━━\u001b[0m \u001b[32m3.0/3.0 MB\u001b[0m \u001b[31m41.8 MB/s\u001b[0m eta \u001b[36m0:00:00\u001b[0m\n",
            "\u001b[2K   \u001b[90m━━━━━━━━━━━━━━━━━━━━━━━━━━━━━━━━━━━━━━━━\u001b[0m \u001b[32m340.8/340.8 kB\u001b[0m \u001b[31m22.4 MB/s\u001b[0m eta \u001b[36m0:00:00\u001b[0m\n",
            "\u001b[2K   \u001b[90m━━━━━━━━━━━━━━━━━━━━━━━━━━━━━━━━━━━━━━━━\u001b[0m \u001b[32m434.9/434.9 kB\u001b[0m \u001b[31m28.7 MB/s\u001b[0m eta \u001b[36m0:00:00\u001b[0m\n",
            "\u001b[2K   \u001b[90m━━━━━━━━━━━━━━━━━━━━━━━━━━━━━━━━━━━━━━━━\u001b[0m \u001b[32m2.1/2.1 MB\u001b[0m \u001b[31m67.2 MB/s\u001b[0m eta \u001b[36m0:00:00\u001b[0m\n",
            "\u001b[2K   \u001b[90m━━━━━━━━━━━━━━━━━━━━━━━━━━━━━━━━━━━━━━━━\u001b[0m \u001b[32m69.4/69.4 kB\u001b[0m \u001b[31m5.1 MB/s\u001b[0m eta \u001b[36m0:00:00\u001b[0m\n",
            "\u001b[2K   \u001b[90m━━━━━━━━━━━━━━━━━━━━━━━━━━━━━━━━━━━━━━━━\u001b[0m \u001b[32m130.5/130.5 kB\u001b[0m \u001b[31m9.0 MB/s\u001b[0m eta \u001b[36m0:00:00\u001b[0m\n",
            "\u001b[?25h"
          ]
        }
      ],
      "source": [
        "! pip install -q qiskit\n",
        "! pip install -q qiskit-aer\n",
        "! pip install -q qiskit-algorithms\n",
        "! pip install -q qiskit-nature\n",
        "! pip install -q qiskit-nature-pyscf # install the pyscf library\n",
        "! pip install -q qiskit-ibm-runtime\n",
        "# print(qiskit.__version__)\n",
        "# print(qiskit_aer.__version__)\n",
        "# print(qiskit_algorithms.__version__)\n",
        "# print(qiskit_nature.__version__)\n",
        "# print(qiskit_nature_pyscf.__version__)\n",
        "# print(qiskit_ibm_runtime.__version__)\n"
      ]
    },
    {
      "cell_type": "code",
      "source": [
        "import qiskit_nature\n",
        "import qiskit\n",
        "import qiskit_aer\n",
        "import qiskit_algorithms\n",
        "import qiskit_ibm_runtime\n",
        "import qiskit_nature_pyscf\n",
        "from qiskit_algorithms.minimum_eigensolvers import NumPyMinimumEigensolver, VQE\n",
        "from qiskit_nature.second_q.transformers import FreezeCoreTransformer\n",
        "from qiskit_nature.second_q.formats.molecule_info import MoleculeInfo\n",
        "from qiskit_nature.second_q.mappers import ParityMapper\n",
        "from qiskit_nature.second_q.circuit.library import UCCSD, HartreeFock\n",
        "from qiskit_nature.second_q.drivers import PySCFDriver\n",
        "from qiskit.circuit.library import EfficientSU2\n",
        "import numpy as np\n",
        "import matplotlib.pyplot as plt\n",
        "from qiskit_nature.second_q.algorithms import GroundStateEigensolver\n",
        "from qiskit_nature.units import DistanceUnit\n",
        "from qiskit_nature.second_q.mappers import JordanWignerMapper\n",
        "from qiskit_aer import  AerSimulator\n",
        "# from qiskit_nature.second_q.algorithms import VQEUCCFactory\n",
        "from qiskit_algorithms.optimizers import SLSQP\n",
        "from qiskit_aer.primitives import Estimator\n",
        "from qiskit_nature.units import DistanceUnit\n",
        "from qiskit_nature.second_q.drivers import PySCFDriver\n",
        "from qiskit_nature.second_q.problems import ElectronicBasis\n",
        "from qiskit_nature.second_q.transformers import ActiveSpaceTransformer\n",
        "from qiskit_nature.second_q.mappers import ParityMapper\n",
        "from scipy.linalg import eigh\n",
        "from qiskit_nature.second_q.circuit.library import HartreeFock\n",
        "from scipy.linalg import expm\n",
        "from qiskit.quantum_info import Statevector\n",
        "from numpy import pi"
      ],
      "metadata": {
        "id": "sKy9wL8C2qpG"
      },
      "execution_count": 6,
      "outputs": []
    },
    {
      "cell_type": "markdown",
      "source": [
        "# Analysis of Li atom in 10 spin orbitals:"
      ],
      "metadata": {
        "id": "9ht9aIIQw6fT"
      }
    },
    {
      "cell_type": "code",
      "source": [
        "mdriver = PySCFDriver(\n",
        "    atom=\"Li 0.0 0.0 0.0\",  # Specify the atom and its coordinates\n",
        "    basis=\"sto3g\",          # Define the basis set\n",
        "    charge=0,                # Set the charge of the atom\n",
        "    spin=1,                 # Set the spin of the atom\n",
        "    unit=DistanceUnit.ANGSTROM, # Define the unit of the coordinates\n",
        ")\n",
        "\n",
        "# You can now use the driver to run a calculation\n",
        "electronic_structure_problem = mdriver.run()"
      ],
      "metadata": {
        "id": "O9osQyH_mYgX"
      },
      "execution_count": 62,
      "outputs": []
    },
    {
      "cell_type": "code",
      "source": [
        "print(\"Spatial orbitals:\", electronic_structure_problem.num_spatial_orbitals)\n",
        "print(\"Number of up spin: \", electronic_structure_problem.num_alpha)\n",
        "print(\"Number of down spin: \", electronic_structure_problem.num_beta)\n",
        "print(\"\\n\")\n",
        "print(\"Down spin configuration : \", electronic_structure_problem.orbital_occupations_b)\n",
        "print(\"Down spin configuration : \",electronic_structure_problem.orbital_occupations)\n",
        "print(\"Number of particles: \", electronic_structure_problem.num_particles)\n",
        "# print(electronic_structure_problem.second_q_ops()[0])"
      ],
      "metadata": {
        "colab": {
          "base_uri": "https://localhost:8080/"
        },
        "id": "FwFma9X-nCAo",
        "outputId": "01bd41d2-0c77-43a4-a627-fcd3d9e9f263"
      },
      "execution_count": 63,
      "outputs": [
        {
          "output_type": "stream",
          "name": "stdout",
          "text": [
            "Spatial orbitals: 5\n",
            "Number of up spin:  2\n",
            "Number of down spin:  1\n",
            "\n",
            "\n",
            "Down spin configuration :  [1. 0. 0. 0. 0.]\n",
            "Down spin configuration :  [1. 1. 0. 0. 0.]\n",
            "Number of particles:  (2, 1)\n"
          ]
        }
      ]
    },
    {
      "cell_type": "code",
      "source": [
        "from qiskit_algorithms import NumPyMinimumEigensolver\n",
        "from qiskit_nature.second_q.algorithms import GroundStateEigensolver\n",
        "from qiskit_nature.second_q.mappers import JordanWignerMapper\n",
        "\n",
        "solver = GroundStateEigensolver(\n",
        "    JordanWignerMapper(),\n",
        "    NumPyMinimumEigensolver(),\n",
        ")\n",
        "\n",
        "result = solver.solve(electronic_structure_problem)\n",
        "print(result)\n",
        "print(\"HF energy : \", electronic_structure_problem.reference_energy)"
      ],
      "metadata": {
        "colab": {
          "base_uri": "https://localhost:8080/"
        },
        "id": "syYuE37AHB3t",
        "outputId": "2b33f4e5-e5b5-44c1-c7f4-eb9446b3d956"
      },
      "execution_count": 64,
      "outputs": [
        {
          "output_type": "stream",
          "name": "stdout",
          "text": [
            "=== GROUND STATE ENERGY ===\n",
            " \n",
            "* Electronic ground state energy (Hartree): -7.315836552851\n",
            "  - computed part:      -7.315836552851\n",
            "~ Nuclear repulsion energy (Hartree): 0.0\n",
            "> Total ground state energy (Hartree): -7.315836552851\n",
            " \n",
            "=== MEASURED OBSERVABLES ===\n",
            " \n",
            "  0:  # Particles: 3.000 S: 0.500 S^2: 0.750 M: -0.427\n",
            " \n",
            "=== DIPOLE MOMENTS ===\n",
            " \n",
            "~ Nuclear dipole moment (a.u.): [0.0  0.0  0.0]\n",
            " \n",
            "  0: \n",
            "  * Electronic dipole moment (a.u.): [0.0  0.0  0.0]\n",
            "    - computed part:      [0.0  0.0  0.0]\n",
            "  > Dipole moment (a.u.): [0.0  0.0  0.0]  Total: 0.0\n",
            "                 (debye): [0.0  0.0  0.0]  Total: 0.0\n",
            " \n",
            "HF energy :  -7.315525981281089\n"
          ]
        }
      ]
    },
    {
      "cell_type": "code",
      "source": [
        "mapper = JordanWignerMapper()\n",
        "qubit_hamiltonian = mapper.map(electronic_structure_problem.second_q_ops()[0])\n",
        "state = HartreeFock(electronic_structure_problem.num_spatial_orbitals, electronic_structure_problem.num_particles, mapper)\n",
        "print(state)"
      ],
      "metadata": {
        "colab": {
          "base_uri": "https://localhost:8080/"
        },
        "id": "JZdyF3s6oxkV",
        "outputId": "17df86df-851d-43f4-d7b0-ff60a46ba07b"
      },
      "execution_count": 80,
      "outputs": [
        {
          "output_type": "stream",
          "name": "stdout",
          "text": [
            "     ┌───┐\n",
            "q_0: ┤ X ├\n",
            "     ├───┤\n",
            "q_1: ┤ X ├\n",
            "     └───┘\n",
            "q_2: ─────\n",
            "          \n",
            "q_3: ─────\n",
            "          \n",
            "q_4: ─────\n",
            "     ┌───┐\n",
            "q_5: ┤ X ├\n",
            "     └───┘\n",
            "q_6: ─────\n",
            "          \n",
            "q_7: ─────\n",
            "          \n",
            "q_8: ─────\n",
            "          \n",
            "q_9: ─────\n",
            "          \n"
          ]
        }
      ]
    },
    {
      "cell_type": "code",
      "source": [
        "statevector = Statevector(state)\n",
        "k = 5\n",
        "E_sub = np.zeros((k, k), dtype=complex)\n",
        "S_sub = np.zeros((k, k), dtype=complex)\n",
        "for i in range(k):\n",
        "    for j in range(k):\n",
        "        U = expm(-(i-j)*pi*1j*qubit_hamiltonian/0.085)\n",
        "\n",
        "        # Apply the unitary operator to the statevector using evolve()\n",
        "        evolved_statevector = statevector.evolve(U)\n",
        "\n",
        "        # Now you can access the data of the evolved statevector\n",
        "        S_sub[i, j] = statevector.expectation_value(U)\n",
        "\n",
        "        # Now apply hamiltonian to evolved state\n",
        "        evolved_statevector = evolved_statevector.evolve(qubit_hamiltonian)\n",
        "        E_sub[i, j] = statevector.inner(evolved_statevector)\n",
        "\n",
        "print(E_sub)\n",
        "print(S_sub)\n"
      ],
      "metadata": {
        "colab": {
          "base_uri": "https://localhost:8080/"
        },
        "id": "fJmg1vaapDuX",
        "outputId": "a91fb1b2-1d98-4b08-e634-1f35243cac46"
      },
      "execution_count": 81,
      "outputs": [
        {
          "output_type": "stream",
          "name": "stdout",
          "text": [
            "[[-7.31552598+0.j         -7.14523212+1.56621826j -6.64441819+3.05861046j\n",
            "  -5.83626182+4.41044661j -4.75619586+5.55769654j]\n",
            " [-7.14523212-1.56621826j -7.31552598+0.j         -7.14523212+1.56621826j\n",
            "  -6.64441819+3.05861046j -5.83626182+4.41044661j]\n",
            " [-6.64441819-3.05861046j -7.14523212-1.56621826j -7.31552598+0.j\n",
            "  -7.14523212+1.56621826j -6.64441819+3.05861046j]\n",
            " [-5.83626182-4.41044661j -6.64441819-3.05861046j -7.14523212-1.56621826j\n",
            "  -7.31552598+0.j         -7.14523212+1.56621826j]\n",
            " [-4.75619586-5.55769654j -5.83626182-4.41044661j -6.64441819-3.05861046j\n",
            "  -7.14523212-1.56621826j -7.31552598+0.j        ]]\n",
            "[[1.        +0.j         0.9766716 -0.21411002j 0.90820705-0.41805525j\n",
            "  0.79777859-0.60287216j 0.65009961-0.75971331j]\n",
            " [0.9766716 +0.21411002j 1.        +0.j         0.9766716 -0.21411002j\n",
            "  0.90820705-0.41805525j 0.79777859-0.60287216j]\n",
            " [0.90820705+0.41805525j 0.9766716 +0.21411002j 1.        +0.j\n",
            "  0.9766716 -0.21411002j 0.90820705-0.41805525j]\n",
            " [0.79777859+0.60287216j 0.90820705+0.41805525j 0.9766716 +0.21411002j\n",
            "  1.        +0.j         0.9766716 -0.21411002j]\n",
            " [0.65009961+0.75971331j 0.79777859+0.60287216j 0.90820705+0.41805525j\n",
            "  0.9766716 +0.21411002j 1.        +0.j        ]]\n"
          ]
        }
      ]
    },
    {
      "cell_type": "code",
      "source": [
        "def regularize_matrix(matrix, epsilon=1e-10):\n",
        "    matrix += epsilon * np.eye(matrix.shape[0])\n",
        "    return matrix\n",
        "S_sub = regularize_matrix(S_sub)\n",
        "\n",
        "eigenvalues, eigenvectors = eigh(E_sub, S_sub)\n",
        "print(eigenvalues)\n",
        "print(eigenvectors)\n",
        "# print(eigenvalues[0]- eigenvalues[1])"
      ],
      "metadata": {
        "colab": {
          "base_uri": "https://localhost:8080/"
        },
        "id": "lpZu5NceplFC",
        "outputId": "065998ee-fbe5-407b-80d8-0ed6c925906d"
      },
      "execution_count": 83,
      "outputs": [
        {
          "output_type": "stream",
          "name": "stdout",
          "text": [
            "[-7.31583655 -5.28870908 -4.98727736 -1.83885172  0.01163877]\n",
            "[[-3.15240879e-01-4.14863141e-01j  5.99088098e+01-9.21299517e+01j\n",
            "  -1.63108060e+01+9.67232641e+00j -5.57584998e+01-3.80288654e+01j\n",
            "   2.92842150e+04+3.27256565e+01j]\n",
            " [-1.08388625e-01-5.99091598e-02j  2.69267204e+01+1.19130860e+01j\n",
            "   1.58851924e+01-1.84715674e+01j -2.10957044e+01+7.89950290e+01j\n",
            "  -4.78495113e+04-2.32890201e+04j]\n",
            " [-1.20068368e-01-5.52750999e-02j  6.99988740e+00+3.70460829e+01j\n",
            "   1.01034625e+01+1.94844662e+01j  4.97578758e+01+5.54551032e+01j\n",
            "   3.03701793e+04+4.14069311e+04j]\n",
            " [-1.15994681e-01-4.33877772e-02j -2.07235079e+01+2.09166425e+01j\n",
            "  -2.42500284e+01+2.34006778e+00j  8.08112424e+01-1.24425246e+01j\n",
            "  -7.83798451e+03-5.26357311e+04j]\n",
            " [-5.20164800e-01+3.02744434e-02j -8.93943974e+01-6.39189797e+01j\n",
            "   1.73034909e+01-7.75796017e+00j -3.17858123e+01-5.95388597e+01j\n",
            "  -8.76650707e+03+2.79412719e+04j]]\n"
          ]
        }
      ]
    },
    {
      "cell_type": "code",
      "source": [
        "exact_eva, exact_eve = eigh(qubit_hamiltonian.to_matrix())\n",
        "print(exact_eva)"
      ],
      "metadata": {
        "id": "8NOSold_X9xW",
        "colab": {
          "base_uri": "https://localhost:8080/"
        },
        "outputId": "fff614a6-af9c-46a5-c666-d4ec2d8f85dc"
      },
      "execution_count": 84,
      "outputs": [
        {
          "output_type": "stream",
          "name": "stdout",
          "text": [
            "[-7.31583655e+00 -7.31583655e+00 -7.25379126e+00 ... -4.90501018e-01\n",
            "  1.38777878e-15  3.77428002e-01]\n"
          ]
        }
      ]
    },
    {
      "cell_type": "code",
      "source": [
        "import matplotlib.pyplot as plt\n",
        "import numpy as np\n",
        "\n",
        "\n",
        "states = np.arange(len(exact_eva))  # Create state indices (0, 1, 2, ...)\n",
        "kstate = np.arange(len(eigenvalues))\n",
        "\n",
        "# Create a scatter plot\n",
        "plt.figure(figsize=(12, 10))\n",
        "plt.scatter(states, exact_eva, color=\"red\", label=\"Eigenvalues\", marker=\"o\", s=5)\n",
        "plt.scatter(kstate, eigenvalues, color=\"blue\", label=\"KQD\", marker=\"x\", s=9)\n",
        "# Add labels and title\n",
        "for val in eigenvalues:\n",
        "    plt.hlines(y=val, xmin=-10, xmax=1024, colors='blue', linestyles='--', linewidth=1.5)\n",
        "\n",
        "plt.xlabel(\"State Index\")\n",
        "plt.ylabel(\"Eigenvalue (Hartree)\")\n",
        "plt.title(\"Eigenvalues\")\n",
        "# plt.grid(True)\n",
        "plt.legend()\n",
        "\n",
        "# Show the plot\n",
        "plt.show()\n"
      ],
      "metadata": {
        "id": "XfjJyg4bYTzA",
        "colab": {
          "base_uri": "https://localhost:8080/",
          "height": 872
        },
        "outputId": "b3c4aeab-b389-463e-9aac-856fc1c88870"
      },
      "execution_count": 85,
      "outputs": [
        {
          "output_type": "display_data",
          "data": {
            "text/plain": [
              "<Figure size 1200x1000 with 1 Axes>"
            ],
            "image/png": "[encoded data removed]"
          },
          "metadata": {}
        }
      ]
    },
    {
      "cell_type": "code",
      "source": [
        "eigenvalues"
      ],
      "metadata": {
        "id": "1bqAQ6aOAY0W",
        "colab": {
          "base_uri": "https://localhost:8080/"
        },
        "outputId": "db15e086-5ff7-4de9-907e-7a0f7d5d0182"
      },
      "execution_count": 86,
      "outputs": [
        {
          "output_type": "execute_result",
          "data": {
            "text/plain": [
              "array([-7.31583655, -5.28870908, -4.98727736, -1.83885172,  0.01163877])"
            ]
          },
          "metadata": {},
          "execution_count": 86
        }
      ]
    },
    {
      "cell_type": "code",
      "source": [
        "from scipy.linalg import norm\n",
        "# Here 10 is the number of spin orbitals to used in our calculation\n",
        "\n",
        "psi_i = Statevector([0] *(2**10))\n",
        "# print(norm(eigenvectors[0]))\n",
        "for i in range(k):\n",
        "    evolved_statevector = statevector.evolve(U)\n",
        "    psi_i += eigenvectors[0][i] / norm(eigenvectors[0]) * evolved_statevector\n",
        "print(\"Unnormalised state:\", psi_i.data)\n",
        "print(\"Norm of state:\", abs(psi_i.inner(psi_i.conjugate())))\n",
        "print(\"Ground state energy calculate from state:\", psi_i.expectation_value(qubit_hamiltonian)/abs(psi_i.inner(psi_i.conjugate())))"
      ],
      "metadata": {
        "colab": {
          "base_uri": "https://localhost:8080/"
        },
        "id": "1BTLK4vD-ssT",
        "outputId": "735d1688-bebf-4680-da47-b1f25366ac39"
      },
      "execution_count": 87,
      "outputs": [
        {
          "output_type": "stream",
          "name": "stdout",
          "text": [
            "Unnormalised state: [0.+0.j 0.+0.j 0.+0.j ... 0.+0.j 0.+0.j 0.+0.j]\n",
            "Norm of state: 0.9991361576776318\n",
            "Ground state energy calculate from state: (-7.315525981281087+0j)\n"
          ]
        }
      ]
    },
    {
      "cell_type": "code",
      "source": [
        "psi_norm = abs(psi_i.inner(psi_i.conjugate()))\n",
        "gs = psi_i/(psi_norm)**0.5\n",
        "print(\"Normalised ground state:\",gs.data)\n",
        "print(\"Ground state energy:\",gs.expectation_value(qubit_hamiltonian))\n",
        "print(abs(gs.inner(gs.conjugate())))"
      ],
      "metadata": {
        "colab": {
          "base_uri": "https://localhost:8080/"
        },
        "id": "DW9wqSgDCDFX",
        "outputId": "3be02a48-5c5b-4936-ee91-20dd448711bd"
      },
      "execution_count": 88,
      "outputs": [
        {
          "output_type": "stream",
          "name": "stdout",
          "text": [
            "Normalised ground state: [0.+0.j 0.+0.j 0.+0.j ... 0.+0.j 0.+0.j 0.+0.j]\n",
            "Ground state energy: (-7.315525981281091+0j)\n",
            "1.0\n"
          ]
        }
      ]
    },
    {
      "cell_type": "code",
      "source": [
        "gs_state = gs.to_dict()\n",
        "gs_state"
      ],
      "metadata": {
        "id": "CW3qTHtxHH3K",
        "colab": {
          "base_uri": "https://localhost:8080/"
        },
        "outputId": "a75a2132-5449-4b5e-c12c-62f31fa93dc1"
      },
      "execution_count": 89,
      "outputs": [
        {
          "output_type": "execute_result",
          "data": {
            "text/plain": [
              "{'0000100011': (0.9999954630102624-0.003012301261628546j)}"
            ]
          },
          "metadata": {},
          "execution_count": 89
        }
      ]
    },
    {
      "cell_type": "code",
      "source": [
        "eigenvalues"
      ],
      "metadata": {
        "colab": {
          "base_uri": "https://localhost:8080/"
        },
        "id": "ZN2ln7smP_TI",
        "outputId": "e20d594d-e8a6-405b-a162-759828f809fd"
      },
      "execution_count": 90,
      "outputs": [
        {
          "output_type": "execute_result",
          "data": {
            "text/plain": [
              "array([-7.31583655, -5.28870908, -4.98727736, -1.83885172,  0.01163877])"
            ]
          },
          "metadata": {},
          "execution_count": 90
        }
      ]
    },
    {
      "cell_type": "code",
      "source": [
        "y = gs_state[\"0000100011\"]\n",
        "y"
      ],
      "metadata": {
        "colab": {
          "base_uri": "https://localhost:8080/"
        },
        "id": "VSadJsesIjTI",
        "outputId": "45398649-62f8-4bc2-875e-3970cfbf5e49"
      },
      "execution_count": 91,
      "outputs": [
        {
          "output_type": "execute_result",
          "data": {
            "text/plain": [
              "(0.9999954630102624-0.003012301261628546j)"
            ]
          },
          "metadata": {},
          "execution_count": 91
        }
      ]
    },
    {
      "cell_type": "code",
      "source": [
        "from pyscf import gto, scf, fci\n",
        "\n",
        "# Step 1: Define the lithium atom\n",
        "mol = gto.M(\n",
        "    atom='Li 0 0 0',  # Lithium atom at origin\n",
        "    basis='sto-3g',   # Basis set (use a small basis set for FCI for efficiency)\n",
        "    spin=1,           # 2S = spin multiplicity - 1, Li has one unpaired electron\n",
        "    charge=0          # Neutral atom\n",
        ")\n"
      ],
      "metadata": {
        "id": "u_prtHDZ73nT"
      },
      "execution_count": 92,
      "outputs": []
    },
    {
      "cell_type": "code",
      "source": [
        "# Step 2: Perform HF calculation as the starting point\n",
        "hf = scf.RHF(mol)\n",
        "hf_energy = hf.kernel()\n",
        "print(f\"Ground-state energy from Hartree-Fock (Hartree): {hf_energy}\")\n",
        "\n",
        "# Step 3: Perform FCI calculation for ground and excited states\n",
        "cisolver = fci.FCI(mol, hf.mo_coeff)  # FCI solver\n",
        "fci_energies, fci_wavefunctions = cisolver.kernel(nroots=100)  # Solve for multiple roots\n",
        "\n",
        "# Step 4: Print FCI energies\n",
        "print(\"Energies from FCI (Hartree):\")\n",
        "for i, energy in enumerate(fci_energies):\n",
        "    print(f\"  State {i + 1}: {energy}\")"
      ],
      "metadata": {
        "colab": {
          "base_uri": "https://localhost:8080/"
        },
        "id": "PzccY6uA8YFY",
        "outputId": "55117847-998d-4148-b934-90a39368866e"
      },
      "execution_count": 97,
      "outputs": [
        {
          "output_type": "stream",
          "name": "stdout",
          "text": [
            "converged SCF energy = -7.31552598128109\n",
            "Ground-state energy from Hartree-Fock (Hartree): -7.315525981281089\n",
            "Energies from FCI (Hartree):\n",
            "  State 1: -7.315836552850645\n",
            "  State 2: -7.230481653125957\n",
            "  State 3: -7.230481653125949\n",
            "  State 4: -7.230481653125942\n",
            "  State 5: -5.288723521383985\n",
            "  State 6: -5.243870403763628\n",
            "  State 7: -5.243870403763624\n",
            "  State 8: -5.243870403763618\n",
            "  State 9: -5.198357337589828\n",
            "  State 10: -5.198357337589818\n",
            "  State 11: -5.198357337589814\n",
            "  State 12: -5.124414719552961\n",
            "  State 13: -5.124414719552955\n",
            "  State 14: -5.124414719552952\n",
            "  State 15: -5.104063756009614\n",
            "  State 16: -5.10406375600961\n",
            "  State 17: -5.1040637560096025\n",
            "  State 18: -5.098925547464459\n",
            "  State 19: -5.098925547464451\n",
            "  State 20: -5.098925547464449\n",
            "  State 21: -5.082106346445229\n",
            "  State 22: -5.082106346445223\n",
            "  State 23: -5.082106346445223\n",
            "  State 24: -5.082106346445221\n",
            "  State 25: -5.082106346445219\n",
            "  State 26: -4.987278547591807\n",
            "  State 27: -1.9983944121683848\n",
            "  State 28: -1.9983944121683845\n",
            "  State 29: -1.9983944121683839\n",
            "  State 30: -1.9853968509376292\n",
            "  State 31: -1.9853968509376285\n",
            "  State 32: -1.9853968509376283\n",
            "  State 33: -1.889606259164952\n",
            "  State 34: -1.8896062591649505\n",
            "  State 35: -1.8896062591649498\n",
            "  State 36: -1.8896062591649496\n",
            "  State 37: -1.8896062591649483\n",
            "  State 38: -1.845723146432458\n",
            "  State 39: -1.838856838801249\n",
            "  State 40: -1.7990188025492024\n",
            "  State 41: -1.7990188025492013\n",
            "  State 42: -1.7990188025492\n",
            "  State 43: -1.7951157278913856\n",
            "  State 44: -1.795115727891385\n",
            "  State 45: -1.7951157278913847\n",
            "  State 46: -1.7951157278913836\n",
            "  State 47: -1.7951157278913834\n",
            "  State 48: -1.7286583726725482\n",
            "  State 49: -1.7286583726725473\n",
            "  State 50: -1.7286583726725469\n"
          ]
        }
      ]
    },
    {
      "cell_type": "code",
      "source": [
        "eigenvalues"
      ],
      "metadata": {
        "colab": {
          "base_uri": "https://localhost:8080/"
        },
        "id": "_-CGKqpaBxQw",
        "outputId": "c32c0639-fd11-49e4-d03c-406715c9ce27"
      },
      "execution_count": 94,
      "outputs": [
        {
          "output_type": "execute_result",
          "data": {
            "text/plain": [
              "array([-7.31583655, -5.28870908, -4.98727736, -1.83885172,  0.01163877])"
            ]
          },
          "metadata": {},
          "execution_count": 94
        }
      ]
    }
  ]
}